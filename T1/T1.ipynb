{
 "cells": [
  {
   "cell_type": "code",
   "execution_count": 1,
   "id": "a45bccba",
   "metadata": {},
   "outputs": [
    {
     "name": "stdout",
     "output_type": "stream",
     "text": [
      "x_train shape: (60000, 28, 28, 1)\n",
      "60000 train samples\n",
      "10000 test samples\n"
     ]
    }
   ],
   "source": [
    "import keras\n",
    "from keras.datasets import mnist\n",
    "from keras.models import Sequential\n",
    "from keras.layers import Dense, Dropout, Flatten\n",
    "from keras.layers import Conv2D, MaxPooling2D\n",
    "from keras import backend as K\n",
    "batch_size, num_classes, epochs = 128, 10, 20\n",
    "\n",
    "# input image dimensions\n",
    "img_rows, img_cols = 28, 28\n",
    "\n",
    "# the data, split between train and test sets\n",
    "(x_train, y_train), (x_test, y_test) = mnist.load_data()\n",
    "x_train = x_train.reshape(x_train.shape[0], img_rows, img_cols, 1)\n",
    "x_test = x_test.reshape(x_test.shape[0], img_rows, img_cols, 1)\n",
    "input_shape = (img_rows, img_cols, 1)\n",
    "x_train = x_train.astype('float32')\n",
    "x_test = x_test.astype('float32')\n",
    "x_train /= 255\n",
    "x_test /= 255\n",
    "print('x_train shape:', x_train.shape)\n",
    "print(x_train.shape[0], 'train samples')\n",
    "print(x_test.shape[0], 'test samples')\n",
    "\n",
    "# convert class vectors to binary class matrices\n",
    "y_train = keras.utils.to_categorical(y_train, num_classes)\n",
    "y_test = keras.utils.to_categorical(y_test, num_classes)"
   ]
  },
  {
   "cell_type": "code",
   "execution_count": 2,
   "id": "89a46eb6",
   "metadata": {},
   "outputs": [
    {
     "name": "stdout",
     "output_type": "stream",
     "text": [
      "Model: \"sequential\"\n",
      "_________________________________________________________________\n",
      "Layer (type)                 Output Shape              Param #   \n",
      "=================================================================\n",
      "conv2d (Conv2D)              (None, 26, 26, 32)        320       \n",
      "_________________________________________________________________\n",
      "conv2d_1 (Conv2D)            (None, 24, 24, 64)        18496     \n",
      "_________________________________________________________________\n",
      "max_pooling2d (MaxPooling2D) (None, 12, 12, 64)        0         \n",
      "_________________________________________________________________\n",
      "dropout (Dropout)            (None, 12, 12, 64)        0         \n",
      "_________________________________________________________________\n",
      "flatten (Flatten)            (None, 9216)              0         \n",
      "_________________________________________________________________\n",
      "dense (Dense)                (None, 128)               1179776   \n",
      "_________________________________________________________________\n",
      "dropout_1 (Dropout)          (None, 128)               0         \n",
      "_________________________________________________________________\n",
      "dense_1 (Dense)              (None, 10)                1290      \n",
      "=================================================================\n",
      "Total params: 1,199,882\n",
      "Trainable params: 1,199,882\n",
      "Non-trainable params: 0\n",
      "_________________________________________________________________\n"
     ]
    }
   ],
   "source": [
    "model = Sequential()\n",
    "model.add(Conv2D(32, kernel_size=(3, 3),activation='relu', input_shape=input_shape))\n",
    "model.add(Conv2D(64, (3, 3), activation='relu'))\n",
    "model.add(MaxPooling2D(pool_size=(2, 2)))\n",
    "model.add(Dropout(0.25))\n",
    "model.add(Flatten())\n",
    "model.add(Dense(128, activation='relu'))\n",
    "model.add(Dropout(0.5))\n",
    "model.add(Dense(num_classes, activation='softmax'))\n",
    "model.summary()"
   ]
  },
  {
   "cell_type": "code",
   "execution_count": 3,
   "id": "9f13bbb3",
   "metadata": {},
   "outputs": [
    {
     "name": "stdout",
     "output_type": "stream",
     "text": [
      "Epoch 1/20\n",
      "469/469 [==============================] - 6s 9ms/step - loss: 2.2924 - accuracy: 0.1241 - val_loss: 2.2459 - val_accuracy: 0.3511\n",
      "Epoch 2/20\n",
      "469/469 [==============================] - 3s 7ms/step - loss: 2.2412 - accuracy: 0.2397 - val_loss: 2.1800 - val_accuracy: 0.4859\n",
      "Epoch 3/20\n",
      "469/469 [==============================] - 3s 7ms/step - loss: 2.1801 - accuracy: 0.3389 - val_loss: 2.0942 - val_accuracy: 0.5590\n",
      "Epoch 4/20\n",
      "469/469 [==============================] - 3s 7ms/step - loss: 2.0941 - accuracy: 0.4176 - val_loss: 1.9793 - val_accuracy: 0.6174\n",
      "Epoch 5/20\n",
      "469/469 [==============================] - 3s 7ms/step - loss: 1.9829 - accuracy: 0.4818 - val_loss: 1.8299 - val_accuracy: 0.6618\n",
      "Epoch 6/20\n",
      "469/469 [==============================] - 3s 7ms/step - loss: 1.8442 - accuracy: 0.5315 - val_loss: 1.6510 - val_accuracy: 0.7177\n",
      "Epoch 7/20\n",
      "469/469 [==============================] - 3s 7ms/step - loss: 1.6823 - accuracy: 0.5694 - val_loss: 1.4554 - val_accuracy: 0.7553\n",
      "Epoch 8/20\n",
      "469/469 [==============================] - 3s 7ms/step - loss: 1.5222 - accuracy: 0.6007 - val_loss: 1.2659 - val_accuracy: 0.7818\n",
      "Epoch 9/20\n",
      "469/469 [==============================] - 3s 7ms/step - loss: 1.3659 - accuracy: 0.6332 - val_loss: 1.1018 - val_accuracy: 0.8043\n",
      "Epoch 10/20\n",
      "469/469 [==============================] - 3s 7ms/step - loss: 1.2416 - accuracy: 0.6538 - val_loss: 0.9686 - val_accuracy: 0.8178\n",
      "Epoch 11/20\n",
      "469/469 [==============================] - 3s 7ms/step - loss: 1.1382 - accuracy: 0.6726 - val_loss: 0.8635 - val_accuracy: 0.8285\n",
      "Epoch 12/20\n",
      "469/469 [==============================] - 3s 7ms/step - loss: 1.0482 - accuracy: 0.6963 - val_loss: 0.7814 - val_accuracy: 0.8367\n",
      "Epoch 13/20\n",
      "469/469 [==============================] - 3s 7ms/step - loss: 0.9797 - accuracy: 0.7096 - val_loss: 0.7168 - val_accuracy: 0.8450\n",
      "Epoch 14/20\n",
      "469/469 [==============================] - 3s 7ms/step - loss: 0.9219 - accuracy: 0.7264 - val_loss: 0.6646 - val_accuracy: 0.8524\n",
      "Epoch 15/20\n",
      "469/469 [==============================] - 3s 7ms/step - loss: 0.8778 - accuracy: 0.7356 - val_loss: 0.6232 - val_accuracy: 0.8568\n",
      "Epoch 16/20\n",
      "469/469 [==============================] - 3s 7ms/step - loss: 0.8384 - accuracy: 0.7461 - val_loss: 0.5883 - val_accuracy: 0.8623\n",
      "Epoch 17/20\n",
      "469/469 [==============================] - 3s 7ms/step - loss: 0.8063 - accuracy: 0.7540 - val_loss: 0.5590 - val_accuracy: 0.8667\n",
      "Epoch 18/20\n",
      "469/469 [==============================] - 3s 7ms/step - loss: 0.7772 - accuracy: 0.7638 - val_loss: 0.5345 - val_accuracy: 0.8689\n",
      "Epoch 19/20\n",
      "469/469 [==============================] - 3s 7ms/step - loss: 0.7479 - accuracy: 0.7714 - val_loss: 0.5133 - val_accuracy: 0.8725\n",
      "Epoch 20/20\n",
      "469/469 [==============================] - 3s 7ms/step - loss: 0.7229 - accuracy: 0.7805 - val_loss: 0.4949 - val_accuracy: 0.8757\n"
     ]
    },
    {
     "data": {
      "text/plain": [
       "<tensorflow.python.keras.callbacks.History at 0x20e86f23700>"
      ]
     },
     "execution_count": 3,
     "metadata": {},
     "output_type": "execute_result"
    }
   ],
   "source": [
    "#define loss function, optimizer and metric to access final model performance.\n",
    "model.compile(loss=keras.losses.categorical_crossentropy,\n",
    "optimizer=keras.optimizers.Adadelta(),\n",
    "metrics=['accuracy'])\n",
    "\n",
    "#Train model\n",
    "model.fit(x_train, y_train,\n",
    "batch_size=batch_size,\n",
    "epochs=epochs,\n",
    "verbose=1,\n",
    "validation_data=(x_test, y_test))"
   ]
  },
  {
   "cell_type": "code",
   "execution_count": 5,
   "id": "7c05913d",
   "metadata": {},
   "outputs": [
    {
     "name": "stdout",
     "output_type": "stream",
     "text": [
      "Test loss 0.49488797783851624\n",
      "Test accuracy: 0.8756999969482422\n"
     ]
    }
   ],
   "source": [
    "#Evaluate resulting model on an independent test set\n",
    "score = model.evaluate(x_test, y_test, verbose=0)\n",
    "print('Test loss', score[0])\n",
    "print('Test accuracy:', score[1])"
   ]
  },
  {
   "cell_type": "code",
   "execution_count": 6,
   "id": "970f9860",
   "metadata": {},
   "outputs": [],
   "source": [
    "K.clear_session()"
   ]
  },
  {
   "cell_type": "code",
   "execution_count": null,
   "id": "61f15127",
   "metadata": {},
   "outputs": [],
   "source": []
  }
 ],
 "metadata": {
  "kernelspec": {
   "display_name": "Python 3",
   "language": "python",
   "name": "python3"
  },
  "language_info": {
   "codemirror_mode": {
    "name": "ipython",
    "version": 3
   },
   "file_extension": ".py",
   "mimetype": "text/x-python",
   "name": "python",
   "nbconvert_exporter": "python",
   "pygments_lexer": "ipython3",
   "version": "3.8.1"
  }
 },
 "nbformat": 4,
 "nbformat_minor": 5
}
