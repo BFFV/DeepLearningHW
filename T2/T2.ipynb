{
 "cells": [
  {
   "cell_type": "markdown",
   "id": "a968a665",
   "metadata": {},
   "source": [
    "# Tarea 2 - Redes Neuronales Recurrentes (RNNs)"
   ]
  },
  {
   "cell_type": "markdown",
   "id": "c8921a88",
   "metadata": {},
   "source": [
    "## Parte 1: Detección de Spam"
   ]
  },
  {
   "cell_type": "code",
   "execution_count": 1,
   "id": "03a011f3",
   "metadata": {},
   "outputs": [],
   "source": [
    "import torch\n",
    "import random\n",
    "import time\n",
    "import matplotlib.pyplot as plt\n",
    "from torch import nn\n",
    "from torchtext.legacy import data\n",
    "\n",
    "# Use GPU\n",
    "device = torch.device('cuda:0' if torch.cuda.is_available() else 'cpu')\n",
    "\n",
    "# Text learning setup\n",
    "SEED = 1999\n",
    "torch.manual_seed(SEED)\n",
    "torch.backends.cudnn.deterministic = True\n",
    "TEXT = data.Field(tokenize='spacy', tokenizer_language='en_core_web_sm', include_lengths=True, batch_first=True)\n",
    "LABEL = data.LabelField(dtype=torch.long, batch_first=True)"
   ]
  },
  {
   "cell_type": "markdown",
   "id": "7a09d7e4",
   "metadata": {},
   "source": [
    "### Actividad 1"
   ]
  },
  {
   "cell_type": "markdown",
   "id": "504651b5",
   "metadata": {},
   "source": [
    "Se utilizará el embedding **GloVe (Global Vectors)** para las oraciones del set de entrada. Este embedding mezcla ideas de **Word2Vec** para obtener la información local entre grupos de palabras, con ideas de **LSA (Latent Semantic Analysis)** para obtener información a nivel global en el dataset. Se basa en la matriz de co-ocurrencia de las palabras dentro del dataset, buscando derivar relaciones semánticas no implícitas dentro de cada oración. Posteriormente se aplica un modelo logarítmico bilinear que intenta minimizar cuadrados, logrando mapear estas relaciones entre palabras a relaciones similares entre los vectores resultantes que se asocian a cada palabra."
   ]
  },
  {
   "cell_type": "markdown",
   "id": "503c2213",
   "metadata": {},
   "source": [
    "Para comenzar, se genera el dataset de textos de **SMS** y labels **(ham, spam)** a partir del archivo entregado:"
   ]
  },
  {
   "cell_type": "code",
   "execution_count": 2,
   "id": "5784eb52",
   "metadata": {},
   "outputs": [],
   "source": [
    "# Build dataset from tsv file\n",
    "spam_dataset = data.TabularDataset(\n",
    "    path='spam_dataset/spam', \n",
    "    format='tsv', \n",
    "    fields=[('label', LABEL), ('text', TEXT)])"
   ]
  },
  {
   "cell_type": "markdown",
   "id": "f9c1d03a",
   "metadata": {},
   "source": [
    "Como el dataset no viene separado, se deben generar manualmente los sets de entrenamiento, validación y testing:"
   ]
  },
  {
   "cell_type": "code",
   "execution_count": 3,
   "id": "08229b07",
   "metadata": {},
   "outputs": [
    {
     "name": "stdout",
     "output_type": "stream",
     "text": [
      "3902 836 836\n"
     ]
    }
   ],
   "source": [
    "# Divide between training/validation/testing (70/15/15 split)\n",
    "train_data, valid_data, test_data = spam_dataset.split(split_ratio=[0.7, 0.15, 0.15], random_state=random.seed(SEED))\n",
    "\n",
    "print(len(train_data), len(valid_data), len(test_data))"
   ]
  },
  {
   "cell_type": "markdown",
   "id": "9c81711b",
   "metadata": {},
   "source": [
    "A continuación se construye el vocabulario utilizando el embedding GloVe (versión de 100 componentes) y el set de entrenamiento:"
   ]
  },
  {
   "cell_type": "code",
   "execution_count": 4,
   "id": "5caf8e07",
   "metadata": {},
   "outputs": [],
   "source": [
    "# Build vocabulary with the GloVe embedding\n",
    "TEXT.build_vocab(train_data, vectors='glove.6B.100d', unk_init=torch.Tensor.normal_)\n",
    "LABEL.build_vocab(train_data)"
   ]
  },
  {
   "cell_type": "markdown",
   "id": "1bb0106c",
   "metadata": {},
   "source": [
    "Se puede observar que el vocabulario tiene un tamaño de 9539, donde entre las palabras más frecuentes se encuentran \"to\", \"I\", \"you\":"
   ]
  },
  {
   "cell_type": "code",
   "execution_count": 5,
   "id": "75b80ddc",
   "metadata": {},
   "outputs": [
    {
     "name": "stdout",
     "output_type": "stream",
     "text": [
      "9539\n",
      "[('.', 3486), ('to', 1488), ('I', 1395), (',', 1333), ('you', 1284), ('?', 1006), ('!', 947), ('a', 937), ('the', 827), ('...', 785), ('i', 693), ('and', 625), ('in', 577), ('is', 567), ('u', 542), ('me', 533), ('..', 464), ('for', 446), ('my', 424), ('it', 423)]\n",
      "['<unk>', '<pad>', '.', 'to', 'I', ',', 'you', '?', '!', 'a']\n",
      "defaultdict(None, {'ham': 0, 'spam': 1})\n"
     ]
    }
   ],
   "source": [
    "# Quick look at the vocabulary\n",
    "print(len(TEXT.vocab))\n",
    "print(TEXT.vocab.freqs.most_common(20))\n",
    "print(TEXT.vocab.itos[:10])\n",
    "print(LABEL.vocab.stoi)"
   ]
  },
  {
   "cell_type": "markdown",
   "id": "e0f51503",
   "metadata": {},
   "source": [
    "Finalmente, se definen los iteradores que cargarán los datos al momento de entrenar y evaluar el modelo. Para ello se utilizan batches de tamaño 64 y el **BucketIterator**, que permite minimizar el padding realizado sobre cada batch (junta oraciones de largo similar): "
   ]
  },
  {
   "cell_type": "code",
   "execution_count": 6,
   "id": "cc39cbc1",
   "metadata": {},
   "outputs": [],
   "source": [
    "# Define iterators for the data\n",
    "batch_size = 64\n",
    "\n",
    "train_iterator, valid_iterator, test_iterator = data.BucketIterator.splits(\n",
    "    (train_data, valid_data, test_data), \n",
    "    batch_size=batch_size,\n",
    "    sort_key=lambda x: len(x.text),\n",
    "    sort_within_batch=True,\n",
    "    device=device)"
   ]
  },
  {
   "cell_type": "markdown",
   "id": "b20c65a9",
   "metadata": {},
   "source": [
    "### Actividad 2"
   ]
  },
  {
   "cell_type": "markdown",
   "id": "1bbb5f2a",
   "metadata": {},
   "source": [
    "Ahora se define el modelo de la RNN a utilizar para este problema. Se crea una clase que permite instanciar modelos con RNN tanto simples como de tipo **LSTM (Long Short Term Memory)**, permitiendo ajustar la dimensionalidad de entrada, embedding, capas ocultas, capa densa y salida. Además, es posible elegir el número de capas y si la red es bidireccional:"
   ]
  },
  {
   "cell_type": "code",
   "execution_count": 7,
   "id": "53212d19",
   "metadata": {},
   "outputs": [],
   "source": [
    "# Recurrent Neural Network\n",
    "class RNN(nn.Module):\n",
    "    def __init__(self, input_dim, embedding_dim, hidden_dim, dense_dim, output_dim, num_layers=1, \n",
    "                 lstm=False, bidirectional=False, dropout=0.5, pad_idx=None):\n",
    "        super().__init__()\n",
    "        \n",
    "        # Model information\n",
    "        self.hidden_dim = hidden_dim\n",
    "        self.bidirectional = bidirectional\n",
    "        self.num_layers = num_layers\n",
    "        self.n_directions = 1\n",
    "        if bidirectional:\n",
    "            self.n_directions = 2\n",
    "        \n",
    "        # Embedding layer\n",
    "        self.embedding = nn.Embedding(input_dim, embedding_dim, padding_idx=pad_idx)\n",
    "        \n",
    "        # Dropout settings\n",
    "        dropout_value = 0\n",
    "        if num_layers > 1:\n",
    "            dropout_value = dropout\n",
    "        \n",
    "        # RNN type (Normal/LSTM)\n",
    "        self.lstm = lstm\n",
    "        if lstm:\n",
    "            self.rnn = nn.LSTM(embedding_dim, \n",
    "                              hidden_dim, \n",
    "                              num_layers=num_layers, \n",
    "                              bidirectional=bidirectional, \n",
    "                              dropout=dropout_value,\n",
    "                              batch_first=True)\n",
    "        else:\n",
    "            self.rnn = nn.RNN(embedding_dim, \n",
    "                              hidden_dim, \n",
    "                              num_layers=num_layers, \n",
    "                              bidirectional=bidirectional, \n",
    "                              dropout=dropout_value,\n",
    "                              batch_first=True)\n",
    "\n",
    "        # Dense layers for classification\n",
    "        self.dense = nn.Linear(hidden_dim * self.n_directions, dense_dim)\n",
    "        self.linear_out = nn.Linear(dense_dim, output_dim)\n",
    "    \n",
    "    # Forward pass of the RNN\n",
    "    def forward(self, text, text_lengths):\n",
    "        # Pad sequence\n",
    "        embedded = self.embedding(text)\n",
    "        packed_embedded = nn.utils.rnn.pack_padded_sequence(embedded, text_lengths.to('cpu'), batch_first=True)\n",
    "        \n",
    "        # RNN type\n",
    "        if self.lstm:\n",
    "            packed_output, (hidden, cell) = self.rnn(packed_embedded)\n",
    "        else:\n",
    "            packed_output, hidden = self.rnn(packed_embedded)\n",
    "        \n",
    "        # Final state\n",
    "        hidden = hidden.view(self.num_layers, self.n_directions, text.shape[0], self.hidden_dim)[-1]\n",
    "          \n",
    "        # Directions\n",
    "        if self.bidirectional:\n",
    "            hidden = torch.cat((hidden[-2,:,:], hidden[-1,:,:]), dim=1)\n",
    "        else:\n",
    "            hidden = hidden.squeeze(0)\n",
    "        \n",
    "        # Dense layer\n",
    "        dense = self.dense(hidden)\n",
    "        return self.linear_out(dense)\n",
    "\n",
    "# Check the number of trainable parameters in a model\n",
    "def num_trainable_parameters(model):\n",
    "    return sum(p.numel() for p in model.parameters() if p.requires_grad)"
   ]
  },
  {
   "cell_type": "markdown",
   "id": "b666a831",
   "metadata": {},
   "source": [
    "Se instancia el modelo para una RNN simple con los parámetros pedidos, y con el output de tamaño 2 (ham y spam), para que más adelante sea posible aplicar la función SoftMax:"
   ]
  },
  {
   "cell_type": "code",
   "execution_count": 8,
   "id": "1f3e34ed",
   "metadata": {},
   "outputs": [
    {
     "name": "stdout",
     "output_type": "stream",
     "text": [
      "Trainable Parameters: 973442\n"
     ]
    }
   ],
   "source": [
    "# Simple RNN model\n",
    "input_dim = len(TEXT.vocab)\n",
    "embedding_dim = 100\n",
    "hidden_dim = 80\n",
    "dense_dim = 60\n",
    "output_dim = 2\n",
    "num_layers = 1\n",
    "pad_idx = TEXT.vocab.stoi[TEXT.pad_token]\n",
    "\n",
    "simple_model = RNN(input_dim, embedding_dim, hidden_dim, dense_dim, output_dim, num_layers=num_layers, pad_idx=pad_idx)\n",
    "print(f'Trainable Parameters: {num_trainable_parameters(simple_model)}')"
   ]
  },
  {
   "cell_type": "markdown",
   "id": "ebe20d33",
   "metadata": {},
   "source": [
    "Podemos observar que el modelo tiene 973442 parámetros entrenables. Este número **depende del dataset**, puesto que si se cambia la cantidad de palabras del vocabulario, la capa de embedding también cambiará su dimensionalidad y su cantidad de parámetros (independiente de la dimensionalidad de salida de la capa). Si se quisiera reducir la cantidad de parámetros sin modificar la dimensionalidad del estado interno, se podría reducir la cantidad de neuronas de la capa densa (actualmente 60), así como también disminuir la dimensionalidad de los vectores del embedding y/o el tamaño del vocabulario generado."
   ]
  },
  {
   "cell_type": "code",
   "execution_count": 9,
   "id": "b051b100",
   "metadata": {},
   "outputs": [
    {
     "name": "stdout",
     "output_type": "stream",
     "text": [
      "Trainable Parameters: 968960\n"
     ]
    }
   ],
   "source": [
    "# Simple RNN model with less params\n",
    "input_dim = len(TEXT.vocab)\n",
    "embedding_dim = 100\n",
    "hidden_dim = 80\n",
    "dense_dim = 6\n",
    "output_dim = 2\n",
    "num_layers = 1\n",
    "pad_idx = TEXT.vocab.stoi[TEXT.pad_token]\n",
    "\n",
    "simple_model = RNN(input_dim, embedding_dim, hidden_dim, dense_dim, output_dim, num_layers=num_layers, pad_idx=pad_idx)\n",
    "print(f'Trainable Parameters: {num_trainable_parameters(simple_model)}')"
   ]
  },
  {
   "cell_type": "markdown",
   "id": "8d39aa40",
   "metadata": {},
   "source": [
    "En este caso se redujo el número de parámetros simplemente disminuyendo el tamaño de la capa densa. Ahora se vuelve al modelo original, pero aumentando la dimensionalidad del estado oculto de la red a 120:"
   ]
  },
  {
   "cell_type": "code",
   "execution_count": 18,
   "id": "30aa5120",
   "metadata": {},
   "outputs": [
    {
     "name": "stdout",
     "output_type": "stream",
     "text": [
      "Trainable Parameters: 987922\n"
     ]
    }
   ],
   "source": [
    "# Simple RNN model with more params\n",
    "input_dim = len(TEXT.vocab)\n",
    "embedding_dim = 100\n",
    "hidden_dim = 120\n",
    "dense_dim = 60\n",
    "output_dim = 2\n",
    "num_layers = 1\n",
    "pad_idx = TEXT.vocab.stoi[TEXT.pad_token]\n",
    "\n",
    "simple_model = RNN(input_dim, embedding_dim, hidden_dim, dense_dim, output_dim, num_layers=num_layers, pad_idx=pad_idx)\n",
    "print(f'Trainable Parameters: {num_trainable_parameters(simple_model)}')"
   ]
  },
  {
   "cell_type": "markdown",
   "id": "5de0c998",
   "metadata": {},
   "source": [
    "Como era de esperar, la cantidad de parámetros aumenta junto con el tamaño de las capas ocultas, debido a que se tienen más pesos intermedios que ajustar al momento de moverse dentro de la red por cada palabra de cada frase."
   ]
  },
  {
   "cell_type": "markdown",
   "id": "42738628",
   "metadata": {},
   "source": [
    "Se completa el modelo cargando los pesos de los vectores pre-entrenados por el método GloVe:"
   ]
  },
  {
   "cell_type": "code",
   "execution_count": 19,
   "id": "bbf02de2",
   "metadata": {},
   "outputs": [
    {
     "name": "stdout",
     "output_type": "stream",
     "text": [
      "torch.Size([9539, 100])\n",
      "tensor([[ 0.0000,  0.0000,  0.0000,  ...,  0.0000,  0.0000,  0.0000],\n",
      "        [ 0.0000,  0.0000,  0.0000,  ...,  0.0000,  0.0000,  0.0000],\n",
      "        [-0.3398,  0.2094,  0.4635,  ..., -0.2339,  0.4730, -0.0288],\n",
      "        ...,\n",
      "        [-0.0346,  0.2088,  0.2014,  ..., -0.6978,  0.3013, -0.5122],\n",
      "        [-0.0426, -0.0842, -0.3309,  ..., -0.9232,  0.0126,  0.2147],\n",
      "        [ 0.0147,  0.1726,  1.1608,  ..., -0.4003,  0.7675,  0.7384]])\n"
     ]
    }
   ],
   "source": [
    "# Load embedding data for GloVe into the model\n",
    "pretrained_embeddings = TEXT.vocab.vectors\n",
    "print(pretrained_embeddings.shape)\n",
    "simple_model.embedding.weight.data.copy_(pretrained_embeddings)\n",
    "\n",
    "# Special indexes are replaced with zeros\n",
    "unk_idx = TEXT.vocab.stoi[TEXT.unk_token]\n",
    "simple_model.embedding.weight.data[unk_idx] = torch.zeros(embedding_dim)\n",
    "simple_model.embedding.weight.data[pad_idx] = torch.zeros(embedding_dim)\n",
    "print(simple_model.embedding.weight.data)"
   ]
  },
  {
   "cell_type": "markdown",
   "id": "4b707029",
   "metadata": {},
   "source": [
    "### Actividad 3"
   ]
  },
  {
   "cell_type": "markdown",
   "id": "27a46692",
   "metadata": {},
   "source": [
    "Se definen funciones de utilidad para entrenar y testear el modelo por épocas, guardando las métricas de pérdida y precisión:"
   ]
  },
  {
   "cell_type": "code",
   "execution_count": 12,
   "id": "57df5512",
   "metadata": {},
   "outputs": [],
   "source": [
    "# Round the output value to binary values\n",
    "def binary_accuracy(preds, y):\n",
    "    rounded_preds = torch.round(preds)\n",
    "    _, pred_labels = torch.max(rounded_preds, dim=1)\n",
    "    correct = (pred_labels == y).float()\n",
    "    acc = correct.sum() / len(correct)\n",
    "    return acc\n",
    "\n",
    "# Calculate epoch time\n",
    "def epoch_time(start_time, end_time):\n",
    "    elapsed_time = end_time - start_time\n",
    "    elapsed_mins = int(elapsed_time / 60)\n",
    "    elapsed_secs = int(elapsed_time - (elapsed_mins * 60))\n",
    "    return elapsed_mins, elapsed_secs\n",
    "\n",
    "# Train for one epoch\n",
    "def train(model, iterator, optimizer, criterion):\n",
    "    epoch_loss = 0\n",
    "    epoch_acc = 0\n",
    "    model.train()  # Training mode\n",
    "    for batch in iterator:\n",
    "        # Reset gradients & predict\n",
    "        optimizer.zero_grad()\n",
    "        text, text_lengths = batch.text\n",
    "        predictions = model(text, text_lengths).squeeze(1)\n",
    "        \n",
    "        # Compute loss & accuracy, run backprop and update weights\n",
    "        loss = criterion(predictions, batch.label)\n",
    "        acc = binary_accuracy(predictions, batch.label)\n",
    "        loss.backward()\n",
    "        optimizer.step()\n",
    "        \n",
    "        # Metrics\n",
    "        epoch_loss += loss.item()\n",
    "        epoch_acc += acc.item()\n",
    "    return epoch_loss / len(iterator), epoch_acc / len(iterator)\n",
    "\n",
    "# Test for one epoch\n",
    "def test(model, iterator, criterion):\n",
    "    epoch_loss = 0\n",
    "    epoch_acc = 0\n",
    "    model.eval()  # Eval mode\n",
    "    with torch.no_grad():\n",
    "        for batch in iterator:\n",
    "            # Get predictions\n",
    "            text, text_lengths = batch.text\n",
    "            predictions = model(text, text_lengths).squeeze(1)\n",
    "            \n",
    "            # Compute loss & accuracy\n",
    "            loss = criterion(predictions, batch.label)\n",
    "            acc = binary_accuracy(predictions, batch.label)\n",
    "\n",
    "            # Metrics\n",
    "            epoch_loss += loss.item()\n",
    "            epoch_acc += acc.item()   \n",
    "    return epoch_loss / len(iterator), epoch_acc / len(iterator)\n",
    "\n",
    "# Run training\n",
    "def run_training(model, train_iterator, val_iterator, optimizer, criterion, n_epochs):\n",
    "    history = {\n",
    "        'train': {'acc': [], 'loss': []},\n",
    "        'val': {'acc': [], 'loss': []}}\n",
    "\n",
    "    best_valid_loss = float('inf')\n",
    "    for epoch in range(n_epochs):\n",
    "        start_time = time.time()\n",
    "        \n",
    "        # Train one epoch\n",
    "        train_loss, train_acc = train(model, train_iterator, optimizer, criterion)\n",
    "        valid_loss, valid_acc = test(model, valid_iterator, criterion)\n",
    "        end_time = time.time()\n",
    "        epoch_mins, epoch_secs = epoch_time(start_time, end_time)\n",
    "        \n",
    "        # Save best state for model\n",
    "        if valid_loss < best_valid_loss:\n",
    "            best_valid_loss = valid_loss\n",
    "            torch.save(model.state_dict(), 'spam.pt')\n",
    "        \n",
    "        # Display information\n",
    "        print(f'Epoch: {epoch+1:02} | Epoch Time: {epoch_mins}m {epoch_secs}s')\n",
    "        print(f'\\tTrain Loss: {train_loss:.3f} | Train Acc: {train_acc*100:.2f}%')\n",
    "        print(f'\\t Val. Loss: {valid_loss:.3f} |  Val. Acc: {valid_acc*100:.2f}%')\n",
    "        \n",
    "        # Save metrics history\n",
    "        history['train']['acc'].append(round(train_acc, 2))\n",
    "        history['train']['loss'].append(round(train_loss, 2))\n",
    "        history['val']['acc'].append(round(valid_acc, 2))\n",
    "        history['val']['loss'].append(round(valid_loss, 2))\n",
    "    return history\n",
    "\n",
    "# Run testing\n",
    "def run_testing(model, test_iterator, criterion, state):\n",
    "    model.load_state_dict(torch.load(state))\n",
    "    test_loss, test_acc = test(model, test_iterator, criterion)\n",
    "    print(f'Test Loss: {test_loss:.3f} | Test Acc: {test_acc*100:.2f}%')\n",
    "    return round(test_acc, 2), round(test_loss, 2)"
   ]
  },
  {
   "cell_type": "markdown",
   "id": "15c1051c",
   "metadata": {},
   "source": [
    "Se utiliza el criterio de **CrossEntropyLoss** para calcular la pérdida, el que aplica la función de activación **SoftMax** automáticamente:"
   ]
  },
  {
   "cell_type": "code",
   "execution_count": 20,
   "id": "a54ef8a5",
   "metadata": {},
   "outputs": [],
   "source": [
    "# Hyperparameters: number of epochs and learning rate\n",
    "n_epochs = 20\n",
    "lr = 0.001\n",
    "\n",
    "# Loss, Optimizer\n",
    "criterion = nn.CrossEntropyLoss()\n",
    "optimizer = torch.optim.Adam(simple_model.parameters(), lr=lr)\n",
    "\n",
    "# Model & Criterion to GPU\n",
    "simple_model = simple_model.to(device)\n",
    "criterion = criterion.to(device)"
   ]
  },
  {
   "cell_type": "markdown",
   "id": "501d0b9a",
   "metadata": {},
   "source": [
    "Entrenamos el modelo durante 10 épocas:"
   ]
  },
  {
   "cell_type": "code",
   "execution_count": 21,
   "id": "9e08816b",
   "metadata": {},
   "outputs": [
    {
     "name": "stdout",
     "output_type": "stream",
     "text": [
      "Epoch: 01 | Epoch Time: 0m 0s\n",
      "\tTrain Loss: 0.327 | Train Acc: 87.27%\n",
      "\t Val. Loss: 0.244 |  Val. Acc: 90.40%\n",
      "Epoch: 02 | Epoch Time: 0m 0s\n",
      "\tTrain Loss: 0.172 | Train Acc: 93.70%\n",
      "\t Val. Loss: 0.139 |  Val. Acc: 95.31%\n",
      "Epoch: 03 | Epoch Time: 0m 0s\n",
      "\tTrain Loss: 0.090 | Train Acc: 97.08%\n",
      "\t Val. Loss: 0.117 |  Val. Acc: 95.65%\n",
      "Epoch: 04 | Epoch Time: 0m 0s\n",
      "\tTrain Loss: 0.050 | Train Acc: 98.72%\n",
      "\t Val. Loss: 0.093 |  Val. Acc: 97.77%\n",
      "Epoch: 05 | Epoch Time: 0m 0s\n",
      "\tTrain Loss: 0.031 | Train Acc: 99.31%\n",
      "\t Val. Loss: 0.192 |  Val. Acc: 95.54%\n",
      "Epoch: 06 | Epoch Time: 0m 0s\n",
      "\tTrain Loss: 0.020 | Train Acc: 99.41%\n",
      "\t Val. Loss: 0.115 |  Val. Acc: 97.10%\n",
      "Epoch: 07 | Epoch Time: 0m 0s\n",
      "\tTrain Loss: 0.022 | Train Acc: 99.46%\n",
      "\t Val. Loss: 0.113 |  Val. Acc: 97.10%\n",
      "Epoch: 08 | Epoch Time: 0m 0s\n",
      "\tTrain Loss: 0.005 | Train Acc: 99.87%\n",
      "\t Val. Loss: 0.124 |  Val. Acc: 97.43%\n",
      "Epoch: 09 | Epoch Time: 0m 0s\n",
      "\tTrain Loss: 0.024 | Train Acc: 99.18%\n",
      "\t Val. Loss: 0.118 |  Val. Acc: 97.66%\n",
      "Epoch: 10 | Epoch Time: 0m 0s\n",
      "\tTrain Loss: 0.004 | Train Acc: 99.92%\n",
      "\t Val. Loss: 0.120 |  Val. Acc: 97.77%\n",
      "Epoch: 11 | Epoch Time: 0m 0s\n",
      "\tTrain Loss: 0.002 | Train Acc: 99.95%\n",
      "\t Val. Loss: 0.140 |  Val. Acc: 97.66%\n",
      "Epoch: 12 | Epoch Time: 0m 0s\n",
      "\tTrain Loss: 0.001 | Train Acc: 99.97%\n",
      "\t Val. Loss: 0.141 |  Val. Acc: 97.77%\n",
      "Epoch: 13 | Epoch Time: 0m 0s\n",
      "\tTrain Loss: 0.000 | Train Acc: 100.00%\n",
      "\t Val. Loss: 0.147 |  Val. Acc: 97.77%\n",
      "Epoch: 14 | Epoch Time: 0m 0s\n",
      "\tTrain Loss: 0.000 | Train Acc: 100.00%\n",
      "\t Val. Loss: 0.152 |  Val. Acc: 97.77%\n",
      "Epoch: 15 | Epoch Time: 0m 0s\n",
      "\tTrain Loss: 0.000 | Train Acc: 100.00%\n",
      "\t Val. Loss: 0.155 |  Val. Acc: 97.77%\n",
      "Epoch: 16 | Epoch Time: 0m 0s\n",
      "\tTrain Loss: 0.000 | Train Acc: 100.00%\n",
      "\t Val. Loss: 0.158 |  Val. Acc: 97.77%\n",
      "Epoch: 17 | Epoch Time: 0m 0s\n",
      "\tTrain Loss: 0.000 | Train Acc: 100.00%\n",
      "\t Val. Loss: 0.161 |  Val. Acc: 97.77%\n",
      "Epoch: 18 | Epoch Time: 0m 0s\n",
      "\tTrain Loss: 0.000 | Train Acc: 100.00%\n",
      "\t Val. Loss: 0.163 |  Val. Acc: 97.77%\n",
      "Epoch: 19 | Epoch Time: 0m 0s\n",
      "\tTrain Loss: 0.000 | Train Acc: 100.00%\n",
      "\t Val. Loss: 0.166 |  Val. Acc: 97.77%\n",
      "Epoch: 20 | Epoch Time: 0m 0s\n",
      "\tTrain Loss: 0.000 | Train Acc: 100.00%\n",
      "\t Val. Loss: 0.168 |  Val. Acc: 97.77%\n"
     ]
    }
   ],
   "source": [
    "# Run training\n",
    "train_history = run_training(simple_model, train_iterator, valid_iterator, optimizer, criterion, n_epochs)"
   ]
  },
  {
   "cell_type": "markdown",
   "id": "06261775",
   "metadata": {},
   "source": [
    "Se grafica la precisión a lo largo del entrenamiento:"
   ]
  },
  {
   "cell_type": "code",
   "execution_count": 22,
   "id": "2af030d1",
   "metadata": {},
   "outputs": [
    {
     "data": {
      "image/png": "[encoded data removed]",
      "text/plain": [
       "<Figure size 1080x720 with 1 Axes>"
      ]
     },
     "metadata": {
      "needs_background": "light"
     },
     "output_type": "display_data"
    }
   ],
   "source": [
    "# History for epoch accuracy\n",
    "plt.figure(figsize=(15, 10))\n",
    "plt.plot(train_history['train']['acc'])\n",
    "plt.plot(train_history['val']['acc'])\n",
    "plt.title('Simple Model Accuracy')\n",
    "plt.ylabel('Accuracy')\n",
    "plt.xlabel('Epoch')\n",
    "plt.legend(['train', 'val'], loc='upper left')\n",
    "plt.show()"
   ]
  },
  {
   "cell_type": "markdown",
   "id": "e99ebc4a",
   "metadata": {},
   "source": [
    "Podemos ver que el set de validación alcanza su mejor puntaje alrededor de la tercera época, mientras que el de entrenamiento sigue mejorando hasta llegar al 100%. Esto significa que ocurre **overfitting** desde la tercera época en adelante. Ahora se grafica la pérdida a lo largo del entrenamiento:"
   ]
  },
  {
   "cell_type": "code",
   "execution_count": 23,
   "id": "0144d739",
   "metadata": {},
   "outputs": [
    {
     "data": {
      "image/png": "[encoded data removed]",
      "text/plain": [
       "<Figure size 1080x720 with 1 Axes>"
      ]
     },
     "metadata": {
      "needs_background": "light"
     },
     "output_type": "display_data"
    }
   ],
   "source": [
    "# History for epoch loss\n",
    "plt.figure(figsize=(15, 10))\n",
    "plt.plot(train_history['train']['loss'])\n",
    "plt.plot(train_history['val']['loss'])\n",
    "plt.title('Simple Model Loss')\n",
    "plt.ylabel('Loss')\n",
    "plt.xlabel('Epoch')\n",
    "plt.legend(['train', 'val'], loc='upper left')\n",
    "plt.show()"
   ]
  },
  {
   "cell_type": "markdown",
   "id": "b443d4ad",
   "metadata": {},
   "source": [
    "Al igual que con la precisión, se observa overfitting después de la tercera época. Finalmente, se evalúa el modelo entrenado sobre el set de testing:"
   ]
  },
  {
   "cell_type": "code",
   "execution_count": 24,
   "id": "9e90435b",
   "metadata": {},
   "outputs": [
    {
     "name": "stdout",
     "output_type": "stream",
     "text": [
      "Test Loss: 0.092 | Test Acc: 97.43%\n"
     ]
    }
   ],
   "source": [
    "# Run testing\n",
    "test_acc, test_loss = run_testing(simple_model, test_iterator, criterion, 'spam.pt')"
   ]
  },
  {
   "cell_type": "markdown",
   "id": "4300bd92",
   "metadata": {},
   "source": [
    "Obtenemos una **precisión del 97.43%,** lo que es muy bueno en términos del desempeño de nuestro modelo, especialmente al ser una RNN simple."
   ]
  },
  {
   "cell_type": "markdown",
   "id": "c6b0c909",
   "metadata": {},
   "source": [
    "### Actividad 4"
   ]
  },
  {
   "cell_type": "markdown",
   "id": "e999c767",
   "metadata": {},
   "source": [
    "Instanciamos un modelo **LSTM** con las mismas dimensiones que el anterior:"
   ]
  },
  {
   "cell_type": "code",
   "execution_count": 31,
   "id": "bb721270",
   "metadata": {},
   "outputs": [
    {
     "name": "stdout",
     "output_type": "stream",
     "text": [
      "Trainable Parameters: 1067842\n"
     ]
    }
   ],
   "source": [
    "# Simple LSTM model\n",
    "input_dim = len(TEXT.vocab)\n",
    "embedding_dim = 100\n",
    "hidden_dim = 120\n",
    "dense_dim = 60\n",
    "output_dim = 2\n",
    "num_layers = 1\n",
    "pad_idx = TEXT.vocab.stoi[TEXT.pad_token]\n",
    "\n",
    "lstm_model = RNN(input_dim, embedding_dim, hidden_dim, dense_dim, output_dim, num_layers=num_layers, lstm=True, pad_idx=pad_idx)\n",
    "print(f'Trainable Parameters: {num_trainable_parameters(lstm_model)}')"
   ]
  },
  {
   "cell_type": "markdown",
   "id": "e89103be",
   "metadata": {},
   "source": [
    "La cantidad de parámetros de este modelo es 1067842, superando al anterior en alrededor de un 2%. Esto no afecta mucho al momento de entrenar, ya que es un aumento pequeño en la cantidad de parámetros. Ahora se realizan los mismos pasos que antes para preparar y entrenar el modelo:"
   ]
  },
  {
   "cell_type": "code",
   "execution_count": 32,
   "id": "666e38b9",
   "metadata": {},
   "outputs": [
    {
     "name": "stdout",
     "output_type": "stream",
     "text": [
      "tensor([[ 0.0000,  0.0000,  0.0000,  ...,  0.0000,  0.0000,  0.0000],\n",
      "        [ 0.0000,  0.0000,  0.0000,  ...,  0.0000,  0.0000,  0.0000],\n",
      "        [-0.3398,  0.2094,  0.4635,  ..., -0.2339,  0.4730, -0.0288],\n",
      "        ...,\n",
      "        [-0.0346,  0.2088,  0.2014,  ..., -0.6978,  0.3013, -0.5122],\n",
      "        [-0.0426, -0.0842, -0.3309,  ..., -0.9232,  0.0126,  0.2147],\n",
      "        [ 0.0147,  0.1726,  1.1608,  ..., -0.4003,  0.7675,  0.7384]])\n"
     ]
    }
   ],
   "source": [
    "# Load embedding data for GloVe into the model\n",
    "lstm_model.embedding.weight.data.copy_(pretrained_embeddings)\n",
    "\n",
    "# Special indexes are replaced with zeros\n",
    "unk_idx = TEXT.vocab.stoi[TEXT.unk_token]\n",
    "lstm_model.embedding.weight.data[unk_idx] = torch.zeros(embedding_dim)\n",
    "lstm_model.embedding.weight.data[pad_idx] = torch.zeros(embedding_dim)\n",
    "print(lstm_model.embedding.weight.data)"
   ]
  },
  {
   "cell_type": "code",
   "execution_count": 33,
   "id": "5ab38791",
   "metadata": {},
   "outputs": [],
   "source": [
    "# Hyperparameters: number of epochs and learning rate\n",
    "n_epochs = 20\n",
    "lr = 0.001\n",
    "\n",
    "# Loss, Optimizer\n",
    "criterion = nn.CrossEntropyLoss()\n",
    "optimizer = torch.optim.Adam(lstm_model.parameters(), lr=lr)\n",
    "\n",
    "# Model & Criterion to GPU\n",
    "lstm_model = lstm_model.to(device)\n",
    "criterion = criterion.to(device)"
   ]
  },
  {
   "cell_type": "code",
   "execution_count": 34,
   "id": "c1c84970",
   "metadata": {},
   "outputs": [
    {
     "name": "stdout",
     "output_type": "stream",
     "text": [
      "Epoch: 01 | Epoch Time: 0m 0s\n",
      "\tTrain Loss: 0.330 | Train Acc: 86.73%\n",
      "\t Val. Loss: 0.244 |  Val. Acc: 87.61%\n",
      "Epoch: 02 | Epoch Time: 0m 0s\n",
      "\tTrain Loss: 0.150 | Train Acc: 93.67%\n",
      "\t Val. Loss: 0.226 |  Val. Acc: 93.97%\n",
      "Epoch: 03 | Epoch Time: 0m 0s\n",
      "\tTrain Loss: 0.067 | Train Acc: 97.90%\n",
      "\t Val. Loss: 0.078 |  Val. Acc: 98.21%\n",
      "Epoch: 04 | Epoch Time: 0m 0s\n",
      "\tTrain Loss: 0.040 | Train Acc: 98.98%\n",
      "\t Val. Loss: 0.120 |  Val. Acc: 95.65%\n",
      "Epoch: 05 | Epoch Time: 0m 0s\n",
      "\tTrain Loss: 0.027 | Train Acc: 99.46%\n",
      "\t Val. Loss: 0.084 |  Val. Acc: 98.33%\n",
      "Epoch: 06 | Epoch Time: 0m 0s\n",
      "\tTrain Loss: 0.021 | Train Acc: 99.46%\n",
      "\t Val. Loss: 0.062 |  Val. Acc: 98.44%\n",
      "Epoch: 07 | Epoch Time: 0m 0s\n",
      "\tTrain Loss: 0.028 | Train Acc: 99.26%\n",
      "\t Val. Loss: 0.269 |  Val. Acc: 92.19%\n",
      "Epoch: 08 | Epoch Time: 0m 0s\n",
      "\tTrain Loss: 0.013 | Train Acc: 99.69%\n",
      "\t Val. Loss: 0.077 |  Val. Acc: 98.55%\n",
      "Epoch: 09 | Epoch Time: 0m 0s\n",
      "\tTrain Loss: 0.004 | Train Acc: 99.95%\n",
      "\t Val. Loss: 0.091 |  Val. Acc: 98.66%\n",
      "Epoch: 10 | Epoch Time: 0m 0s\n",
      "\tTrain Loss: 0.003 | Train Acc: 99.97%\n",
      "\t Val. Loss: 0.103 |  Val. Acc: 98.44%\n",
      "Epoch: 11 | Epoch Time: 0m 0s\n",
      "\tTrain Loss: 0.002 | Train Acc: 99.97%\n",
      "\t Val. Loss: 0.106 |  Val. Acc: 98.55%\n",
      "Epoch: 12 | Epoch Time: 0m 0s\n",
      "\tTrain Loss: 0.002 | Train Acc: 99.97%\n",
      "\t Val. Loss: 0.121 |  Val. Acc: 98.44%\n",
      "Epoch: 13 | Epoch Time: 0m 0s\n",
      "\tTrain Loss: 0.001 | Train Acc: 99.97%\n",
      "\t Val. Loss: 0.103 |  Val. Acc: 98.55%\n",
      "Epoch: 14 | Epoch Time: 0m 0s\n",
      "\tTrain Loss: 0.002 | Train Acc: 99.97%\n",
      "\t Val. Loss: 0.093 |  Val. Acc: 98.55%\n",
      "Epoch: 15 | Epoch Time: 0m 0s\n",
      "\tTrain Loss: 0.003 | Train Acc: 99.95%\n",
      "\t Val. Loss: 0.065 |  Val. Acc: 98.44%\n",
      "Epoch: 16 | Epoch Time: 0m 0s\n",
      "\tTrain Loss: 0.003 | Train Acc: 99.90%\n",
      "\t Val. Loss: 0.098 |  Val. Acc: 98.88%\n",
      "Epoch: 17 | Epoch Time: 0m 0s\n",
      "\tTrain Loss: 0.001 | Train Acc: 99.97%\n",
      "\t Val. Loss: 0.075 |  Val. Acc: 98.66%\n",
      "Epoch: 18 | Epoch Time: 0m 0s\n",
      "\tTrain Loss: 0.001 | Train Acc: 99.97%\n",
      "\t Val. Loss: 0.076 |  Val. Acc: 98.77%\n",
      "Epoch: 19 | Epoch Time: 0m 0s\n",
      "\tTrain Loss: 0.000 | Train Acc: 99.97%\n",
      "\t Val. Loss: 0.082 |  Val. Acc: 98.77%\n",
      "Epoch: 20 | Epoch Time: 0m 0s\n",
      "\tTrain Loss: 0.000 | Train Acc: 100.00%\n",
      "\t Val. Loss: 0.088 |  Val. Acc: 98.88%\n"
     ]
    }
   ],
   "source": [
    "# Run training\n",
    "train_history = run_training(lstm_model, train_iterator, valid_iterator, optimizer, criterion, n_epochs)"
   ]
  },
  {
   "cell_type": "code",
   "execution_count": 35,
   "id": "1a86bd34",
   "metadata": {},
   "outputs": [
    {
     "data": {
      "image/png": "[encoded data removed]",
      "text/plain": [
       "<Figure size 1080x720 with 1 Axes>"
      ]
     },
     "metadata": {
      "needs_background": "light"
     },
     "output_type": "display_data"
    }
   ],
   "source": [
    "# History for epoch accuracy\n",
    "plt.figure(figsize=(15, 10))\n",
    "plt.plot(train_history['train']['acc'])\n",
    "plt.plot(train_history['val']['acc'])\n",
    "plt.title('LSTM Model Accuracy')\n",
    "plt.ylabel('Accuracy')\n",
    "plt.xlabel('Epoch')\n",
    "plt.legend(['train', 'val'], loc='upper left')\n",
    "plt.show()"
   ]
  },
  {
   "cell_type": "code",
   "execution_count": 36,
   "id": "6183e84f",
   "metadata": {},
   "outputs": [
    {
     "data": {
      "image/png": "[encoded data removed]",
      "text/plain": [
       "<Figure size 1080x720 with 1 Axes>"
      ]
     },
     "metadata": {
      "needs_background": "light"
     },
     "output_type": "display_data"
    }
   ],
   "source": [
    "# History for epoch loss\n",
    "plt.figure(figsize=(15, 10))\n",
    "plt.plot(train_history['train']['loss'])\n",
    "plt.plot(train_history['val']['loss'])\n",
    "plt.title('LSTM Model Loss')\n",
    "plt.ylabel('Loss')\n",
    "plt.xlabel('Epoch')\n",
    "plt.legend(['train', 'val'], loc='upper left')\n",
    "plt.show()"
   ]
  },
  {
   "cell_type": "code",
   "execution_count": 37,
   "id": "12584ae0",
   "metadata": {
    "scrolled": true
   },
   "outputs": [
    {
     "name": "stdout",
     "output_type": "stream",
     "text": [
      "Test Loss: 0.053 | Test Acc: 98.55%\n"
     ]
    }
   ],
   "source": [
    "# Run testing\n",
    "test_acc, test_loss = run_testing(lstm_model, test_iterator, criterion, 'spam.pt')"
   ]
  },
  {
   "cell_type": "markdown",
   "id": "c1e1895f",
   "metadata": {},
   "source": [
    "Se obtienen resultados favorables, con una precisión del **98.55%**. Además, el overfitting ocurre más adelante esta vez, alrededor de la época 7, lo que demuestra que este modelo se logra ajustar mejor al caso general, aunque requiera más épocas de entrenamiento."
   ]
  },
  {
   "cell_type": "markdown",
   "id": "46193b19",
   "metadata": {},
   "source": [
    "### Actividad 5"
   ]
  },
  {
   "cell_type": "markdown",
   "id": "a7df9c24",
   "metadata": {},
   "source": [
    "Utilizaremos el modelo LSTM anterior, que fue el que mejor rindió. Primero probamos agregando una capa más a la red:"
   ]
  },
  {
   "cell_type": "code",
   "execution_count": 38,
   "id": "aaca5e18",
   "metadata": {},
   "outputs": [
    {
     "name": "stdout",
     "output_type": "stream",
     "text": [
      "Trainable Parameters: 1184002\n"
     ]
    }
   ],
   "source": [
    "# LSTM model with two layers\n",
    "input_dim = len(TEXT.vocab)\n",
    "embedding_dim = 100\n",
    "hidden_dim = 120\n",
    "dense_dim = 60\n",
    "output_dim = 2\n",
    "num_layers = 2\n",
    "pad_idx = TEXT.vocab.stoi[TEXT.pad_token]\n",
    "\n",
    "best_model = RNN(input_dim, embedding_dim, hidden_dim, dense_dim, output_dim, num_layers=num_layers, lstm=True, dropout=0, pad_idx=pad_idx)\n",
    "print(f'Trainable Parameters: {num_trainable_parameters(best_model)}')"
   ]
  },
  {
   "cell_type": "markdown",
   "id": "e5f574b9",
   "metadata": {},
   "source": [
    "Ocurre un aumento pequeño en la cantidad de parámetros, llegando a 1184002."
   ]
  },
  {
   "cell_type": "code",
   "execution_count": 39,
   "id": "60d3a83d",
   "metadata": {},
   "outputs": [
    {
     "name": "stdout",
     "output_type": "stream",
     "text": [
      "tensor([[ 0.0000,  0.0000,  0.0000,  ...,  0.0000,  0.0000,  0.0000],\n",
      "        [ 0.0000,  0.0000,  0.0000,  ...,  0.0000,  0.0000,  0.0000],\n",
      "        [-0.3398,  0.2094,  0.4635,  ..., -0.2339,  0.4730, -0.0288],\n",
      "        ...,\n",
      "        [-0.0346,  0.2088,  0.2014,  ..., -0.6978,  0.3013, -0.5122],\n",
      "        [-0.0426, -0.0842, -0.3309,  ..., -0.9232,  0.0126,  0.2147],\n",
      "        [ 0.0147,  0.1726,  1.1608,  ..., -0.4003,  0.7675,  0.7384]])\n"
     ]
    }
   ],
   "source": [
    "# Load embedding data for GloVe into the model\n",
    "best_model.embedding.weight.data.copy_(pretrained_embeddings)\n",
    "\n",
    "# Special indexes are replaced with zeros\n",
    "unk_idx = TEXT.vocab.stoi[TEXT.unk_token]\n",
    "best_model.embedding.weight.data[unk_idx] = torch.zeros(embedding_dim)\n",
    "best_model.embedding.weight.data[pad_idx] = torch.zeros(embedding_dim)\n",
    "print(best_model.embedding.weight.data)"
   ]
  },
  {
   "cell_type": "code",
   "execution_count": 40,
   "id": "ae1a5a46",
   "metadata": {},
   "outputs": [],
   "source": [
    "# Hyperparameters: number of epochs and learning rate\n",
    "n_epochs = 20\n",
    "lr = 0.001\n",
    "\n",
    "# Loss, Optimizer\n",
    "criterion = nn.CrossEntropyLoss()\n",
    "optimizer = torch.optim.Adam(best_model.parameters(), lr=lr)\n",
    "\n",
    "# Model & Criterion to GPU\n",
    "best_model = best_model.to(device)\n",
    "criterion = criterion.to(device)"
   ]
  },
  {
   "cell_type": "code",
   "execution_count": 41,
   "id": "47f970e1",
   "metadata": {},
   "outputs": [
    {
     "name": "stdout",
     "output_type": "stream",
     "text": [
      "Epoch: 01 | Epoch Time: 0m 0s\n",
      "\tTrain Loss: 0.363 | Train Acc: 86.73%\n",
      "\t Val. Loss: 0.226 |  Val. Acc: 87.39%\n",
      "Epoch: 02 | Epoch Time: 0m 0s\n",
      "\tTrain Loss: 0.168 | Train Acc: 92.67%\n",
      "\t Val. Loss: 0.161 |  Val. Acc: 97.43%\n",
      "Epoch: 03 | Epoch Time: 0m 0s\n",
      "\tTrain Loss: 0.091 | Train Acc: 97.28%\n",
      "\t Val. Loss: 0.084 |  Val. Acc: 98.21%\n",
      "Epoch: 04 | Epoch Time: 0m 0s\n",
      "\tTrain Loss: 0.044 | Train Acc: 98.92%\n",
      "\t Val. Loss: 0.082 |  Val. Acc: 98.55%\n",
      "Epoch: 05 | Epoch Time: 0m 0s\n",
      "\tTrain Loss: 0.032 | Train Acc: 99.26%\n",
      "\t Val. Loss: 0.074 |  Val. Acc: 97.99%\n",
      "Epoch: 06 | Epoch Time: 0m 0s\n",
      "\tTrain Loss: 0.032 | Train Acc: 99.33%\n",
      "\t Val. Loss: 0.058 |  Val. Acc: 98.77%\n",
      "Epoch: 07 | Epoch Time: 0m 0s\n",
      "\tTrain Loss: 0.016 | Train Acc: 99.67%\n",
      "\t Val. Loss: 0.057 |  Val. Acc: 99.00%\n",
      "Epoch: 08 | Epoch Time: 0m 0s\n",
      "\tTrain Loss: 0.011 | Train Acc: 99.80%\n",
      "\t Val. Loss: 0.054 |  Val. Acc: 98.88%\n",
      "Epoch: 09 | Epoch Time: 0m 0s\n",
      "\tTrain Loss: 0.007 | Train Acc: 99.87%\n",
      "\t Val. Loss: 0.074 |  Val. Acc: 98.66%\n",
      "Epoch: 10 | Epoch Time: 0m 0s\n",
      "\tTrain Loss: 0.006 | Train Acc: 99.92%\n",
      "\t Val. Loss: 0.059 |  Val. Acc: 99.00%\n",
      "Epoch: 11 | Epoch Time: 0m 0s\n",
      "\tTrain Loss: 0.005 | Train Acc: 99.95%\n",
      "\t Val. Loss: 0.058 |  Val. Acc: 99.11%\n",
      "Epoch: 12 | Epoch Time: 0m 0s\n",
      "\tTrain Loss: 0.004 | Train Acc: 99.95%\n",
      "\t Val. Loss: 0.059 |  Val. Acc: 99.00%\n",
      "Epoch: 13 | Epoch Time: 0m 0s\n",
      "\tTrain Loss: 0.003 | Train Acc: 99.95%\n",
      "\t Val. Loss: 0.059 |  Val. Acc: 99.11%\n",
      "Epoch: 14 | Epoch Time: 0m 0s\n",
      "\tTrain Loss: 0.002 | Train Acc: 99.95%\n",
      "\t Val. Loss: 0.070 |  Val. Acc: 99.11%\n",
      "Epoch: 15 | Epoch Time: 0m 0s\n",
      "\tTrain Loss: 0.002 | Train Acc: 99.97%\n",
      "\t Val. Loss: 0.070 |  Val. Acc: 99.00%\n",
      "Epoch: 16 | Epoch Time: 0m 0s\n",
      "\tTrain Loss: 0.071 | Train Acc: 97.93%\n",
      "\t Val. Loss: 0.094 |  Val. Acc: 98.33%\n",
      "Epoch: 17 | Epoch Time: 0m 0s\n",
      "\tTrain Loss: 0.009 | Train Acc: 99.82%\n",
      "\t Val. Loss: 0.086 |  Val. Acc: 98.44%\n",
      "Epoch: 18 | Epoch Time: 0m 0s\n",
      "\tTrain Loss: 0.003 | Train Acc: 99.95%\n",
      "\t Val. Loss: 0.076 |  Val. Acc: 98.55%\n",
      "Epoch: 19 | Epoch Time: 0m 0s\n",
      "\tTrain Loss: 0.002 | Train Acc: 99.97%\n",
      "\t Val. Loss: 0.082 |  Val. Acc: 98.55%\n",
      "Epoch: 20 | Epoch Time: 0m 0s\n",
      "\tTrain Loss: 0.001 | Train Acc: 99.95%\n",
      "\t Val. Loss: 0.098 |  Val. Acc: 98.44%\n"
     ]
    }
   ],
   "source": [
    "# Run training\n",
    "train_history = run_training(best_model, train_iterator, valid_iterator, optimizer, criterion, n_epochs)"
   ]
  },
  {
   "cell_type": "code",
   "execution_count": 42,
   "id": "7f9a092b",
   "metadata": {},
   "outputs": [
    {
     "data": {
      "image/png": "[encoded data removed]",
      "text/plain": [
       "<Figure size 1080x720 with 1 Axes>"
      ]
     },
     "metadata": {
      "needs_background": "light"
     },
     "output_type": "display_data"
    }
   ],
   "source": [
    "# History for epoch accuracy\n",
    "plt.figure(figsize=(15, 10))\n",
    "plt.plot(train_history['train']['acc'])\n",
    "plt.plot(train_history['val']['acc'])\n",
    "plt.title('Multi Layer LSTM Model Accuracy')\n",
    "plt.ylabel('Accuracy')\n",
    "plt.xlabel('Epoch')\n",
    "plt.legend(['train', 'val'], loc='upper left')\n",
    "plt.show()"
   ]
  },
  {
   "cell_type": "code",
   "execution_count": 43,
   "id": "98942c42",
   "metadata": {},
   "outputs": [
    {
     "data": {
      "image/png": "[encoded data removed]",
      "text/plain": [
       "<Figure size 1080x720 with 1 Axes>"
      ]
     },
     "metadata": {
      "needs_background": "light"
     },
     "output_type": "display_data"
    }
   ],
   "source": [
    "# History for epoch loss\n",
    "plt.figure(figsize=(15, 10))\n",
    "plt.plot(train_history['train']['loss'])\n",
    "plt.plot(train_history['val']['loss'])\n",
    "plt.title('Multi Layer LSTM Model Loss')\n",
    "plt.ylabel('Loss')\n",
    "plt.xlabel('Epoch')\n",
    "plt.legend(['train', 'val'], loc='upper left')\n",
    "plt.show()"
   ]
  },
  {
   "cell_type": "code",
   "execution_count": 44,
   "id": "02c603a5",
   "metadata": {},
   "outputs": [
    {
     "name": "stdout",
     "output_type": "stream",
     "text": [
      "Test Loss: 0.058 | Test Acc: 98.77%\n"
     ]
    }
   ],
   "source": [
    "# Run testing\n",
    "test_acc, test_loss = run_testing(best_model, test_iterator, criterion, 'spam.pt')"
   ]
  },
  {
   "cell_type": "markdown",
   "id": "ee4d532b",
   "metadata": {},
   "source": [
    "Se logra una precisión un poco mejor que antes, con un **98.77%**. El modelo converge un poco más rápido que su contraparte de una sola capa, gracias a que tiene mayor información en sus capas ocultas. Ahora se prueba volviendo al modelo anterior, pero con la capa **bidireccional**, cambiando las dimensiones del embedding a vectores de 200 componentes y disminuyendo la cantidad de neuronas de la capa densa a 20:"
   ]
  },
  {
   "cell_type": "code",
   "execution_count": 45,
   "id": "32e2190c",
   "metadata": {},
   "outputs": [
    {
     "name": "stdout",
     "output_type": "stream",
     "text": [
      "Trainable Parameters: 2221782\n"
     ]
    }
   ],
   "source": [
    "# LSTM bidirectional model\n",
    "input_dim = len(TEXT.vocab)\n",
    "embedding_dim = 200\n",
    "hidden_dim = 120\n",
    "dense_dim = 20\n",
    "output_dim = 2\n",
    "num_layers = 1\n",
    "pad_idx = TEXT.vocab.stoi[TEXT.pad_token]\n",
    "\n",
    "best_model = RNN(input_dim, embedding_dim, hidden_dim, dense_dim, output_dim, num_layers=num_layers, lstm=True, bidirectional=True, dropout=0, pad_idx=pad_idx)\n",
    "print(f'Trainable Parameters: {num_trainable_parameters(best_model)}')"
   ]
  },
  {
   "cell_type": "markdown",
   "id": "f213cab0",
   "metadata": {},
   "source": [
    "Ocurre un gran aumento en la cantidad de parámetros, duplicando a los anteriores. Esto es debido a que se duplicó el tamaño de los vectores de salida de la capa de embedding, además de que ahora la red tiene 2 direcciones."
   ]
  },
  {
   "cell_type": "code",
   "execution_count": 46,
   "id": "f2cef0a1",
   "metadata": {},
   "outputs": [
    {
     "name": "stderr",
     "output_type": "stream",
     "text": [
      "100%|████████████████████████████████████████████████████████████████████████████████████████████████████████▉| 399999/400000 [00:25<00:00, 15979.38it/s]\n"
     ]
    }
   ],
   "source": [
    "# Build vocabulary with the GloVe embedding for 200D\n",
    "TEXT.build_vocab(train_data, vectors='glove.6B.200d', unk_init=torch.Tensor.normal_)\n",
    "LABEL.build_vocab(train_data)"
   ]
  },
  {
   "cell_type": "code",
   "execution_count": 47,
   "id": "5cc72eaa",
   "metadata": {},
   "outputs": [
    {
     "name": "stdout",
     "output_type": "stream",
     "text": [
      "9539\n",
      "[('.', 3486), ('to', 1488), ('I', 1395), (',', 1333), ('you', 1284), ('?', 1006), ('!', 947), ('a', 937), ('the', 827), ('...', 785), ('i', 693), ('and', 625), ('in', 577), ('is', 567), ('u', 542), ('me', 533), ('..', 464), ('for', 446), ('my', 424), ('it', 423)]\n",
      "['<unk>', '<pad>', '.', 'to', 'I', ',', 'you', '?', '!', 'a']\n",
      "defaultdict(None, {'ham': 0, 'spam': 1})\n"
     ]
    }
   ],
   "source": [
    "# Quick look at the new vocabulary\n",
    "print(len(TEXT.vocab))\n",
    "print(TEXT.vocab.freqs.most_common(20))\n",
    "print(TEXT.vocab.itos[:10])\n",
    "print(LABEL.vocab.stoi)"
   ]
  },
  {
   "cell_type": "code",
   "execution_count": 48,
   "id": "6cb41685",
   "metadata": {},
   "outputs": [
    {
     "name": "stdout",
     "output_type": "stream",
     "text": [
      "torch.Size([9539, 200])\n",
      "tensor([[ 0.0000,  0.0000,  0.0000,  ...,  0.0000,  0.0000,  0.0000],\n",
      "        [ 0.0000,  0.0000,  0.0000,  ...,  0.0000,  0.0000,  0.0000],\n",
      "        [ 0.1229,  0.5804, -0.0696,  ..., -0.0392, -0.1624, -0.0967],\n",
      "        ...,\n",
      "        [ 0.2340, -0.0039, -0.0155,  ..., -0.1764, -0.1381,  0.0127],\n",
      "        [ 0.2013,  0.2142, -0.0443,  ..., -0.0237, -0.0541,  0.3707],\n",
      "        [-0.7439, -0.5804,  1.1561,  ..., -1.4570,  1.3810, -0.5698]])\n"
     ]
    }
   ],
   "source": [
    "# Load embedding data for GloVe 200D into the model\n",
    "pretrained_embeddings = TEXT.vocab.vectors\n",
    "print(pretrained_embeddings.shape)\n",
    "best_model.embedding.weight.data.copy_(pretrained_embeddings)\n",
    "\n",
    "# Special indexes are replaced with zeros\n",
    "unk_idx = TEXT.vocab.stoi[TEXT.unk_token]\n",
    "best_model.embedding.weight.data[unk_idx] = torch.zeros(embedding_dim)\n",
    "best_model.embedding.weight.data[pad_idx] = torch.zeros(embedding_dim)\n",
    "print(best_model.embedding.weight.data)"
   ]
  },
  {
   "cell_type": "code",
   "execution_count": 49,
   "id": "02ac49da",
   "metadata": {},
   "outputs": [],
   "source": [
    "# Hyperparameters: number of epochs and learning rate\n",
    "n_epochs = 20\n",
    "lr = 0.001\n",
    "\n",
    "# Loss, Optimizer\n",
    "criterion = nn.CrossEntropyLoss()\n",
    "optimizer = torch.optim.Adam(best_model.parameters(), lr=lr)\n",
    "\n",
    "# Model & Criterion to GPU\n",
    "best_model = best_model.to(device)\n",
    "criterion = criterion.to(device)"
   ]
  },
  {
   "cell_type": "code",
   "execution_count": 50,
   "id": "3574a454",
   "metadata": {},
   "outputs": [
    {
     "name": "stdout",
     "output_type": "stream",
     "text": [
      "Epoch: 01 | Epoch Time: 0m 1s\n",
      "\tTrain Loss: 0.283 | Train Acc: 87.14%\n",
      "\t Val. Loss: 0.134 |  Val. Acc: 96.09%\n",
      "Epoch: 02 | Epoch Time: 0m 0s\n",
      "\tTrain Loss: 0.083 | Train Acc: 97.23%\n",
      "\t Val. Loss: 0.058 |  Val. Acc: 98.10%\n",
      "Epoch: 03 | Epoch Time: 0m 0s\n",
      "\tTrain Loss: 0.027 | Train Acc: 98.92%\n",
      "\t Val. Loss: 0.069 |  Val. Acc: 97.99%\n",
      "Epoch: 04 | Epoch Time: 0m 0s\n",
      "\tTrain Loss: 0.012 | Train Acc: 99.64%\n",
      "\t Val. Loss: 0.048 |  Val. Acc: 98.55%\n",
      "Epoch: 05 | Epoch Time: 0m 0s\n",
      "\tTrain Loss: 0.008 | Train Acc: 99.72%\n",
      "\t Val. Loss: 0.058 |  Val. Acc: 98.55%\n",
      "Epoch: 06 | Epoch Time: 0m 0s\n",
      "\tTrain Loss: 0.009 | Train Acc: 99.72%\n",
      "\t Val. Loss: 0.094 |  Val. Acc: 96.76%\n",
      "Epoch: 07 | Epoch Time: 0m 0s\n",
      "\tTrain Loss: 0.004 | Train Acc: 99.90%\n",
      "\t Val. Loss: 0.045 |  Val. Acc: 98.77%\n",
      "Epoch: 08 | Epoch Time: 0m 0s\n",
      "\tTrain Loss: 0.002 | Train Acc: 99.97%\n",
      "\t Val. Loss: 0.045 |  Val. Acc: 98.66%\n",
      "Epoch: 09 | Epoch Time: 0m 0s\n",
      "\tTrain Loss: 0.001 | Train Acc: 99.97%\n",
      "\t Val. Loss: 0.044 |  Val. Acc: 98.77%\n",
      "Epoch: 10 | Epoch Time: 0m 0s\n",
      "\tTrain Loss: 0.000 | Train Acc: 100.00%\n",
      "\t Val. Loss: 0.048 |  Val. Acc: 98.55%\n",
      "Epoch: 11 | Epoch Time: 0m 0s\n",
      "\tTrain Loss: 0.000 | Train Acc: 100.00%\n",
      "\t Val. Loss: 0.051 |  Val. Acc: 98.66%\n",
      "Epoch: 12 | Epoch Time: 0m 0s\n",
      "\tTrain Loss: 0.000 | Train Acc: 100.00%\n",
      "\t Val. Loss: 0.055 |  Val. Acc: 98.66%\n",
      "Epoch: 13 | Epoch Time: 0m 0s\n",
      "\tTrain Loss: 0.000 | Train Acc: 100.00%\n",
      "\t Val. Loss: 0.056 |  Val. Acc: 98.66%\n",
      "Epoch: 14 | Epoch Time: 0m 0s\n",
      "\tTrain Loss: 0.000 | Train Acc: 100.00%\n",
      "\t Val. Loss: 0.058 |  Val. Acc: 98.66%\n",
      "Epoch: 15 | Epoch Time: 0m 0s\n",
      "\tTrain Loss: 0.000 | Train Acc: 100.00%\n",
      "\t Val. Loss: 0.059 |  Val. Acc: 98.66%\n",
      "Epoch: 16 | Epoch Time: 0m 0s\n",
      "\tTrain Loss: 0.000 | Train Acc: 100.00%\n",
      "\t Val. Loss: 0.061 |  Val. Acc: 98.66%\n",
      "Epoch: 17 | Epoch Time: 0m 0s\n",
      "\tTrain Loss: 0.000 | Train Acc: 100.00%\n",
      "\t Val. Loss: 0.062 |  Val. Acc: 98.66%\n",
      "Epoch: 18 | Epoch Time: 0m 0s\n",
      "\tTrain Loss: 0.000 | Train Acc: 100.00%\n",
      "\t Val. Loss: 0.063 |  Val. Acc: 98.66%\n",
      "Epoch: 19 | Epoch Time: 0m 0s\n",
      "\tTrain Loss: 0.000 | Train Acc: 100.00%\n",
      "\t Val. Loss: 0.064 |  Val. Acc: 98.66%\n",
      "Epoch: 20 | Epoch Time: 0m 0s\n",
      "\tTrain Loss: 0.000 | Train Acc: 100.00%\n",
      "\t Val. Loss: 0.065 |  Val. Acc: 98.66%\n"
     ]
    }
   ],
   "source": [
    "# Run training\n",
    "train_history = run_training(best_model, train_iterator, valid_iterator, optimizer, criterion, n_epochs)"
   ]
  },
  {
   "cell_type": "code",
   "execution_count": 51,
   "id": "c872a114",
   "metadata": {},
   "outputs": [
    {
     "data": {
      "image/png": "[encoded data removed]",
      "text/plain": [
       "<Figure size 1080x720 with 1 Axes>"
      ]
     },
     "metadata": {
      "needs_background": "light"
     },
     "output_type": "display_data"
    }
   ],
   "source": [
    "# History for epoch accuracy\n",
    "plt.figure(figsize=(15, 10))\n",
    "plt.plot(train_history['train']['acc'])\n",
    "plt.plot(train_history['val']['acc'])\n",
    "plt.title('Bidirectional LSTM Model Accuracy')\n",
    "plt.ylabel('Accuracy')\n",
    "plt.xlabel('Epoch')\n",
    "plt.legend(['train', 'val'], loc='upper left')\n",
    "plt.show()"
   ]
  },
  {
   "cell_type": "code",
   "execution_count": 52,
   "id": "4fa43cbd",
   "metadata": {},
   "outputs": [
    {
     "data": {
      "image/png": "[encoded data removed]",
      "text/plain": [
       "<Figure size 1080x720 with 1 Axes>"
      ]
     },
     "metadata": {
      "needs_background": "light"
     },
     "output_type": "display_data"
    }
   ],
   "source": [
    "# History for epoch loss\n",
    "plt.figure(figsize=(15, 10))\n",
    "plt.plot(train_history['train']['loss'])\n",
    "plt.plot(train_history['val']['loss'])\n",
    "plt.title('Bidirectional LSTM Model Loss')\n",
    "plt.ylabel('Loss')\n",
    "plt.xlabel('Epoch')\n",
    "plt.legend(['train', 'val'], loc='upper left')\n",
    "plt.show()"
   ]
  },
  {
   "cell_type": "code",
   "execution_count": 53,
   "id": "432eeaa1",
   "metadata": {},
   "outputs": [
    {
     "name": "stdout",
     "output_type": "stream",
     "text": [
      "Test Loss: 0.075 | Test Acc: 98.33%\n"
     ]
    }
   ],
   "source": [
    "# Run testing\n",
    "test_acc, test_loss = run_testing(best_model, test_iterator, criterion, 'spam.pt')"
   ]
  },
  {
   "cell_type": "markdown",
   "id": "354f3377",
   "metadata": {},
   "source": [
    "El rendimiento del modelo es un poco peor que el de doble capa, pero la velocidad de convergencia es mayor, logrando ajustarse en tan solo 3 épocas. Se concluye que la bidireccionalidad agrega bastante valor a una red de este tipo, siempre y cuando se ajusten bien los hiper-parámetros tales como la dimensionalidad del embedding y de la capa densa."
   ]
  },
  {
   "cell_type": "markdown",
   "id": "ebcb6829",
   "metadata": {},
   "source": [
    "## Parte 2: Aprendizaje de Similitud entre Oraciones"
   ]
  },
  {
   "cell_type": "code",
   "execution_count": 1,
   "id": "e8ddcece",
   "metadata": {},
   "outputs": [],
   "source": [
    "import torch\n",
    "import random\n",
    "import time\n",
    "import matplotlib.pyplot as plt\n",
    "from torch import nn\n",
    "from torchtext.legacy import data\n",
    "from gensim.models import KeyedVectors\n",
    "\n",
    "# Use GPU\n",
    "device = torch.device('cuda:0' if torch.cuda.is_available() else 'cpu')\n",
    "\n",
    "# Text learning setup\n",
    "SEED = 1999\n",
    "torch.manual_seed(SEED)\n",
    "torch.backends.cudnn.deterministic = True\n",
    "TEXT = data.Field(tokenize='spacy', tokenizer_language='en_core_web_sm', include_lengths=True, batch_first=True)\n",
    "SCORE = data.Field(sequential=False, use_vocab=False, dtype=torch.float, is_target=True, batch_first=True)\n",
    "LABEL = data.LabelField(dtype=torch.long, batch_first=True)\n",
    "SET = data.LabelField(dtype=torch.long, batch_first=True)"
   ]
  },
  {
   "cell_type": "markdown",
   "id": "4aa8a651",
   "metadata": {},
   "source": [
    "### Dataset y Embedding"
   ]
  },
  {
   "cell_type": "code",
   "execution_count": 2,
   "id": "671b2438",
   "metadata": {},
   "outputs": [
    {
     "name": "stdout",
     "output_type": "stream",
     "text": [
      "Size: 4439\n"
     ]
    }
   ],
   "source": [
    "# Build training dataset from tsv file\n",
    "train_data = data.TabularDataset(\n",
    "    path='sick_dataset/SICK.txt', \n",
    "    format='tsv', \n",
    "    fields=[\n",
    "        ('pair_ID', None), \n",
    "        ('sentence_A', TEXT), \n",
    "        ('sentence_B', TEXT), \n",
    "        ('entailment_label', LABEL),\n",
    "        ('relatedness_score', SCORE),\n",
    "        ('entailment_AB', None),\n",
    "        ('entailment_BA', None),\n",
    "        ('sentence_A_original', None),\n",
    "        ('sentence_B_original', None),\n",
    "        ('sentence_A_dataset', None),\n",
    "        ('sentence_B_dataset', None),\n",
    "        ('SemEval_set', SET)],\n",
    "    skip_header=True)\n",
    "\n",
    "# Filter train examples\n",
    "train_data.examples = [e for e in train_data if e.SemEval_set == 'TRAIN']\n",
    "train_data.fields['SemEval_set'] = None\n",
    "print(f'Size: {len(train_data)}')"
   ]
  },
  {
   "cell_type": "code",
   "execution_count": 3,
   "id": "239a53d8",
   "metadata": {},
   "outputs": [
    {
     "name": "stdout",
     "output_type": "stream",
     "text": [
      "Size: 495\n"
     ]
    }
   ],
   "source": [
    "# Build validation dataset from tsv file\n",
    "valid_data = data.TabularDataset(\n",
    "    path='sick_dataset/SICK.txt', \n",
    "    format='tsv', \n",
    "    fields=[\n",
    "        ('pair_ID', None), \n",
    "        ('sentence_A', TEXT), \n",
    "        ('sentence_B', TEXT), \n",
    "        ('entailment_label', LABEL),\n",
    "        ('relatedness_score', SCORE),\n",
    "        ('entailment_AB', None),\n",
    "        ('entailment_BA', None),\n",
    "        ('sentence_A_original', None),\n",
    "        ('sentence_B_original', None),\n",
    "        ('sentence_A_dataset', None),\n",
    "        ('sentence_B_dataset', None),\n",
    "        ('SemEval_set', SET)],\n",
    "    skip_header=True)\n",
    "\n",
    "# Filter validation examples\n",
    "valid_data.examples = [e for e in valid_data if e.SemEval_set == 'TRIAL']\n",
    "valid_data.fields['SemEval_set'] = None\n",
    "print(f'Size: {len(valid_data)}')"
   ]
  },
  {
   "cell_type": "code",
   "execution_count": 4,
   "id": "3334a843",
   "metadata": {},
   "outputs": [
    {
     "name": "stdout",
     "output_type": "stream",
     "text": [
      "Size: 4906\n"
     ]
    }
   ],
   "source": [
    "# Build testing dataset from tsv file\n",
    "test_data = data.TabularDataset(\n",
    "    path='sick_dataset/SICK.txt', \n",
    "    format='tsv', \n",
    "    fields=[\n",
    "        ('pair_ID', None), \n",
    "        ('sentence_A', TEXT), \n",
    "        ('sentence_B', TEXT), \n",
    "        ('entailment_label', LABEL),\n",
    "        ('relatedness_score', SCORE),\n",
    "        ('entailment_AB', None),\n",
    "        ('entailment_BA', None),\n",
    "        ('sentence_A_original', None),\n",
    "        ('sentence_B_original', None),\n",
    "        ('sentence_A_dataset', None),\n",
    "        ('sentence_B_dataset', None),\n",
    "        ('SemEval_set', SET)],\n",
    "    skip_header=True)\n",
    "\n",
    "# Filter testing examples\n",
    "test_data.examples = [e for e in test_data if e.SemEval_set == 'TEST']\n",
    "test_data.fields['SemEval_set'] = None\n",
    "print(f'Size: {len(test_data)}')"
   ]
  },
  {
   "cell_type": "code",
   "execution_count": 5,
   "id": "b889264f",
   "metadata": {},
   "outputs": [],
   "source": [
    "# Word2Vec embedding\n",
    "word2vec = KeyedVectors.load_word2vec_format('embeddings/GoogleNews-vectors-negative300.bin.gz', binary=True)\n",
    "weights = torch.FloatTensor(word2vec.vectors)\n",
    "mapping = word2vec.key_to_index"
   ]
  },
  {
   "cell_type": "code",
   "execution_count": 6,
   "id": "2282790d",
   "metadata": {},
   "outputs": [],
   "source": [
    "# Build vocabulary with the Word2Vec embedding\n",
    "TEXT.build_vocab(train_data)\n",
    "TEXT.vocab.set_vectors(mapping, weights, weights.shape[1])\n",
    "LABEL.build_vocab(train_data)\n",
    "del word2vec"
   ]
  },
  {
   "cell_type": "code",
   "execution_count": 7,
   "id": "17682dde",
   "metadata": {},
   "outputs": [
    {
     "name": "stdout",
     "output_type": "stream",
     "text": [
      "2252\n",
      "[('is', 8126), ('a', 7132), ('A', 5196), ('the', 3054), ('man', 2479), ('in', 2268), ('and', 2041), ('are', 1728), ('on', 1704), ('The', 1598), ('woman', 1310), ('of', 1136), ('dog', 1089), ('playing', 1040), ('with', 946), ('Two', 557), ('by', 554), ('no', 553), ('person', 542), ('There', 533)]\n",
      "['<unk>', '<pad>', 'is', 'a', 'A', 'the', 'man', 'in', 'and', 'are']\n",
      "defaultdict(None, {'NEUTRAL': 0, 'ENTAILMENT': 1, 'CONTRADICTION': 2})\n"
     ]
    }
   ],
   "source": [
    "# Quick look at the vocabulary\n",
    "print(len(TEXT.vocab))\n",
    "print(TEXT.vocab.freqs.most_common(20))\n",
    "print(TEXT.vocab.itos[:10])\n",
    "print(LABEL.vocab.stoi)"
   ]
  },
  {
   "cell_type": "code",
   "execution_count": 11,
   "id": "9d4ebf73",
   "metadata": {},
   "outputs": [],
   "source": [
    "# Define iterators for the data\n",
    "batch_size = 64\n",
    "\n",
    "train_iterator, valid_iterator, test_iterator = data.BucketIterator.splits(\n",
    "    (train_data, valid_data, test_data), \n",
    "    batch_size=batch_size,\n",
    "    sort_key=lambda x: len(x.sentence_A + x.sentence_B),\n",
    "    sort_within_batch=True,\n",
    "    device=device)"
   ]
  },
  {
   "cell_type": "markdown",
   "id": "759dc7e1",
   "metadata": {},
   "source": [
    "### Actividad 6"
   ]
  },
  {
   "cell_type": "code",
   "execution_count": 20,
   "id": "142261dd",
   "metadata": {},
   "outputs": [],
   "source": [
    "# Siamese RNN\n",
    "class Siamese(nn.Module):\n",
    "    def __init__(self, hidden_dim, embedding):\n",
    "        super().__init__()\n",
    "        \n",
    "        # Model information\n",
    "        self.input_dim = len(embedding)\n",
    "        self.hidden_dim = hidden_dim\n",
    "        \n",
    "        # Embedding layer\n",
    "        unk_idx = embedding.stoi[TEXT.unk_token]\n",
    "        pad_idx = embedding.stoi[TEXT.pad_token]\n",
    "        self.embedding = nn.Embedding.from_pretrained(embedding.vectors, padding_idx=pad_idx)\n",
    "        self.embedding_dim = embedding.vectors.shape[1]\n",
    "        self.embedding.weight.data[unk_idx] = torch.zeros(self.embedding_dim)\n",
    "        self.embedding.weight.data[pad_idx] = torch.zeros(self.embedding_dim)\n",
    "        \n",
    "        # LSTM networks\n",
    "        self.lstm_1 = nn.LSTM(\n",
    "            input_size=self.embedding_dim,\n",
    "            hidden_size=self.hidden_dim,\n",
    "            bidirectional=True,\n",
    "            batch_first=True)\n",
    "        self.lstm_2 = nn.LSTM(\n",
    "            input_size=self.embedding_dim,\n",
    "            hidden_size=self.hidden_dim,\n",
    "            bidirectional=True,\n",
    "            batch_first=True)\n",
    "    \n",
    "    # Forward pass of the siamese RNN\n",
    "    def forward(self, src_sentences, src_lengths):\n",
    "        # TODO: calcule embeddings usando su implementaci\\’on de word2vec\n",
    "        # TODO: ejecute self.lstm sobre los embeddings de las oraciones\n",
    "        #return all_hidden_states, last_hidden_states, last_cell_states\n",
    "        return 0"
   ]
  },
  {
   "cell_type": "code",
   "execution_count": null,
   "id": "bbf7fb54",
   "metadata": {},
   "outputs": [],
   "source": [
    "# Recurrent Neural Network\n",
    "class RNN(nn.Module):\n",
    "    def __init__(self, input_dim, embedding_dim, hidden_dim, dense_dim, output_dim, num_layers=1, \n",
    "                 lstm=False, bidirectional=False, dropout=0.5, pad_idx=None):\n",
    "        super().__init__()\n",
    "        \n",
    "        # Model information\n",
    "        self.hidden_dim = hidden_dim\n",
    "        self.bidirectional = bidirectional\n",
    "        self.num_layers = num_layers\n",
    "        self.n_directions = 1\n",
    "        if bidirectional:\n",
    "            self.n_directions = 2\n",
    "        \n",
    "        # Embedding layer\n",
    "        self.embedding = nn.Embedding(input_dim, embedding_dim, padding_idx=pad_idx)\n",
    "        \n",
    "        # Dropout settings\n",
    "        dropout_value = 0\n",
    "        if num_layers > 1:\n",
    "            dropout_value = dropout\n",
    "        \n",
    "        # RNN type (Normal/LSTM)\n",
    "        self.lstm = lstm\n",
    "        if lstm:\n",
    "            self.rnn = nn.LSTM(embedding_dim, \n",
    "                              hidden_dim, \n",
    "                              num_layers=num_layers, \n",
    "                              bidirectional=bidirectional, \n",
    "                              dropout=dropout_value,\n",
    "                              batch_first=True)\n",
    "        else:\n",
    "            self.rnn = nn.RNN(embedding_dim, \n",
    "                              hidden_dim, \n",
    "                              num_layers=num_layers, \n",
    "                              bidirectional=bidirectional, \n",
    "                              dropout=dropout_value,\n",
    "                              batch_first=True)\n",
    "\n",
    "        # Dense layers for classification\n",
    "        self.dense = nn.Linear(hidden_dim * self.n_directions, dense_dim)\n",
    "        self.linear_out = nn.Linear(dense_dim, output_dim)\n",
    "    \n",
    "    # Forward pass of the RNN\n",
    "    def forward(self, text, text_lengths):\n",
    "        # Pad sequence\n",
    "        embedded = self.embedding(text)\n",
    "        packed_embedded = nn.utils.rnn.pack_padded_sequence(embedded, text_lengths.to('cpu'), batch_first=True)\n",
    "        \n",
    "        # RNN type\n",
    "        if self.lstm:\n",
    "            packed_output, (hidden, cell) = self.rnn(packed_embedded)\n",
    "        else:\n",
    "            packed_output, hidden = self.rnn(packed_embedded)\n",
    "        \n",
    "        # Final state\n",
    "        hidden = hidden.view(self.num_layers, self.n_directions, text.shape[0], self.hidden_dim)[-1]\n",
    "          \n",
    "        # Directions\n",
    "        if self.bidirectional:\n",
    "            hidden = torch.cat((hidden[-2,:,:], hidden[-1,:,:]), dim=1)\n",
    "        else:\n",
    "            hidden = hidden.squeeze(0)\n",
    "        \n",
    "        # Dense layer\n",
    "        dense = self.dense(hidden)\n",
    "        return self.linear_out(dense)\n",
    "\n",
    "# Check the number of trainable parameters in a model\n",
    "def num_trainable_parameters(model):\n",
    "    return sum(p.numel() for p in model.parameters() if p.requires_grad)"
   ]
  },
  {
   "cell_type": "markdown",
   "id": "93a0c605",
   "metadata": {},
   "source": [
    "### Actividad 7"
   ]
  },
  {
   "cell_type": "code",
   "execution_count": 3,
   "id": "229189f5",
   "metadata": {},
   "outputs": [],
   "source": []
  },
  {
   "cell_type": "markdown",
   "id": "b2f51f4f",
   "metadata": {},
   "source": [
    "### Actividad 8"
   ]
  },
  {
   "cell_type": "code",
   "execution_count": 2,
   "id": "e36b0786",
   "metadata": {},
   "outputs": [],
   "source": []
  },
  {
   "cell_type": "markdown",
   "id": "437521dc",
   "metadata": {},
   "source": [
    "### Visualización"
   ]
  },
  {
   "cell_type": "markdown",
   "id": "914b5a6c",
   "metadata": {},
   "source": [
    "## Referencias"
   ]
  },
  {
   "cell_type": "markdown",
   "id": "91dfaada",
   "metadata": {},
   "source": [
    "[1] Sentiment Analysis en Pytorch: https://github.com/bentrevett/pytorch-sentiment-analysis\n",
    "\n",
    "[2] Text Classification en Pytorch: https://www.analyticsvidhya.com/blog/2020/01/first-text-classification-in-pytorch\n",
    "\n",
    "[3]"
   ]
  },
  {
   "cell_type": "code",
   "execution_count": null,
   "id": "e6a9d100",
   "metadata": {},
   "outputs": [],
   "source": []
  }
 ],
 "metadata": {
  "kernelspec": {
   "display_name": "Python 3",
   "language": "python",
   "name": "python3"
  },
  "language_info": {
   "codemirror_mode": {
    "name": "ipython",
    "version": 3
   },
   "file_extension": ".py",
   "mimetype": "text/x-python",
   "name": "python",
   "nbconvert_exporter": "python",
   "pygments_lexer": "ipython3",
   "version": "3.8.1"
  }
 },
 "nbformat": 4,
 "nbformat_minor": 5
}
