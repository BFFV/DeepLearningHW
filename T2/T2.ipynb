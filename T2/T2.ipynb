{
 "cells": [
  {
   "cell_type": "markdown",
   "id": "a968a665",
   "metadata": {},
   "source": [
    "# Tarea 2 - Redes Neuronales Recurrentes (RNNs)"
   ]
  },
  {
   "cell_type": "markdown",
   "id": "c8921a88",
   "metadata": {},
   "source": [
    "## Parte 1: Detección de Spam"
   ]
  },
  {
   "cell_type": "code",
   "execution_count": 1,
   "id": "03a011f3",
   "metadata": {},
   "outputs": [],
   "source": [
    "import torch\n",
    "import random\n",
    "import time\n",
    "import matplotlib.pyplot as plt\n",
    "from torch import nn\n",
    "from torchtext.legacy import data\n",
    "\n",
    "# Use GPU\n",
    "device = torch.device('cuda:0' if torch.cuda.is_available() else 'cpu')\n",
    "\n",
    "# Text learning setup\n",
    "SEED = 1999\n",
    "torch.manual_seed(SEED)\n",
    "torch.backends.cudnn.deterministic = True\n",
    "TEXT = data.Field(tokenize='spacy', tokenizer_language='en_core_web_sm', include_lengths=True, batch_first=True)\n",
    "LABEL = data.LabelField(dtype=torch.long, batch_first=True)"
   ]
  },
  {
   "cell_type": "markdown",
   "id": "7a09d7e4",
   "metadata": {},
   "source": [
    "### Actividad 1"
   ]
  },
  {
   "cell_type": "code",
   "execution_count": 2,
   "id": "5784eb52",
   "metadata": {},
   "outputs": [],
   "source": [
    "# Build dataset from tsv file\n",
    "spam_dataset = data.TabularDataset(\n",
    "    path='spam_dataset/spam', \n",
    "    format='tsv', \n",
    "    fields=[('label', LABEL), ('text', TEXT)])"
   ]
  },
  {
   "cell_type": "code",
   "execution_count": 3,
   "id": "08229b07",
   "metadata": {},
   "outputs": [],
   "source": [
    "# Divide between training/testing (70/30 split)\n",
    "train_data, test_data = spam_dataset.split(random_state=random.seed(SEED))"
   ]
  },
  {
   "cell_type": "code",
   "execution_count": 4,
   "id": "5caf8e07",
   "metadata": {},
   "outputs": [],
   "source": [
    "# Build vocabulary with the GloVe embedding\n",
    "MAX_VOCAB_SIZE = 25_000\n",
    "\n",
    "TEXT.build_vocab(train_data, \n",
    "                 max_size=MAX_VOCAB_SIZE, \n",
    "                 vectors='glove.6B.100d', \n",
    "                 unk_init=torch.Tensor.normal_)\n",
    "\n",
    "LABEL.build_vocab(train_data)"
   ]
  },
  {
   "cell_type": "code",
   "execution_count": 5,
   "id": "29d250b0",
   "metadata": {
    "scrolled": true
   },
   "outputs": [
    {
     "name": "stdout",
     "output_type": "stream",
     "text": [
      "[('.', 3486), ('to', 1488), ('I', 1395), (',', 1333), ('you', 1284), ('?', 1006), ('!', 947), ('a', 937), ('the', 827), ('...', 785), ('i', 693), ('and', 625), ('in', 577), ('is', 567), ('u', 542), ('me', 533), ('..', 464), ('for', 446), ('my', 424), ('it', 423)]\n"
     ]
    }
   ],
   "source": [
    "print(TEXT.vocab.freqs.most_common(20))"
   ]
  },
  {
   "cell_type": "code",
   "execution_count": 6,
   "id": "297edc6b",
   "metadata": {},
   "outputs": [
    {
     "name": "stdout",
     "output_type": "stream",
     "text": [
      "['<unk>', '<pad>', '.', 'to', 'I', ',', 'you', '?', '!', 'a']\n"
     ]
    }
   ],
   "source": [
    "print(TEXT.vocab.itos[:10])"
   ]
  },
  {
   "cell_type": "code",
   "execution_count": 7,
   "id": "809c0a60",
   "metadata": {},
   "outputs": [
    {
     "name": "stdout",
     "output_type": "stream",
     "text": [
      "defaultdict(None, {'ham': 0, 'spam': 1})\n"
     ]
    }
   ],
   "source": [
    "print(LABEL.vocab.stoi)"
   ]
  },
  {
   "cell_type": "markdown",
   "id": "b20c65a9",
   "metadata": {},
   "source": [
    "### Actividad 2"
   ]
  },
  {
   "cell_type": "code",
   "execution_count": 8,
   "id": "53212d19",
   "metadata": {},
   "outputs": [],
   "source": [
    "class RNN(nn.Module):\n",
    "    def __init__(self, input_dim, embedding_dim, hidden_dim, dense_dim, output_dim, num_layers=1, \n",
    "                 lstm=False, bidirectional=False, dropout=0.5, pad_idx=None):\n",
    "        super().__init__()\n",
    "        \n",
    "        # Information\n",
    "        self.bidirectional = bidirectional\n",
    "        self.num_layers = num_layers\n",
    "        \n",
    "        # Embedding layer\n",
    "        self.embedding = nn.Embedding(input_dim, embedding_dim, padding_idx=pad_idx)\n",
    "        \n",
    "        # Dropout settings\n",
    "        dropout_value = 0\n",
    "        if num_layers > 1:\n",
    "            dropout_value = dropout\n",
    "        \n",
    "        # RNN type (Normal/LSTM)\n",
    "        self.lstm = lstm\n",
    "        if lstm:\n",
    "            self.rnn = nn.LSTM(embedding_dim, \n",
    "                              hidden_dim, \n",
    "                              num_layers=num_layers, \n",
    "                              bidirectional=bidirectional, \n",
    "                              dropout=dropout_value,\n",
    "                              batch_first=True)\n",
    "        else:\n",
    "            self.rnn = nn.RNN(embedding_dim, \n",
    "                              hidden_dim, \n",
    "                              num_layers=num_layers, \n",
    "                              bidirectional=bidirectional, \n",
    "                              dropout=dropout_value,\n",
    "                              batch_first=True)\n",
    "\n",
    "        # Dense layers for classification\n",
    "        n_directions = 1\n",
    "        if bidirectional:\n",
    "            n_directions = 2\n",
    "        self.dim = n_directions * num_layers\n",
    "        self.dense = nn.Linear(hidden_dim * self.dim, dense_dim)\n",
    "        self.linear_out = nn.Linear(dense_dim, output_dim)\n",
    "    \n",
    "    # This method defines the forward pass of the RNN\n",
    "    def forward(self, text, text_lengths):\n",
    "        embedded = self.embedding(text)\n",
    "        packed_embedded = nn.utils.rnn.pack_padded_sequence(embedded, text_lengths.to('cpu'), batch_first=True)\n",
    "        if self.lstm:\n",
    "            packed_output, (hidden, cell) = self.rnn(packed_embedded)\n",
    "        else:\n",
    "            packed_output, hidden = self.rnn(packed_embedded)\n",
    "        \n",
    "        if self.dim > 1:\n",
    "            hidden = torch.cat((hidden[-2,:,:], hidden[-1,:,:]), dim=1)\n",
    "        else:\n",
    "            hidden = hidden.squeeze(0)\n",
    "        dense = self.dense(hidden)\n",
    "        return self.linear_out(dense)"
   ]
  },
  {
   "cell_type": "code",
   "execution_count": 9,
   "id": "1f3e34ed",
   "metadata": {},
   "outputs": [],
   "source": [
    "input_dim = len(TEXT.vocab)\n",
    "embedding_dim = 100\n",
    "hidden_dim = 80\n",
    "dense_dim = 60\n",
    "output_dim = 2\n",
    "num_layers = 1\n",
    "pad_idx = TEXT.vocab.stoi[TEXT.pad_token]\n",
    "\n",
    "simple_model = RNN(input_dim, embedding_dim, hidden_dim, dense_dim, output_dim, num_layers=num_layers, pad_idx=pad_idx)"
   ]
  },
  {
   "cell_type": "code",
   "execution_count": 10,
   "id": "76cf8169",
   "metadata": {},
   "outputs": [],
   "source": [
    "# Check the number of trainable parameters in a model\n",
    "def num_trainable_parameters(model):\n",
    "    return sum(p.numel() for p in model.parameters() if p.requires_grad)"
   ]
  },
  {
   "cell_type": "code",
   "execution_count": 11,
   "id": "5ff9b86d",
   "metadata": {
    "scrolled": true
   },
   "outputs": [
    {
     "name": "stdout",
     "output_type": "stream",
     "text": [
      "Trainable Parameters: 973442\n"
     ]
    }
   ],
   "source": [
    "print(f'Trainable Parameters: {num_trainable_parameters(simple_model)}')"
   ]
  },
  {
   "cell_type": "code",
   "execution_count": 12,
   "id": "30aa5120",
   "metadata": {},
   "outputs": [],
   "source": [
    "input_dim = len(TEXT.vocab)\n",
    "embedding_dim = 100\n",
    "hidden_dim = 120\n",
    "dense_dim = 60\n",
    "output_dim = 2\n",
    "num_layers = 1\n",
    "pad_idx = TEXT.vocab.stoi[TEXT.pad_token]\n",
    "\n",
    "simple_model = RNN(input_dim, embedding_dim, hidden_dim, dense_dim, output_dim, num_layers=num_layers, pad_idx=pad_idx)"
   ]
  },
  {
   "cell_type": "code",
   "execution_count": 13,
   "id": "86747bb9",
   "metadata": {},
   "outputs": [
    {
     "name": "stdout",
     "output_type": "stream",
     "text": [
      "Trainable Parameters: 987922\n"
     ]
    }
   ],
   "source": [
    "print(f'Trainable Parameters: {num_trainable_parameters(simple_model)}')"
   ]
  },
  {
   "cell_type": "code",
   "execution_count": 14,
   "id": "bbf02de2",
   "metadata": {},
   "outputs": [
    {
     "name": "stdout",
     "output_type": "stream",
     "text": [
      "torch.Size([9539, 100])\n"
     ]
    }
   ],
   "source": [
    "pretrained_embeddings = TEXT.vocab.vectors\n",
    "print(pretrained_embeddings.shape)"
   ]
  },
  {
   "cell_type": "code",
   "execution_count": 15,
   "id": "338ee18e",
   "metadata": {},
   "outputs": [
    {
     "data": {
      "text/plain": [
       "tensor([[ 0.2811,  0.4112,  0.3499,  ...,  2.6923, -1.6318,  1.9040],\n",
       "        [-0.3175, -0.0607, -2.2068,  ..., -0.7107,  0.6260, -0.0505],\n",
       "        [-0.3398,  0.2094,  0.4635,  ..., -0.2339,  0.4730, -0.0288],\n",
       "        ...,\n",
       "        [-0.0346,  0.2088,  0.2014,  ..., -0.6978,  0.3013, -0.5122],\n",
       "        [-0.0426, -0.0842, -0.3309,  ..., -0.9232,  0.0126,  0.2147],\n",
       "        [ 0.0147,  0.1726,  1.1608,  ..., -0.4003,  0.7675,  0.7384]])"
      ]
     },
     "execution_count": 15,
     "metadata": {},
     "output_type": "execute_result"
    }
   ],
   "source": [
    "simple_model.embedding.weight.data.copy_(pretrained_embeddings)"
   ]
  },
  {
   "cell_type": "code",
   "execution_count": 16,
   "id": "9b12c16d",
   "metadata": {},
   "outputs": [
    {
     "name": "stdout",
     "output_type": "stream",
     "text": [
      "tensor([[ 0.0000,  0.0000,  0.0000,  ...,  0.0000,  0.0000,  0.0000],\n",
      "        [ 0.0000,  0.0000,  0.0000,  ...,  0.0000,  0.0000,  0.0000],\n",
      "        [-0.3398,  0.2094,  0.4635,  ..., -0.2339,  0.4730, -0.0288],\n",
      "        ...,\n",
      "        [-0.0346,  0.2088,  0.2014,  ..., -0.6978,  0.3013, -0.5122],\n",
      "        [-0.0426, -0.0842, -0.3309,  ..., -0.9232,  0.0126,  0.2147],\n",
      "        [ 0.0147,  0.1726,  1.1608,  ..., -0.4003,  0.7675,  0.7384]])\n"
     ]
    }
   ],
   "source": [
    "unk_idx = TEXT.vocab.stoi[TEXT.unk_token]\n",
    "\n",
    "simple_model.embedding.weight.data[unk_idx] = torch.zeros(embedding_dim)\n",
    "simple_model.embedding.weight.data[pad_idx] = torch.zeros(embedding_dim)\n",
    "\n",
    "print(simple_model.embedding.weight.data)"
   ]
  },
  {
   "cell_type": "markdown",
   "id": "4b707029",
   "metadata": {},
   "source": [
    "### Actividad 3"
   ]
  },
  {
   "cell_type": "code",
   "execution_count": 17,
   "id": "57df5512",
   "metadata": {},
   "outputs": [],
   "source": [
    "# Round the output value to binary values\n",
    "def binary_accuracy(preds, y):\n",
    "    rounded_preds = torch.round(preds)\n",
    "    _, pred_labels = torch.max(rounded_preds, dim=1)\n",
    "    correct = (pred_labels == y).float()\n",
    "    acc = correct.sum() / len(correct)\n",
    "    return acc\n",
    "\n",
    "# Calculate epoch time\n",
    "def epoch_time(start_time, end_time):\n",
    "    elapsed_time = end_time - start_time\n",
    "    elapsed_mins = int(elapsed_time / 60)\n",
    "    elapsed_secs = int(elapsed_time - (elapsed_mins * 60))\n",
    "    return elapsed_mins, elapsed_secs\n",
    "\n",
    "# Train for one epoch\n",
    "def train(model, iterator, optimizer, criterion):\n",
    "    epoch_loss = 0\n",
    "    epoch_acc = 0\n",
    "    model.train()  # Training mode\n",
    "    for batch in iterator:\n",
    "        # Reset gradients & predict\n",
    "        optimizer.zero_grad()\n",
    "        text, text_lengths = batch.text\n",
    "        predictions = model(text, text_lengths).squeeze(1)\n",
    "        \n",
    "        # Compute loss & accuracy, run backprop and update weights\n",
    "        loss = criterion(predictions, batch.label)\n",
    "        acc = binary_accuracy(predictions, batch.label)\n",
    "        loss.backward()\n",
    "        optimizer.step()\n",
    "        \n",
    "        # Metrics\n",
    "        epoch_loss += loss.item()\n",
    "        epoch_acc += acc.item()\n",
    "    return epoch_loss / len(iterator), epoch_acc / len(iterator)\n",
    "\n",
    "# Test for one epoch\n",
    "def test(model, iterator, criterion):\n",
    "    epoch_loss = 0\n",
    "    epoch_acc = 0\n",
    "    model.eval()  # Eval mode\n",
    "    with torch.no_grad():\n",
    "        for batch in iterator:\n",
    "            # Get predictions\n",
    "            text, text_lengths = batch.text\n",
    "            predictions = model(text, text_lengths).squeeze(1)\n",
    "            \n",
    "            # Compute loss & accuracy\n",
    "            loss = criterion(predictions, batch.label)\n",
    "            acc = binary_accuracy(predictions, batch.label)\n",
    "\n",
    "            # Metrics\n",
    "            epoch_loss += loss.item()\n",
    "            epoch_acc += acc.item()   \n",
    "    return epoch_loss / len(iterator), epoch_acc / len(iterator)\n",
    "\n",
    "# Run training\n",
    "def run_training(model, iterator, optimizer, criterion, n_epochs):\n",
    "    history = {'acc': [], 'loss': []}\n",
    "    for epoch in range(n_epochs):\n",
    "        start_time = time.time()\n",
    "        \n",
    "        # Train one epoch\n",
    "        train_loss, train_acc = train(model, iterator, optimizer, criterion)\n",
    "        end_time = time.time()\n",
    "        epoch_mins, epoch_secs = epoch_time(start_time, end_time)\n",
    "        \n",
    "        # Display information\n",
    "        print(f'Epoch: {epoch+1:02} | Epoch Time: {epoch_mins}m {epoch_secs}s')\n",
    "        print(f'\\tTrain Loss: {train_loss:.3f} | Train Acc: {train_acc*100:.2f}%')\n",
    "        \n",
    "        # Save metrics history\n",
    "        history['acc'].append(round(train_acc, 2))\n",
    "        history['loss'].append(round(train_loss, 2))\n",
    "    return history\n",
    "\n",
    "# Run testing\n",
    "def run_testing(model, iterator, criterion):\n",
    "    test_loss, test_acc = test(model, iterator, criterion)\n",
    "    print(f'Test Loss: {test_loss:.3f} | Test Acc: {test_acc*100:.2f}%')\n",
    "    return round(test_acc, 2), round(test_loss, 2)"
   ]
  },
  {
   "cell_type": "code",
   "execution_count": 18,
   "id": "7ac0a7d6",
   "metadata": {},
   "outputs": [],
   "source": [
    "# Define iterators for the data\n",
    "batch_size = 64\n",
    "\n",
    "train_iterator, test_iterator = data.BucketIterator.splits(\n",
    "    (train_data, test_data), \n",
    "    batch_size=batch_size,\n",
    "    sort_key=lambda x: len(x.text),\n",
    "    sort_within_batch=True,\n",
    "    device=device)"
   ]
  },
  {
   "cell_type": "code",
   "execution_count": 19,
   "id": "a54ef8a5",
   "metadata": {},
   "outputs": [],
   "source": [
    "# Hyperparameters: number of epochs and learning rate\n",
    "n_epochs = 5\n",
    "lr = 0.01\n",
    "\n",
    "# Loss, Optimizer\n",
    "criterion = nn.CrossEntropyLoss()\n",
    "optimizer = torch.optim.Adam(simple_model.parameters(), lr=lr)\n",
    "\n",
    "# Model & Criterion to GPU\n",
    "simple_model = simple_model.to(device)\n",
    "criterion = criterion.to(device)"
   ]
  },
  {
   "cell_type": "code",
   "execution_count": 20,
   "id": "9e08816b",
   "metadata": {},
   "outputs": [
    {
     "name": "stdout",
     "output_type": "stream",
     "text": [
      "Epoch: 01 | Epoch Time: 0m 0s\n",
      "\tTrain Loss: 0.351 | Train Acc: 88.34%\n",
      "Epoch: 02 | Epoch Time: 0m 0s\n",
      "\tTrain Loss: 0.138 | Train Acc: 95.31%\n",
      "Epoch: 03 | Epoch Time: 0m 0s\n",
      "\tTrain Loss: 0.056 | Train Acc: 98.31%\n",
      "Epoch: 04 | Epoch Time: 0m 0s\n",
      "\tTrain Loss: 0.022 | Train Acc: 99.51%\n",
      "Epoch: 05 | Epoch Time: 0m 0s\n",
      "\tTrain Loss: 0.017 | Train Acc: 99.64%\n"
     ]
    }
   ],
   "source": [
    "# Run training\n",
    "train_history = run_training(simple_model, train_iterator, optimizer, criterion, n_epochs)"
   ]
  },
  {
   "cell_type": "code",
   "execution_count": 21,
   "id": "0144d739",
   "metadata": {},
   "outputs": [
    {
     "data": {
      "image/png": "[encoded data removed]",
      "text/plain": [
       "<Figure size 1080x720 with 1 Axes>"
      ]
     },
     "metadata": {
      "needs_background": "light"
     },
     "output_type": "display_data"
    }
   ],
   "source": [
    "# History for epoch loss\n",
    "plt.figure(figsize=(15, 10))\n",
    "plt.plot(train_history['acc'])\n",
    "plt.plot(train_history['loss'])\n",
    "plt.title('Model Accuracy/Loss')\n",
    "plt.ylabel('N')\n",
    "plt.xlabel('Epoch')\n",
    "plt.legend(['acc', 'loss'], loc='upper left')\n",
    "plt.show()"
   ]
  },
  {
   "cell_type": "code",
   "execution_count": 22,
   "id": "9e90435b",
   "metadata": {},
   "outputs": [
    {
     "name": "stdout",
     "output_type": "stream",
     "text": [
      "Test Loss: 0.111 | Test Acc: 97.11%\n"
     ]
    }
   ],
   "source": [
    "# Run testing\n",
    "test_acc, test_loss = run_testing(simple_model, test_iterator, criterion)"
   ]
  },
  {
   "cell_type": "markdown",
   "id": "c6b0c909",
   "metadata": {},
   "source": [
    "### Actividad 4"
   ]
  },
  {
   "cell_type": "code",
   "execution_count": 23,
   "id": "bb721270",
   "metadata": {},
   "outputs": [],
   "source": [
    "input_dim = len(TEXT.vocab)\n",
    "embedding_dim = 100\n",
    "hidden_dim = 120\n",
    "dense_dim = 60\n",
    "output_dim = 2\n",
    "num_layers = 1\n",
    "pad_idx = TEXT.vocab.stoi[TEXT.pad_token]\n",
    "\n",
    "lstm_model = RNN(input_dim, embedding_dim, hidden_dim, dense_dim, output_dim, num_layers=num_layers, lstm=True, pad_idx=pad_idx)"
   ]
  },
  {
   "cell_type": "code",
   "execution_count": 24,
   "id": "2807b954",
   "metadata": {
    "scrolled": true
   },
   "outputs": [
    {
     "name": "stdout",
     "output_type": "stream",
     "text": [
      "Trainable Parameters: 1067842\n"
     ]
    }
   ],
   "source": [
    "print(f'Trainable Parameters: {num_trainable_parameters(lstm_model)}')"
   ]
  },
  {
   "cell_type": "code",
   "execution_count": 25,
   "id": "666e38b9",
   "metadata": {},
   "outputs": [
    {
     "name": "stdout",
     "output_type": "stream",
     "text": [
      "tensor([[ 0.0000,  0.0000,  0.0000,  ...,  0.0000,  0.0000,  0.0000],\n",
      "        [ 0.0000,  0.0000,  0.0000,  ...,  0.0000,  0.0000,  0.0000],\n",
      "        [-0.3398,  0.2094,  0.4635,  ..., -0.2339,  0.4730, -0.0288],\n",
      "        ...,\n",
      "        [-0.0346,  0.2088,  0.2014,  ..., -0.6978,  0.3013, -0.5122],\n",
      "        [-0.0426, -0.0842, -0.3309,  ..., -0.9232,  0.0126,  0.2147],\n",
      "        [ 0.0147,  0.1726,  1.1608,  ..., -0.4003,  0.7675,  0.7384]])\n"
     ]
    }
   ],
   "source": [
    "lstm_model.embedding.weight.data.copy_(pretrained_embeddings)\n",
    "\n",
    "unk_idx = TEXT.vocab.stoi[TEXT.unk_token]\n",
    "\n",
    "lstm_model.embedding.weight.data[unk_idx] = torch.zeros(embedding_dim)\n",
    "lstm_model.embedding.weight.data[pad_idx] = torch.zeros(embedding_dim)\n",
    "\n",
    "print(lstm_model.embedding.weight.data)"
   ]
  },
  {
   "cell_type": "code",
   "execution_count": 26,
   "id": "5ab38791",
   "metadata": {},
   "outputs": [],
   "source": [
    "# Hyperparameters: number of epochs and learning rate\n",
    "n_epochs = 5\n",
    "lr = 0.01\n",
    "\n",
    "# Loss, Optimizer\n",
    "criterion = nn.CrossEntropyLoss()\n",
    "optimizer = torch.optim.Adam(lstm_model.parameters(), lr=lr)\n",
    "\n",
    "# Model & Criterion to GPU\n",
    "lstm_model = lstm_model.to(device)\n",
    "criterion = criterion.to(device)"
   ]
  },
  {
   "cell_type": "code",
   "execution_count": 27,
   "id": "c1c84970",
   "metadata": {},
   "outputs": [
    {
     "name": "stdout",
     "output_type": "stream",
     "text": [
      "Epoch: 01 | Epoch Time: 0m 0s\n",
      "\tTrain Loss: 0.287 | Train Acc: 89.47%\n",
      "Epoch: 02 | Epoch Time: 0m 0s\n",
      "\tTrain Loss: 0.057 | Train Acc: 98.34%\n",
      "Epoch: 03 | Epoch Time: 0m 0s\n",
      "\tTrain Loss: 0.015 | Train Acc: 99.62%\n",
      "Epoch: 04 | Epoch Time: 0m 0s\n",
      "\tTrain Loss: 0.004 | Train Acc: 99.90%\n",
      "Epoch: 05 | Epoch Time: 0m 0s\n",
      "\tTrain Loss: 0.005 | Train Acc: 99.92%\n"
     ]
    }
   ],
   "source": [
    "# Run training\n",
    "train_history = run_training(lstm_model, train_iterator, optimizer, criterion, n_epochs)"
   ]
  },
  {
   "cell_type": "code",
   "execution_count": 29,
   "id": "12584ae0",
   "metadata": {},
   "outputs": [
    {
     "name": "stdout",
     "output_type": "stream",
     "text": [
      "Test Loss: 0.143 | Test Acc: 96.93%\n"
     ]
    }
   ],
   "source": [
    "# Run testing\n",
    "test_acc, test_loss = run_testing(lstm_model, test_iterator, criterion)"
   ]
  },
  {
   "cell_type": "markdown",
   "id": "46193b19",
   "metadata": {},
   "source": [
    "### Actividad 5"
   ]
  },
  {
   "cell_type": "code",
   "execution_count": 36,
   "id": "aaca5e18",
   "metadata": {},
   "outputs": [],
   "source": [
    "input_dim = len(TEXT.vocab)\n",
    "embedding_dim = 100\n",
    "hidden_dim = 120\n",
    "dense_dim = 60\n",
    "output_dim = 2\n",
    "num_layers = 1\n",
    "pad_idx = TEXT.vocab.stoi[TEXT.pad_token]\n",
    "\n",
    "best_model = RNN(input_dim, embedding_dim, hidden_dim, dense_dim, output_dim, num_layers=num_layers, lstm=True, bidirectional=True, pad_idx=pad_idx)"
   ]
  },
  {
   "cell_type": "code",
   "execution_count": 37,
   "id": "0cae997a",
   "metadata": {},
   "outputs": [
    {
     "name": "stdout",
     "output_type": "stream",
     "text": [
      "Trainable Parameters: 1181602\n"
     ]
    }
   ],
   "source": [
    "print(f'Trainable Parameters: {num_trainable_parameters(best_model)}')"
   ]
  },
  {
   "cell_type": "code",
   "execution_count": 38,
   "id": "60d3a83d",
   "metadata": {},
   "outputs": [
    {
     "name": "stdout",
     "output_type": "stream",
     "text": [
      "tensor([[ 0.0000,  0.0000,  0.0000,  ...,  0.0000,  0.0000,  0.0000],\n",
      "        [ 0.0000,  0.0000,  0.0000,  ...,  0.0000,  0.0000,  0.0000],\n",
      "        [-0.3398,  0.2094,  0.4635,  ..., -0.2339,  0.4730, -0.0288],\n",
      "        ...,\n",
      "        [-0.0346,  0.2088,  0.2014,  ..., -0.6978,  0.3013, -0.5122],\n",
      "        [-0.0426, -0.0842, -0.3309,  ..., -0.9232,  0.0126,  0.2147],\n",
      "        [ 0.0147,  0.1726,  1.1608,  ..., -0.4003,  0.7675,  0.7384]])\n"
     ]
    }
   ],
   "source": [
    "best_model.embedding.weight.data.copy_(pretrained_embeddings)\n",
    "\n",
    "unk_idx = TEXT.vocab.stoi[TEXT.unk_token]\n",
    "\n",
    "best_model.embedding.weight.data[unk_idx] = torch.zeros(embedding_dim)\n",
    "best_model.embedding.weight.data[pad_idx] = torch.zeros(embedding_dim)\n",
    "\n",
    "print(best_model.embedding.weight.data)"
   ]
  },
  {
   "cell_type": "code",
   "execution_count": 39,
   "id": "ae1a5a46",
   "metadata": {},
   "outputs": [],
   "source": [
    "# Hyperparameters: number of epochs and learning rate\n",
    "n_epochs = 5\n",
    "lr = 0.01\n",
    "\n",
    "# Loss, Optimizer\n",
    "criterion = nn.CrossEntropyLoss()\n",
    "optimizer = torch.optim.Adam(best_model.parameters(), lr=lr)\n",
    "\n",
    "# Model & Criterion to GPU\n",
    "best_model = best_model.to(device)\n",
    "criterion = criterion.to(device)"
   ]
  },
  {
   "cell_type": "code",
   "execution_count": 40,
   "id": "47f970e1",
   "metadata": {},
   "outputs": [
    {
     "name": "stdout",
     "output_type": "stream",
     "text": [
      "Epoch: 01 | Epoch Time: 0m 0s\n",
      "\tTrain Loss: 0.316 | Train Acc: 90.47%\n",
      "Epoch: 02 | Epoch Time: 0m 0s\n",
      "\tTrain Loss: 0.050 | Train Acc: 98.44%\n",
      "Epoch: 03 | Epoch Time: 0m 0s\n",
      "\tTrain Loss: 0.010 | Train Acc: 99.77%\n",
      "Epoch: 04 | Epoch Time: 0m 0s\n",
      "\tTrain Loss: 0.004 | Train Acc: 99.82%\n",
      "Epoch: 05 | Epoch Time: 0m 0s\n",
      "\tTrain Loss: 0.001 | Train Acc: 99.97%\n"
     ]
    }
   ],
   "source": [
    "# Run training\n",
    "train_history = run_training(best_model, train_iterator, optimizer, criterion, n_epochs)"
   ]
  },
  {
   "cell_type": "code",
   "execution_count": 41,
   "id": "02c603a5",
   "metadata": {},
   "outputs": [
    {
     "name": "stdout",
     "output_type": "stream",
     "text": [
      "Test Loss: 0.061 | Test Acc: 98.67%\n"
     ]
    }
   ],
   "source": [
    "# Run testing\n",
    "test_acc, test_loss = run_testing(best_model, test_iterator, criterion)"
   ]
  },
  {
   "cell_type": "markdown",
   "id": "ebcb6829",
   "metadata": {},
   "source": [
    "## Parte 2: Aprendizaje de Similitud entre Oraciones"
   ]
  },
  {
   "cell_type": "markdown",
   "id": "759dc7e1",
   "metadata": {},
   "source": [
    "### Actividad 6"
   ]
  },
  {
   "cell_type": "code",
   "execution_count": 2,
   "id": "142261dd",
   "metadata": {},
   "outputs": [],
   "source": []
  },
  {
   "cell_type": "markdown",
   "id": "93a0c605",
   "metadata": {},
   "source": [
    "### Actividad 7"
   ]
  },
  {
   "cell_type": "markdown",
   "id": "e1ddfb7c",
   "metadata": {},
   "source": [
    "Comenzamos importando un modelo pre-entrenado de ResNet-50:"
   ]
  },
  {
   "cell_type": "code",
   "execution_count": 3,
   "id": "229189f5",
   "metadata": {},
   "outputs": [],
   "source": []
  },
  {
   "cell_type": "markdown",
   "id": "b2f51f4f",
   "metadata": {},
   "source": [
    "### Actividad 8"
   ]
  },
  {
   "cell_type": "markdown",
   "id": "04537b0d",
   "metadata": {},
   "source": [
    "A continuación se definen diversas funciones en PyTorch para poder realizar el fine-tuning con ResNet-50 **[1]**:"
   ]
  },
  {
   "cell_type": "code",
   "execution_count": 2,
   "id": "e36b0786",
   "metadata": {},
   "outputs": [],
   "source": []
  },
  {
   "cell_type": "markdown",
   "id": "fb5d2372",
   "metadata": {},
   "source": [
    "Se cargan los datasets de flores, aplicando una transformación para dejar todas las imágenes del mismo tamaño, y posteriormente normalizar sus tensores resultantes:"
   ]
  },
  {
   "cell_type": "code",
   "execution_count": 9,
   "id": "a5a57b74",
   "metadata": {},
   "outputs": [],
   "source": []
  },
  {
   "cell_type": "markdown",
   "id": "1b1dcdb1",
   "metadata": {},
   "source": [
    "Se re-entrena el modelo por 20 épocas (a partir de su versión pre-entrenada), utilizando Cross Entropy Loss para la función de pérdida y Stochastic Gradient Descent para el optimizador:"
   ]
  },
  {
   "cell_type": "code",
   "execution_count": null,
   "id": "53413855",
   "metadata": {},
   "outputs": [],
   "source": []
  },
  {
   "cell_type": "markdown",
   "id": "06037535",
   "metadata": {},
   "source": [
    "A continuación se grafica la evolución de la pérdida a través de las épocas:"
   ]
  },
  {
   "cell_type": "code",
   "execution_count": 5,
   "id": "0bcc24d2",
   "metadata": {},
   "outputs": [
    {
     "data": {
      "image/png": "[encoded data removed]",
      "text/plain": [
       "<Figure size 1080x720 with 1 Axes>"
      ]
     },
     "metadata": {
      "needs_background": "light"
     },
     "output_type": "display_data"
    }
   ],
   "source": [
    "# History for epoch loss\n",
    "plt.figure(figsize=(15, 10))\n",
    "plt.plot(history['training']['loss'])\n",
    "plt.plot(history['validation']['loss'])\n",
    "plt.title('Model Loss')\n",
    "plt.ylabel('Loss')\n",
    "plt.xlabel('Epoch')\n",
    "plt.legend(['train', 'val'], loc='upper left')\n",
    "plt.show()"
   ]
  },
  {
   "cell_type": "markdown",
   "id": "a077aa6c",
   "metadata": {},
   "source": [
    "Se puede observar que la pérdida disminuye rápidamente en ambos sets, llegando a un valor casi mínimo alrededor de la época 8. La diferencia inicial se debe a que la validación ocurre posterior a la primera pasada por el set de entrenamiento, teniendo entonces los pesos ya mejorados con respecto al modelo pre-entrenado inicial. Tras la época 8, existe muy poca variación de la pérdida en ambos sets."
   ]
  },
  {
   "cell_type": "markdown",
   "id": "527dd45c",
   "metadata": {},
   "source": [
    "A continuación se grafica la evolución de la exactitud a través de las épocas:"
   ]
  },
  {
   "cell_type": "code",
   "execution_count": 6,
   "id": "a4d18d6c",
   "metadata": {},
   "outputs": [
    {
     "data": {
      "image/png": "[encoded data removed]",
      "text/plain": [
       "<Figure size 1080x720 with 1 Axes>"
      ]
     },
     "metadata": {
      "needs_background": "light"
     },
     "output_type": "display_data"
    }
   ],
   "source": [
    "# History for epoch accuracy\n",
    "plt.figure(figsize=(15,10))\n",
    "plt.plot(history['training']['acc'])\n",
    "plt.plot(history['validation']['acc'])\n",
    "plt.title('Model Accuracy')\n",
    "plt.ylabel('Accuracy')\n",
    "plt.xlabel('Epoch')\n",
    "plt.legend(['train', 'val'], loc='upper left')\n",
    "plt.show()"
   ]
  },
  {
   "cell_type": "markdown",
   "id": "4c654edc",
   "metadata": {},
   "source": [
    "Se puede observar que la exactitud aumenta muy rápido en ambos sets, llegando a un techo alrededor de la época 7. Aún así, el set de validación alcanza una menor exactitud final, evidenciando que ocurre un ligero overfitting desde la época 4 (aprox.) en adelante."
   ]
  },
  {
   "cell_type": "markdown",
   "id": "47418393",
   "metadata": {},
   "source": [
    "Se procede a guardar los parámetros del modelo, de forma que no sea necesario entrenarlo nuevamente **[3]**:"
   ]
  },
  {
   "cell_type": "code",
   "execution_count": 7,
   "id": "d8c68520",
   "metadata": {},
   "outputs": [],
   "source": [
    "torch.save(model.state_dict(), 'flowers.pt')"
   ]
  },
  {
   "cell_type": "markdown",
   "id": "6af07af6",
   "metadata": {},
   "source": [
    "Primero se carga el modelo entrenado en la actividad anterior **[3]**:"
   ]
  },
  {
   "cell_type": "code",
   "execution_count": 3,
   "id": "7203ee33",
   "metadata": {},
   "outputs": [
    {
     "data": {
      "text/plain": [
       "ResNet(\n",
       "  (conv1): Conv2d(3, 64, kernel_size=(7, 7), stride=(2, 2), padding=(3, 3), bias=False)\n",
       "  (bn1): BatchNorm2d(64, eps=1e-05, momentum=0.1, affine=True, track_running_stats=True)\n",
       "  (relu): ReLU(inplace=True)\n",
       "  (maxpool): MaxPool2d(kernel_size=3, stride=2, padding=1, dilation=1, ceil_mode=False)\n",
       "  (layer1): Sequential(\n",
       "    (0): Bottleneck(\n",
       "      (conv1): Conv2d(64, 64, kernel_size=(1, 1), stride=(1, 1), bias=False)\n",
       "      (bn1): BatchNorm2d(64, eps=1e-05, momentum=0.1, affine=True, track_running_stats=True)\n",
       "      (conv2): Conv2d(64, 64, kernel_size=(3, 3), stride=(1, 1), padding=(1, 1), bias=False)\n",
       "      (bn2): BatchNorm2d(64, eps=1e-05, momentum=0.1, affine=True, track_running_stats=True)\n",
       "      (conv3): Conv2d(64, 256, kernel_size=(1, 1), stride=(1, 1), bias=False)\n",
       "      (bn3): BatchNorm2d(256, eps=1e-05, momentum=0.1, affine=True, track_running_stats=True)\n",
       "      (relu): ReLU(inplace=True)\n",
       "      (downsample): Sequential(\n",
       "        (0): Conv2d(64, 256, kernel_size=(1, 1), stride=(1, 1), bias=False)\n",
       "        (1): BatchNorm2d(256, eps=1e-05, momentum=0.1, affine=True, track_running_stats=True)\n",
       "      )\n",
       "    )\n",
       "    (1): Bottleneck(\n",
       "      (conv1): Conv2d(256, 64, kernel_size=(1, 1), stride=(1, 1), bias=False)\n",
       "      (bn1): BatchNorm2d(64, eps=1e-05, momentum=0.1, affine=True, track_running_stats=True)\n",
       "      (conv2): Conv2d(64, 64, kernel_size=(3, 3), stride=(1, 1), padding=(1, 1), bias=False)\n",
       "      (bn2): BatchNorm2d(64, eps=1e-05, momentum=0.1, affine=True, track_running_stats=True)\n",
       "      (conv3): Conv2d(64, 256, kernel_size=(1, 1), stride=(1, 1), bias=False)\n",
       "      (bn3): BatchNorm2d(256, eps=1e-05, momentum=0.1, affine=True, track_running_stats=True)\n",
       "      (relu): ReLU(inplace=True)\n",
       "    )\n",
       "    (2): Bottleneck(\n",
       "      (conv1): Conv2d(256, 64, kernel_size=(1, 1), stride=(1, 1), bias=False)\n",
       "      (bn1): BatchNorm2d(64, eps=1e-05, momentum=0.1, affine=True, track_running_stats=True)\n",
       "      (conv2): Conv2d(64, 64, kernel_size=(3, 3), stride=(1, 1), padding=(1, 1), bias=False)\n",
       "      (bn2): BatchNorm2d(64, eps=1e-05, momentum=0.1, affine=True, track_running_stats=True)\n",
       "      (conv3): Conv2d(64, 256, kernel_size=(1, 1), stride=(1, 1), bias=False)\n",
       "      (bn3): BatchNorm2d(256, eps=1e-05, momentum=0.1, affine=True, track_running_stats=True)\n",
       "      (relu): ReLU(inplace=True)\n",
       "    )\n",
       "  )\n",
       "  (layer2): Sequential(\n",
       "    (0): Bottleneck(\n",
       "      (conv1): Conv2d(256, 128, kernel_size=(1, 1), stride=(1, 1), bias=False)\n",
       "      (bn1): BatchNorm2d(128, eps=1e-05, momentum=0.1, affine=True, track_running_stats=True)\n",
       "      (conv2): Conv2d(128, 128, kernel_size=(3, 3), stride=(2, 2), padding=(1, 1), bias=False)\n",
       "      (bn2): BatchNorm2d(128, eps=1e-05, momentum=0.1, affine=True, track_running_stats=True)\n",
       "      (conv3): Conv2d(128, 512, kernel_size=(1, 1), stride=(1, 1), bias=False)\n",
       "      (bn3): BatchNorm2d(512, eps=1e-05, momentum=0.1, affine=True, track_running_stats=True)\n",
       "      (relu): ReLU(inplace=True)\n",
       "      (downsample): Sequential(\n",
       "        (0): Conv2d(256, 512, kernel_size=(1, 1), stride=(2, 2), bias=False)\n",
       "        (1): BatchNorm2d(512, eps=1e-05, momentum=0.1, affine=True, track_running_stats=True)\n",
       "      )\n",
       "    )\n",
       "    (1): Bottleneck(\n",
       "      (conv1): Conv2d(512, 128, kernel_size=(1, 1), stride=(1, 1), bias=False)\n",
       "      (bn1): BatchNorm2d(128, eps=1e-05, momentum=0.1, affine=True, track_running_stats=True)\n",
       "      (conv2): Conv2d(128, 128, kernel_size=(3, 3), stride=(1, 1), padding=(1, 1), bias=False)\n",
       "      (bn2): BatchNorm2d(128, eps=1e-05, momentum=0.1, affine=True, track_running_stats=True)\n",
       "      (conv3): Conv2d(128, 512, kernel_size=(1, 1), stride=(1, 1), bias=False)\n",
       "      (bn3): BatchNorm2d(512, eps=1e-05, momentum=0.1, affine=True, track_running_stats=True)\n",
       "      (relu): ReLU(inplace=True)\n",
       "    )\n",
       "    (2): Bottleneck(\n",
       "      (conv1): Conv2d(512, 128, kernel_size=(1, 1), stride=(1, 1), bias=False)\n",
       "      (bn1): BatchNorm2d(128, eps=1e-05, momentum=0.1, affine=True, track_running_stats=True)\n",
       "      (conv2): Conv2d(128, 128, kernel_size=(3, 3), stride=(1, 1), padding=(1, 1), bias=False)\n",
       "      (bn2): BatchNorm2d(128, eps=1e-05, momentum=0.1, affine=True, track_running_stats=True)\n",
       "      (conv3): Conv2d(128, 512, kernel_size=(1, 1), stride=(1, 1), bias=False)\n",
       "      (bn3): BatchNorm2d(512, eps=1e-05, momentum=0.1, affine=True, track_running_stats=True)\n",
       "      (relu): ReLU(inplace=True)\n",
       "    )\n",
       "    (3): Bottleneck(\n",
       "      (conv1): Conv2d(512, 128, kernel_size=(1, 1), stride=(1, 1), bias=False)\n",
       "      (bn1): BatchNorm2d(128, eps=1e-05, momentum=0.1, affine=True, track_running_stats=True)\n",
       "      (conv2): Conv2d(128, 128, kernel_size=(3, 3), stride=(1, 1), padding=(1, 1), bias=False)\n",
       "      (bn2): BatchNorm2d(128, eps=1e-05, momentum=0.1, affine=True, track_running_stats=True)\n",
       "      (conv3): Conv2d(128, 512, kernel_size=(1, 1), stride=(1, 1), bias=False)\n",
       "      (bn3): BatchNorm2d(512, eps=1e-05, momentum=0.1, affine=True, track_running_stats=True)\n",
       "      (relu): ReLU(inplace=True)\n",
       "    )\n",
       "  )\n",
       "  (layer3): Sequential(\n",
       "    (0): Bottleneck(\n",
       "      (conv1): Conv2d(512, 256, kernel_size=(1, 1), stride=(1, 1), bias=False)\n",
       "      (bn1): BatchNorm2d(256, eps=1e-05, momentum=0.1, affine=True, track_running_stats=True)\n",
       "      (conv2): Conv2d(256, 256, kernel_size=(3, 3), stride=(2, 2), padding=(1, 1), bias=False)\n",
       "      (bn2): BatchNorm2d(256, eps=1e-05, momentum=0.1, affine=True, track_running_stats=True)\n",
       "      (conv3): Conv2d(256, 1024, kernel_size=(1, 1), stride=(1, 1), bias=False)\n",
       "      (bn3): BatchNorm2d(1024, eps=1e-05, momentum=0.1, affine=True, track_running_stats=True)\n",
       "      (relu): ReLU(inplace=True)\n",
       "      (downsample): Sequential(\n",
       "        (0): Conv2d(512, 1024, kernel_size=(1, 1), stride=(2, 2), bias=False)\n",
       "        (1): BatchNorm2d(1024, eps=1e-05, momentum=0.1, affine=True, track_running_stats=True)\n",
       "      )\n",
       "    )\n",
       "    (1): Bottleneck(\n",
       "      (conv1): Conv2d(1024, 256, kernel_size=(1, 1), stride=(1, 1), bias=False)\n",
       "      (bn1): BatchNorm2d(256, eps=1e-05, momentum=0.1, affine=True, track_running_stats=True)\n",
       "      (conv2): Conv2d(256, 256, kernel_size=(3, 3), stride=(1, 1), padding=(1, 1), bias=False)\n",
       "      (bn2): BatchNorm2d(256, eps=1e-05, momentum=0.1, affine=True, track_running_stats=True)\n",
       "      (conv3): Conv2d(256, 1024, kernel_size=(1, 1), stride=(1, 1), bias=False)\n",
       "      (bn3): BatchNorm2d(1024, eps=1e-05, momentum=0.1, affine=True, track_running_stats=True)\n",
       "      (relu): ReLU(inplace=True)\n",
       "    )\n",
       "    (2): Bottleneck(\n",
       "      (conv1): Conv2d(1024, 256, kernel_size=(1, 1), stride=(1, 1), bias=False)\n",
       "      (bn1): BatchNorm2d(256, eps=1e-05, momentum=0.1, affine=True, track_running_stats=True)\n",
       "      (conv2): Conv2d(256, 256, kernel_size=(3, 3), stride=(1, 1), padding=(1, 1), bias=False)\n",
       "      (bn2): BatchNorm2d(256, eps=1e-05, momentum=0.1, affine=True, track_running_stats=True)\n",
       "      (conv3): Conv2d(256, 1024, kernel_size=(1, 1), stride=(1, 1), bias=False)\n",
       "      (bn3): BatchNorm2d(1024, eps=1e-05, momentum=0.1, affine=True, track_running_stats=True)\n",
       "      (relu): ReLU(inplace=True)\n",
       "    )\n",
       "    (3): Bottleneck(\n",
       "      (conv1): Conv2d(1024, 256, kernel_size=(1, 1), stride=(1, 1), bias=False)\n",
       "      (bn1): BatchNorm2d(256, eps=1e-05, momentum=0.1, affine=True, track_running_stats=True)\n",
       "      (conv2): Conv2d(256, 256, kernel_size=(3, 3), stride=(1, 1), padding=(1, 1), bias=False)\n",
       "      (bn2): BatchNorm2d(256, eps=1e-05, momentum=0.1, affine=True, track_running_stats=True)\n",
       "      (conv3): Conv2d(256, 1024, kernel_size=(1, 1), stride=(1, 1), bias=False)\n",
       "      (bn3): BatchNorm2d(1024, eps=1e-05, momentum=0.1, affine=True, track_running_stats=True)\n",
       "      (relu): ReLU(inplace=True)\n",
       "    )\n",
       "    (4): Bottleneck(\n",
       "      (conv1): Conv2d(1024, 256, kernel_size=(1, 1), stride=(1, 1), bias=False)\n",
       "      (bn1): BatchNorm2d(256, eps=1e-05, momentum=0.1, affine=True, track_running_stats=True)\n",
       "      (conv2): Conv2d(256, 256, kernel_size=(3, 3), stride=(1, 1), padding=(1, 1), bias=False)\n",
       "      (bn2): BatchNorm2d(256, eps=1e-05, momentum=0.1, affine=True, track_running_stats=True)\n",
       "      (conv3): Conv2d(256, 1024, kernel_size=(1, 1), stride=(1, 1), bias=False)\n",
       "      (bn3): BatchNorm2d(1024, eps=1e-05, momentum=0.1, affine=True, track_running_stats=True)\n",
       "      (relu): ReLU(inplace=True)\n",
       "    )\n",
       "    (5): Bottleneck(\n",
       "      (conv1): Conv2d(1024, 256, kernel_size=(1, 1), stride=(1, 1), bias=False)\n",
       "      (bn1): BatchNorm2d(256, eps=1e-05, momentum=0.1, affine=True, track_running_stats=True)\n",
       "      (conv2): Conv2d(256, 256, kernel_size=(3, 3), stride=(1, 1), padding=(1, 1), bias=False)\n",
       "      (bn2): BatchNorm2d(256, eps=1e-05, momentum=0.1, affine=True, track_running_stats=True)\n",
       "      (conv3): Conv2d(256, 1024, kernel_size=(1, 1), stride=(1, 1), bias=False)\n",
       "      (bn3): BatchNorm2d(1024, eps=1e-05, momentum=0.1, affine=True, track_running_stats=True)\n",
       "      (relu): ReLU(inplace=True)\n",
       "    )\n",
       "  )\n",
       "  (layer4): Sequential(\n",
       "    (0): Bottleneck(\n",
       "      (conv1): Conv2d(1024, 512, kernel_size=(1, 1), stride=(1, 1), bias=False)\n",
       "      (bn1): BatchNorm2d(512, eps=1e-05, momentum=0.1, affine=True, track_running_stats=True)\n",
       "      (conv2): Conv2d(512, 512, kernel_size=(3, 3), stride=(2, 2), padding=(1, 1), bias=False)\n",
       "      (bn2): BatchNorm2d(512, eps=1e-05, momentum=0.1, affine=True, track_running_stats=True)\n",
       "      (conv3): Conv2d(512, 2048, kernel_size=(1, 1), stride=(1, 1), bias=False)\n",
       "      (bn3): BatchNorm2d(2048, eps=1e-05, momentum=0.1, affine=True, track_running_stats=True)\n",
       "      (relu): ReLU(inplace=True)\n",
       "      (downsample): Sequential(\n",
       "        (0): Conv2d(1024, 2048, kernel_size=(1, 1), stride=(2, 2), bias=False)\n",
       "        (1): BatchNorm2d(2048, eps=1e-05, momentum=0.1, affine=True, track_running_stats=True)\n",
       "      )\n",
       "    )\n",
       "    (1): Bottleneck(\n",
       "      (conv1): Conv2d(2048, 512, kernel_size=(1, 1), stride=(1, 1), bias=False)\n",
       "      (bn1): BatchNorm2d(512, eps=1e-05, momentum=0.1, affine=True, track_running_stats=True)\n",
       "      (conv2): Conv2d(512, 512, kernel_size=(3, 3), stride=(1, 1), padding=(1, 1), bias=False)\n",
       "      (bn2): BatchNorm2d(512, eps=1e-05, momentum=0.1, affine=True, track_running_stats=True)\n",
       "      (conv3): Conv2d(512, 2048, kernel_size=(1, 1), stride=(1, 1), bias=False)\n",
       "      (bn3): BatchNorm2d(2048, eps=1e-05, momentum=0.1, affine=True, track_running_stats=True)\n",
       "      (relu): ReLU(inplace=True)\n",
       "    )\n",
       "    (2): Bottleneck(\n",
       "      (conv1): Conv2d(2048, 512, kernel_size=(1, 1), stride=(1, 1), bias=False)\n",
       "      (bn1): BatchNorm2d(512, eps=1e-05, momentum=0.1, affine=True, track_running_stats=True)\n",
       "      (conv2): Conv2d(512, 512, kernel_size=(3, 3), stride=(1, 1), padding=(1, 1), bias=False)\n",
       "      (bn2): BatchNorm2d(512, eps=1e-05, momentum=0.1, affine=True, track_running_stats=True)\n",
       "      (conv3): Conv2d(512, 2048, kernel_size=(1, 1), stride=(1, 1), bias=False)\n",
       "      (bn3): BatchNorm2d(2048, eps=1e-05, momentum=0.1, affine=True, track_running_stats=True)\n",
       "      (relu): ReLU(inplace=True)\n",
       "    )\n",
       "  )\n",
       "  (avgpool): AdaptiveAvgPool2d(output_size=(1, 1))\n",
       "  (fc): Linear(in_features=2048, out_features=102, bias=True)\n",
       ")"
      ]
     },
     "execution_count": 3,
     "metadata": {},
     "output_type": "execute_result"
    }
   ],
   "source": [
    "flowers_model = get_model(102, True)\n",
    "flowers_model.load_state_dict(torch.load('flowers.pt'))\n",
    "flowers_model.eval()"
   ]
  },
  {
   "cell_type": "markdown",
   "id": "914b5a6c",
   "metadata": {},
   "source": [
    "## Referencias"
   ]
  },
  {
   "cell_type": "markdown",
   "id": "91dfaada",
   "metadata": {},
   "source": [
    "[1] Save/Load Models in Pytorch: https://pytorch.org/tutorials/beginner/saving_loading_models.html"
   ]
  }
 ],
 "metadata": {
  "kernelspec": {
   "display_name": "Python 3",
   "language": "python",
   "name": "python3"
  },
  "language_info": {
   "codemirror_mode": {
    "name": "ipython",
    "version": 3
   },
   "file_extension": ".py",
   "mimetype": "text/x-python",
   "name": "python",
   "nbconvert_exporter": "python",
   "pygments_lexer": "ipython3",
   "version": "3.8.1"
  }
 },
 "nbformat": 4,
 "nbformat_minor": 5
}
