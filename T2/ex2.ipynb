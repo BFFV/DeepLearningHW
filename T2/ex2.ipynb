{
 "cells": [
  {
   "cell_type": "markdown",
   "metadata": {
    "colab_type": "text",
    "id": "view-in-github"
   },
   "source": [
    "<a href=\"https://colab.research.google.com/github/fipaniagua/IIC3697-Deep-Learning/blob/develop/IIC3697-Deep-Learning/LSTM%20RNN%20and%20attention%20with%20Pytorch/HW2.ipynb\" target=\"_parent\"><img src=\"https://colab.research.google.com/assets/colab-badge.svg\" alt=\"Open In Colab\"/></a>"
   ]
  },
  {
   "cell_type": "markdown",
   "metadata": {
    "colab_type": "text",
    "id": "Ykj5klp_SBCL"
   },
   "source": [
    "#Tarea 2: Redes Neuronales Recurrentes (RNNs)\n",
    "\n",
    "Francisco Paniagua\n"
   ]
  },
  {
   "cell_type": "markdown",
   "metadata": {
    "colab_type": "text",
    "id": "X8B6XvtIYvxK"
   },
   "source": [
    "##Parte 1: RNNs"
   ]
  },
  {
   "cell_type": "markdown",
   "metadata": {
    "colab_type": "text",
    "id": "_OQdsNfgSMYj"
   },
   "source": [
    "### Actividad 1\n"
   ]
  },
  {
   "cell_type": "markdown",
   "metadata": {
    "colab_type": "text",
    "id": "NRRmcPmDStAw"
   },
   "source": [
    "En primer lugar Implementamos el modelo RNN *many-to-one*"
   ]
  },
  {
   "cell_type": "code",
   "execution_count": 0,
   "metadata": {
    "colab": {},
    "colab_type": "code",
    "id": "4XY-K_YrTA0Q"
   },
   "outputs": [],
   "source": [
    "import torch\n",
    "import torch.nn as nn"
   ]
  },
  {
   "cell_type": "code",
   "execution_count": 0,
   "metadata": {
    "colab": {},
    "colab_type": "code",
    "id": "mV8BSq21TNd4"
   },
   "outputs": [],
   "source": [
    "class RNN(nn.Module):\n",
    "  def __init__(self, input_dim, hidden_dim, num_layers):\n",
    "    super().__init__() \n",
    "    self.hidden_dim = hidden_dim\n",
    "    self.num_layers = num_layers \n",
    "    self.rnn = nn.RNN(input_dim, hidden_dim, num_layers)\n",
    "    self.linear_out = nn.Linear(hidden_dim, 1)\n",
    "  \n",
    "  # This method defines the forward pass of the RNN \n",
    "  def forward(self, input):\n",
    "    _ , batch_size, _ = input.size()\n",
    "    # Initializing hidden state for first input \n",
    "    h0 = self.init_hidden(batch_size) \n",
    "    # Passing in the input and hidden state to obtain output \n",
    "    _, hidden_state = self.rnn(input, h0) \n",
    "    out = self.linear_out(hidden_state.squeeze())\n",
    "    return out\n",
    "\n",
    "  # This method generates the first hidden state of zeros for the forward pass \n",
    "  # This creates a tensor of zeros in the shape of our hidden states. \n",
    "  def init_hidden(self, batch_size): \n",
    "    hidden = torch.zeros(self.num_layers, batch_size, self.hidden_dim)\n",
    "    return hidden"
   ]
  },
  {
   "cell_type": "markdown",
   "metadata": {
    "colab_type": "text",
    "id": "WZ-fIFwYUJUB"
   },
   "source": [
    "Podemos notar que la cantidad de parametros de nuestro modelo RNN depende de tres hiper parametros principales:\n",
    "\n",
    "\n",
    "1.   Input dimension\n",
    "2.   Hidden dimension\n",
    "3.   Number of layers\n",
    "\n",
    "Debido a esto si fijamos la deminsión interna a 100 y solo una capa oculta, el unico parametro que podemos varias es `la dimensión de entrada`. Como la dimension de entrada depende del **embeding** y este a su vez depende del **vocabulario** podemos argumentar que dependiendo del dataset podria cambiar la cantidad de parametros necesarios.\n",
    "\n",
    "Ahora bien, el embeding no solo depende del vocabulario sino tambien depende de la desición de con cuanta información nos queremos quedar para representar nuestro input. Esto genera un *trade-off* entre la cantidad de parametros y la cantidad de información que queremos \"guardar\".  \n",
    "\n",
    "A continuación un grafico que muestra esta relación (con modelos de capa oculta de una dimension de 100 y otro de 50).\n",
    "\n"
   ]
  },
  {
   "cell_type": "code",
   "execution_count": 0,
   "metadata": {
    "colab": {},
    "colab_type": "code",
    "id": "P_bqN2UqYlcZ"
   },
   "outputs": [],
   "source": [
    "def num_trainable_parameters(model):\n",
    "  return sum(p.numel() for p in model.parameters() if p.requires_grad)"
   ]
  },
  {
   "cell_type": "code",
   "execution_count": 0,
   "metadata": {
    "colab": {},
    "colab_type": "code",
    "id": "ET25uDhAhpZS"
   },
   "outputs": [],
   "source": [
    "posible_input_dimensions = [10**i for i in range(1,7)]\n",
    "num_parameters_100 = []\n",
    "num_parameters_50 = []\n",
    "for input_dimension in posible_input_dimensions:\n",
    "  parameters_100 = num_trainable_parameters(RNN(input_dimension, 100, 1))\n",
    "  parameters_50 = num_trainable_parameters(RNN(input_dimension, 50, 1))\n",
    "  num_parameters_100.append(parameters_100)\n",
    "  num_parameters_50.append(parameters_50)\n",
    "  print(\"{0} | {1} | {2} | {3}\".format(\n",
    "      input_dimension,\n",
    "      parameters_50,\n",
    "      parameters_100,\n",
    "      parameters_100/parameters_50\n",
    "  ))"
   ]
  },
  {
   "cell_type": "code",
   "execution_count": 0,
   "metadata": {
    "colab": {
     "base_uri": "https://localhost:8080/",
     "height": 295
    },
    "colab_type": "code",
    "id": "oSqtKQ70aovs",
    "outputId": "c3239b36-3be3-41b5-e629-d77aa202da25"
   },
   "outputs": [
    {
     "data": {
      "image/png": "[encoded data removed]",
      "text/plain": [
       "<Figure size 432x288 with 1 Axes>"
      ]
     },
     "metadata": {
      "needs_background": "light",
      "tags": []
     },
     "output_type": "display_data"
    }
   ],
   "source": [
    "import matplotlib.pyplot as plt\n",
    "\n",
    "plt.plot(posible_input_dimensions, num_parameters_100)\n",
    "plt.plot(posible_input_dimensions, num_parameters_50)\n",
    "plt.title(\"Input dimension/Amount of parameters relationship\")\n",
    "plt.xlabel(\"input dimension\")\n",
    "plt.ylabel(\"amount of parameters\")\n",
    "plt.legend([\"hidden dimmension 100\", \"hidden dimmension 50\"], loc='upper left')\n",
    "plt.show()"
   ]
  },
  {
   "cell_type": "markdown",
   "metadata": {
    "colab_type": "text",
    "id": "Vgen7JIFgCtn"
   },
   "source": [
    "dimension de entrada | cantidad de parametros (capa interna 50) | cantidad de parametros (capa interna 100) | relación entre modelo de capa interna 50 y 100\n",
    "--- | --- | --- | --- |  \n",
    "10 | 3151 | 11301 | 3.586480482386544\n",
    "100 | 7651 | 20301 | 2.6533786433145994\n",
    "1000 | 52651 | 110301 | 2.0949459649389377\n",
    "10000 | 502651 | 1010301 | 2.0099452701775187\n",
    "100000 | 5002651 | 10010301 | 2.000999270186947\n",
    "1000000 | 50002651 | 100010301 | 2.0000999746993413"
   ]
  },
  {
   "cell_type": "markdown",
   "metadata": {
    "colab_type": "text",
    "id": "eP3-Qmggbkgg"
   },
   "source": [
    "Es claro en el grafico que existe una relación lineal entre la cantidad de parametros y la dimensión de entrada. Ademas al disminuir a 50 la dimension interna, la cantidad de parametros tiende a disminuir a la mitad a medida que aumentamos la dimension de entrada.\n",
    "\n",
    "Podemos confirmar esta relación teoricamente tambien. La cantidad de parametros puede ser calculada de la siguiente forma:\n",
    "\n",
    "\\begin{align}\n",
    "parametros_{totales} & = Parametros_{Rnn Cell} + Parametros_{Capa final}\\\\\n",
    "parametros_{totales} & = \\{\\#(W_{ih}) + \\#(b_{ih}) + \\#(W_{hh}) + \\#(b_{hh})\\} + \\{\\#(W_{h1}) + \\#(b_{1}) \\}  \\\\\n",
    "parametros_{totales} & = (h*i + h + h*h + h) + (h*1 + 1)\\\\\n",
    "parametros_{totales} & = h(i+ h + 3) +1 \\\\\n",
    "parametros_{totales} & = h^2 + 3h + h*i + 1\n",
    "\\end{align} \n",
    "\n"
   ]
  },
  {
   "cell_type": "markdown",
   "metadata": {
    "colab_type": "text",
    "id": "-UdwlT5z5W1w"
   },
   "source": [
    "Interesantemente, a pesar de que la cantidad de parametros aumenta cuadraticamente en relación a la dimensión interna. Si calculamos el limite cuando la dimension del input i tiende a infinito, El aumento porcentual de los parametros tiende a dos cuando duplicamos la dimensión interna (lo cual coincide con nuestros resultados empiricos):\n",
    "\n",
    "\\begin{align}\n",
    "\\lim_{i \\to \\infty} (4h^2+6h+2hi+1)/(h^2+3h+hi+1) = 2.\n",
    "\\end{align} \n",
    "\n",
    "Es decir, mientras mas grande es la dimension de la entrada, mas linealmente se comporta el aumento de parametros en razón del aumento de la dimensión interna\n"
   ]
  },
  {
   "cell_type": "markdown",
   "metadata": {
    "colab_type": "text",
    "id": "Oe3EV8m3qiob"
   },
   "source": [
    "### Large Movie Review Dataset Preprocessing\n",
    "\n"
   ]
  },
  {
   "cell_type": "code",
   "execution_count": 0,
   "metadata": {
    "colab": {},
    "colab_type": "code",
    "id": "VYsm_CyADG3Z"
   },
   "outputs": [],
   "source": [
    "import torch\n",
    "from torchtext import data\n",
    "from torchtext import datasets\n",
    "torch.backends.cudnn.deterministic = True"
   ]
  },
  {
   "cell_type": "code",
   "execution_count": 6,
   "metadata": {
    "colab": {
     "base_uri": "https://localhost:8080/",
     "height": 51
    },
    "colab_type": "code",
    "id": "BQ95TGacDfMv",
    "outputId": "e8c5aa2c-62c4-4f86-de6c-5afb10e2995a"
   },
   "outputs": [
    {
     "name": "stderr",
     "output_type": "stream",
     "text": [
      "\r",
      "aclImdb_v1.tar.gz:   0%|          | 0.00/84.1M [00:00<?, ?B/s]"
     ]
    },
    {
     "name": "stdout",
     "output_type": "stream",
     "text": [
      "downloading aclImdb_v1.tar.gz\n"
     ]
    },
    {
     "name": "stderr",
     "output_type": "stream",
     "text": [
      "aclImdb_v1.tar.gz: 100%|██████████| 84.1M/84.1M [00:02<00:00, 34.2MB/s]\n"
     ]
    }
   ],
   "source": [
    "TEXT = data.Field(tokenize = 'spacy', lower = True)\n",
    "LABEL = data.LabelField(dtype = torch.float)\n",
    "imdb_train_data, imdb_test_data = datasets.IMDB.splits(TEXT, LABEL)"
   ]
  },
  {
   "cell_type": "code",
   "execution_count": 5,
   "metadata": {
    "colab": {
     "base_uri": "https://localhost:8080/",
     "height": 34
    },
    "colab_type": "code",
    "id": "utIOsOo-h8Db",
    "outputId": "41891049-f2a0-41a7-d436-f569680e0eea"
   },
   "outputs": [
    {
     "data": {
      "text/plain": [
       "25000"
      ]
     },
     "execution_count": 5,
     "metadata": {
      "tags": []
     },
     "output_type": "execute_result"
    }
   ],
   "source": [
    "len(imdb_train_data)"
   ]
  },
  {
   "cell_type": "markdown",
   "metadata": {
    "colab_type": "text",
    "id": "Wn3hK-ZqRNhW"
   },
   "source": [
    "Para eliminar las palabras con error de ortogradia eliminaremos todas las palabras que tan solo salgan 1 o 2 veces. Como existen **59582** palabras que solo aparecen 1 o 2 veces, y el tamaño del vocabulario es 101520, tomaremos las primeras 35000 palabras\n"
   ]
  },
  {
   "cell_type": "code",
   "execution_count": 7,
   "metadata": {
    "colab": {
     "base_uri": "https://localhost:8080/",
     "height": 51
    },
    "colab_type": "code",
    "id": "mq2Cy31-eJpg",
    "outputId": "a028783d-5349-4c4b-87b4-1f8808e189d4"
   },
   "outputs": [
    {
     "name": "stderr",
     "output_type": "stream",
     "text": [
      ".vector_cache/glove.6B.zip: 862MB [06:26, 2.23MB/s]                          \n",
      "100%|█████████▉| 398180/400000 [00:16<00:00, 24310.64it/s]"
     ]
    }
   ],
   "source": [
    "MAX_VOCAB_SIZE = 35000\n",
    "TEXT.build_vocab(imdb_test_data, max_size = MAX_VOCAB_SIZE, vectors = \"glove.6B.100d\", unk_init = torch.Tensor.normal_)\n",
    "#TEXT.build_vocab(imdb_test_data, max_size = MAX_VOCAB_SIZE)\n",
    "LABEL.build_vocab(imdb_test_data)"
   ]
  },
  {
   "cell_type": "code",
   "execution_count": 97,
   "metadata": {
    "colab": {
     "base_uri": "https://localhost:8080/",
     "height": 34
    },
    "colab_type": "code",
    "id": "VwF96aAXDkfD",
    "outputId": "2a9452f6-ef60-4e8d-dada-d8a4af3278e6"
   },
   "outputs": [
    {
     "data": {
      "text/plain": [
       "58662"
      ]
     },
     "execution_count": 97,
     "metadata": {
      "tags": []
     },
     "output_type": "execute_result"
    }
   ],
   "source": [
    "len(list(filter(lambda freq: (freq == 2 or freq == 1),  TEXT.vocab.freqs.values())))"
   ]
  },
  {
   "cell_type": "code",
   "execution_count": 9,
   "metadata": {
    "colab": {
     "base_uri": "https://localhost:8080/",
     "height": 34
    },
    "colab_type": "code",
    "id": "u_UCVWLqFirg",
    "outputId": "e3d0d5d9-51b8-4153-ec41-4cc814738eec"
   },
   "outputs": [
    {
     "name": "stdout",
     "output_type": "stream",
     "text": [
      "tokens unicos dentro del vocabulario: 35002\n"
     ]
    }
   ],
   "source": [
    "print(f\"tokens unicos dentro del vocabulario: {len(TEXT.vocab)}\")"
   ]
  },
  {
   "cell_type": "code",
   "execution_count": 0,
   "metadata": {
    "colab": {},
    "colab_type": "code",
    "id": "YtIHgU2iq_xs"
   },
   "outputs": [],
   "source": [
    "BATCH_SIZE = 64\n",
    "\n",
    "device = torch.device('cuda:0' if torch.cuda.is_available() else 'cpu')\n",
    "\n",
    "imdb_train_iterator,  imdb_test_iterator = data.BucketIterator.splits(\n",
    "    (imdb_train_data,  imdb_test_data), \n",
    "    batch_size = BATCH_SIZE,\n",
    "    device = device)"
   ]
  },
  {
   "cell_type": "markdown",
   "metadata": {
    "colab_type": "text",
    "id": "yMgE3kmCqmHb"
   },
   "source": [
    "### Actividad 2\n"
   ]
  },
  {
   "cell_type": "markdown",
   "metadata": {
    "colab_type": "text",
    "id": "j6dIRq09hP2p"
   },
   "source": [
    "En primer lugar crearemos una clase FULLRNN que contendra el embeding junto a la capa de la red neuronal recurrente.\n",
    "\n",
    "Esta clase puede crear usar una capa bidireccional si se cambia el parametro 'bidirectional'. Si esto sucede, es necesario cambiar tambien la ultima capa lineal, ya que ahora el input sera la concatenacion del estado oculto en ambas direcciones, por tanto, es necesario aumentar la dimension de la capa lineal en dos.\n"
   ]
  },
  {
   "cell_type": "code",
   "execution_count": 0,
   "metadata": {
    "colab": {},
    "colab_type": "code",
    "id": "wVT8dRLdqpKy"
   },
   "outputs": [],
   "source": [
    "class FULLRNN(nn.Module):\n",
    "  def __init__(self, input_dim, hidden_dim, num_layers, embedding_dim, pad_idx, bidirectional = False):\n",
    "    super().__init__() \n",
    "    self.bidirectional = bidirectional \n",
    "    self.embedding_dim = embedding_dim\n",
    "    self.embedding = nn.Embedding(input_dim, embedding_dim, padding_idx = pad_idx)\n",
    "    self.hidden_dim = hidden_dim\n",
    "    self.num_layers = num_layers \n",
    "    self.rnn = nn.RNN(embedding_dim, hidden_dim, num_layers, bidirectional = bidirectional)\n",
    "    self.in_layer_dim = hidden_dim\n",
    "    if (bidirectional):\n",
    "      self.in_layer_dim = 2 * self.in_layer_dim\n",
    "    self.linear_out = nn.Linear(self.in_layer_dim, 1)\n",
    "  \n",
    "  # This method defines the forward pass of the RNN \n",
    "  def forward(self, input):\n",
    "    #input = [sent len, batch size]\n",
    "    _ , batch_size = input.size()\n",
    "    # Initializing hidden state for first input \n",
    "    h0 = self.init_hidden(batch_size) \n",
    "    # Passing in the input and hidden state to obtain output \n",
    "    embedded = self.embedding(input)\n",
    "    _, hidden_state = self.rnn(embedded, h0) \n",
    "    if (self.bidirectional):\n",
    "      hidden = torch.cat((hidden_state[-2,:,:], hidden_state[-1,:,:]), dim = 1)\n",
    "      out = self.linear_out(hidden)\n",
    "    else:  \n",
    "      out = self.linear_out(hidden_state.squeeze())\n",
    "    return (out, hidden_state)\n",
    "\n",
    "  # This method generates the first hidden state of zeros for the forward pass \n",
    "  # This creates a tensor of zeros in the shape of our hidden states. \n",
    "  def init_hidden(self, batch_size):\n",
    "    #print(f\"create a hidden state of batch_size:{batch_size}\") \n",
    "    if (self.bidirectional):\n",
    "      hidden = torch.zeros(self.num_layers*2, batch_size, self.hidden_dim)\n",
    "    else:\n",
    "      hidden = torch.zeros(self.num_layers, batch_size, self.hidden_dim)\n",
    "    return hidden\n",
    "  def add_pretrained_embeddings(self, TEXT_FIELD):\n",
    "    self.embedding.weight.data.copy_(TEXT_FIELD.vocab.vectors) \n",
    "    PAD_IDX = TEXT_FIELD.vocab.stoi[TEXT.pad_token] \n",
    "    UNK_IDX = TEXT_FIELD.vocab.stoi[TEXT.unk_token]\n",
    "    self.embedding.weight.data[UNK_IDX] = torch.zeros(self.embedding_dim)\n",
    "    self.embedding.weight.data[PAD_IDX] = torch.zeros(self.embedding_dim)\n"
   ]
  },
  {
   "cell_type": "code",
   "execution_count": 0,
   "metadata": {
    "colab": {},
    "colab_type": "code",
    "id": "irFFrP6rkFF9"
   },
   "outputs": [],
   "source": [
    "def calc_accuracy(X,Y):\n",
    "   #round predictions to the closest integer\n",
    "    rounded_preds = torch.round(torch.sigmoid(X))\n",
    "    correct = (rounded_preds == Y).float() #convert into float for division \n",
    "    acc = correct.sum() / len(correct)\n",
    "    return acc"
   ]
  },
  {
   "cell_type": "code",
   "execution_count": 0,
   "metadata": {
    "colab": {},
    "colab_type": "code",
    "id": "hmw1cVsM-YUe"
   },
   "outputs": [],
   "source": [
    "def eval_model(model, iterator):\n",
    "    accuracy = 0\n",
    "    for batch in iterator:\n",
    "      answ, hidden = model(batch.text)\n",
    "      batch_acc = calc_accuracy(answ.squeeze(1), batch.label)\n",
    "      accuracy += batch_acc\n",
    "    return accuracy/len(iterator)  "
   ]
  },
  {
   "cell_type": "markdown",
   "metadata": {
    "colab_type": "text",
    "id": "rwk0JMaWh2Mt"
   },
   "source": [
    "Para mayor simplicidad crearemos la funcion run que nos permite entrenar un modelo dado un iterador (creado mediante el dataloader).\n",
    "Luego de crear esta función probaremos distintos hiper-parametros y graficaremos los resultados (variación del acurracy a travez de las epocas) . Para finalmente crear una tabla comparativa entre todos los modelos probados"
   ]
  },
  {
   "cell_type": "code",
   "execution_count": 0,
   "metadata": {
    "colab": {},
    "colab_type": "code",
    "id": "fpnuIwMR-Wii"
   },
   "outputs": [],
   "source": [
    "import time\n",
    "\n",
    "def run(model, iterator, n_epochs = 20, lr=0.01, verbose=False):\n",
    "    # Define hyperparameters: number of epochs and learning rate\n",
    "    accurracy = []\n",
    "    # Define device, in this case CPU\n",
    "    # device = torch.device(\"cpu\") model.to(device)\n",
    "    # Define Loss, Optimizer, ex: cross entropy and Adam.\n",
    "    criterion = nn.BCEWithLogitsLoss()\n",
    "    criterion = criterion.to(device)\n",
    "    optimizer = torch.optim.Adam(model.parameters(), lr=lr)\n",
    "    # Run training \n",
    "    for epoch in range(1, n_epochs + 1):\n",
    "        i = 0 \n",
    "        epoch_acc = 0\n",
    "        ti = time.time()\n",
    "        print(f\"epoca {epoch}\")\n",
    "        for batch in iterator: \n",
    "            i += 1\n",
    "            # Reset gradients from previous epoch \n",
    "            tb = time.time()\n",
    "            optimizer.zero_grad()\n",
    "            # run model on inputs \n",
    "            batch.text.to(device) \n",
    "            #print(batch.text.shape)\n",
    "            #print(batch.text[0])\n",
    "            output, hidden = model(batch.text)\n",
    "            # compute loss, run backprop, and update weights\n",
    "            #print(output.squeeze(1).shape)\n",
    "            batch.label.to(device)\n",
    "            batch_acc = calc_accuracy(output.squeeze(1), batch.label)\n",
    "            epoch_acc += batch_acc\n",
    "            loss = criterion(output.squeeze(1),  batch.label) \n",
    "            loss.backward() \n",
    "            optimizer.step()\n",
    "            if(verbose):\n",
    "              print(\"batch: {0}/ accurracy {1}/ time: {2}\".format(i, batch_acc,\n",
    "                                                                  time.time()-  tb))\n",
    "        accurracy.append(epoch_acc / len(imdb_train_iterator)) \n",
    "        print(\"tiempo entrenamiento epoca: {0}/ accurracy: {1}\".format(time.time()-ti, \n",
    "        epoch_acc / len(imdb_train_iterator)))\n",
    "    return accurracy"
   ]
  },
  {
   "cell_type": "markdown",
   "metadata": {
    "colab_type": "text",
    "id": "EqUj6gDIigcH"
   },
   "source": [
    "En las siguintes celdas se entrenan distintos modelos con distintos parametros (Al final de la sección se encuentra los resultados agregados)"
   ]
  },
  {
   "cell_type": "markdown",
   "metadata": {
    "colab_type": "text",
    "id": "dgJiYl2hizYR"
   },
   "source": [
    "\n",
    "\n",
    "* Modelo de una capa, no bidireccional, con una dimension interna de 50\n",
    "\n"
   ]
  },
  {
   "cell_type": "code",
   "execution_count": 69,
   "metadata": {
    "colab": {
     "base_uri": "https://localhost:8080/",
     "height": 102
    },
    "colab_type": "code",
    "id": "BsMg5EFlcLPB",
    "outputId": "476da1e1-5afd-4edb-ad2f-1ed39129d746"
   },
   "outputs": [
    {
     "data": {
      "text/plain": [
       "FULLRNN(\n",
       "  (embedding): Embedding(35002, 100, padding_idx=1)\n",
       "  (rnn): RNN(100, 50)\n",
       "  (linear_out): Linear(in_features=50, out_features=1, bias=True)\n",
       ")"
      ]
     },
     "execution_count": 69,
     "metadata": {
      "tags": []
     },
     "output_type": "execute_result"
    }
   ],
   "source": [
    "INPUT_DIM = len(TEXT.vocab)\n",
    "EMBEDDING_DIM = 100\n",
    "HIDDEN_DIM = 50\n",
    "NUM_LAYERS = 1\n",
    "\n",
    "model = FULLRNN(INPUT_DIM, HIDDEN_DIM, NUM_LAYERS ,EMBEDDING_DIM, TEXT.vocab.stoi[TEXT.pad_token])\n",
    "model.add_pretrained_embeddings(TEXT)\n",
    "model.to(device)"
   ]
  },
  {
   "cell_type": "code",
   "execution_count": 38,
   "metadata": {
    "colab": {
     "base_uri": "https://localhost:8080/",
     "height": 187
    },
    "colab_type": "code",
    "id": "zevPVZsGE8-9",
    "outputId": "179d2a8e-1159-432b-f4f2-624bd6d300d3"
   },
   "outputs": [
    {
     "name": "stdout",
     "output_type": "stream",
     "text": [
      "epoca 1\n",
      "tiempo entrenamiento epoca: 165.0138716697693/ accurracy: 0.501838207244873\n",
      "epoca 2\n",
      "tiempo entrenamiento epoca: 165.3033049106598/ accurracy: 0.494733065366745\n",
      "epoca 3\n",
      "tiempo entrenamiento epoca: 173.6122179031372/ accurracy: 0.5030450820922852\n",
      "epoca 4\n",
      "tiempo entrenamiento epoca: 183.8861083984375/ accurracy: 0.5049392580986023\n",
      "epoca 5\n",
      "tiempo entrenamiento epoca: 194.84948205947876/ accurracy: 0.49832960963249207\n"
     ]
    }
   ],
   "source": [
    "acc = run(model, imdb_train_iterator, n_epochs=5)"
   ]
  },
  {
   "cell_type": "code",
   "execution_count": 0,
   "metadata": {
    "colab": {},
    "colab_type": "code",
    "id": "tbU-fWlgWF9D"
   },
   "outputs": [],
   "source": [
    "import matplotlib.pyplot as plt"
   ]
  },
  {
   "cell_type": "code",
   "execution_count": 40,
   "metadata": {
    "colab": {
     "base_uri": "https://localhost:8080/",
     "height": 34
    },
    "colab_type": "code",
    "id": "RQZEPZeuFGL6",
    "outputId": "cc680412-97b5-47ca-f645-1a2d0922ab91"
   },
   "outputs": [
    {
     "data": {
      "text/plain": [
       "tensor(0.4763)"
      ]
     },
     "execution_count": 40,
     "metadata": {
      "tags": []
     },
     "output_type": "execute_result"
    }
   ],
   "source": [
    "eval_model(model, imdb_test_iterator)"
   ]
  },
  {
   "cell_type": "markdown",
   "metadata": {
    "colab_type": "text",
    "id": "UALK7f0rjC3Y"
   },
   "source": [
    "\n",
    "\n",
    "*  Modelo en donde se varia la dimensión interna a 100 pero sigue siendo en una sola dirección\n",
    "\n"
   ]
  },
  {
   "cell_type": "code",
   "execution_count": 41,
   "metadata": {
    "colab": {
     "base_uri": "https://localhost:8080/",
     "height": 102
    },
    "colab_type": "code",
    "id": "l7ySOb_HUW0A",
    "outputId": "7ff42492-83e5-431f-b3d5-01257dba50b3"
   },
   "outputs": [
    {
     "data": {
      "text/plain": [
       "FULLRNN(\n",
       "  (embedding): Embedding(35002, 100, padding_idx=1)\n",
       "  (rnn): RNN(100, 100)\n",
       "  (linear_out): Linear(in_features=100, out_features=1, bias=True)\n",
       ")"
      ]
     },
     "execution_count": 41,
     "metadata": {
      "tags": []
     },
     "output_type": "execute_result"
    }
   ],
   "source": [
    "INPUT_DIM = len(TEXT.vocab)\n",
    "EMBEDDING_DIM = 100\n",
    "HIDDEN_DIM = 100\n",
    "NUM_LAYERS = 1\n",
    "\n",
    "model2 = FULLRNN(INPUT_DIM, HIDDEN_DIM, NUM_LAYERS ,EMBEDDING_DIM, TEXT.vocab.stoi[TEXT.pad_token])\n",
    "model2.add_pretrained_embeddings(TEXT)\n",
    "model2.to(device)"
   ]
  },
  {
   "cell_type": "code",
   "execution_count": 42,
   "metadata": {
    "colab": {
     "base_uri": "https://localhost:8080/",
     "height": 187
    },
    "colab_type": "code",
    "id": "MRVKy9ssUjJP",
    "outputId": "88579639-7599-40ea-c224-f5735e69ca2b"
   },
   "outputs": [
    {
     "name": "stdout",
     "output_type": "stream",
     "text": [
      "epoca 1\n",
      "tiempo entrenamiento epoca: 243.5650634765625/ accurracy: 0.4988331198692322\n",
      "epoca 2\n",
      "tiempo entrenamiento epoca: 215.6640899181366/ accurracy: 0.5018782019615173\n",
      "epoca 3\n",
      "tiempo entrenamiento epoca: 247.0492341518402/ accurracy: 0.5016463994979858\n",
      "epoca 4\n",
      "tiempo entrenamiento epoca: 255.94598269462585/ accurracy: 0.4992806911468506\n",
      "epoca 5\n",
      "tiempo entrenamiento epoca: 259.4289884567261/ accurracy: 0.4997362792491913\n"
     ]
    }
   ],
   "source": [
    "acc = run(model2, imdb_train_iterator, n_epochs = 5)"
   ]
  },
  {
   "cell_type": "code",
   "execution_count": 43,
   "metadata": {
    "colab": {
     "base_uri": "https://localhost:8080/",
     "height": 284
    },
    "colab_type": "code",
    "id": "8b4ga5HWkxYw",
    "outputId": "91f3444e-0989-4e4d-ff9f-ad1cf79f68d7"
   },
   "outputs": [
    {
     "data": {
      "text/plain": [
       "[<matplotlib.lines.Line2D at 0x7fd20ad59f28>]"
      ]
     },
     "execution_count": 43,
     "metadata": {
      "tags": []
     },
     "output_type": "execute_result"
    },
    {
     "data": {
      "image/png": "[encoded data removed]",
      "text/plain": [
       "<Figure size 432x288 with 1 Axes>"
      ]
     },
     "metadata": {
      "needs_background": "light",
      "tags": []
     },
     "output_type": "display_data"
    }
   ],
   "source": [
    "plt.plot(acc)"
   ]
  },
  {
   "cell_type": "code",
   "execution_count": 45,
   "metadata": {
    "colab": {
     "base_uri": "https://localhost:8080/",
     "height": 34
    },
    "colab_type": "code",
    "id": "Ol2PkDXRKQY6",
    "outputId": "9a12ecab-7fe4-4fff-96b5-37f143c35f67"
   },
   "outputs": [
    {
     "data": {
      "text/plain": [
       "tensor(0.5695)"
      ]
     },
     "execution_count": 45,
     "metadata": {
      "tags": []
     },
     "output_type": "execute_result"
    }
   ],
   "source": [
    "eval_model(model2, imdb_test_iterator)"
   ]
  },
  {
   "cell_type": "markdown",
   "metadata": {
    "colab_type": "text",
    "id": "Rm_7U08NjNa2"
   },
   "source": [
    "\n",
    "\n",
    "*  Este modelo incluye una RNN bidireccional de una capa, ademas se vario la dimension de los embeddings a 150\n",
    "\n"
   ]
  },
  {
   "cell_type": "code",
   "execution_count": 73,
   "metadata": {
    "colab": {
     "base_uri": "https://localhost:8080/",
     "height": 102
    },
    "colab_type": "code",
    "id": "jVyWZPxVLipp",
    "outputId": "8415f34d-593c-4939-921e-63130442bcbf"
   },
   "outputs": [
    {
     "data": {
      "text/plain": [
       "FULLRNN(\n",
       "  (embedding): Embedding(35002, 150, padding_idx=1)\n",
       "  (rnn): RNN(150, 50, bidirectional=True)\n",
       "  (linear_out): Linear(in_features=100, out_features=1, bias=True)\n",
       ")"
      ]
     },
     "execution_count": 73,
     "metadata": {
      "tags": []
     },
     "output_type": "execute_result"
    }
   ],
   "source": [
    "INPUT_DIM = len(TEXT.vocab)\n",
    "EMBEDDING_DIM = 150\n",
    "HIDDEN_DIM = 50\n",
    "NUM_LAYERS = 1\n",
    "BIDIRECTIONAL = True\n",
    "\n",
    "model3 = FULLRNN(INPUT_DIM, HIDDEN_DIM, NUM_LAYERS ,EMBEDDING_DIM, TEXT.vocab.stoi[TEXT.pad_token],\n",
    "                 BIDIRECTIONAL)\n",
    "#model3.add_pretrained_embeddings(TEXT)\n",
    "model3.to(device)"
   ]
  },
  {
   "cell_type": "code",
   "execution_count": 74,
   "metadata": {
    "colab": {
     "base_uri": "https://localhost:8080/",
     "height": 187
    },
    "colab_type": "code",
    "id": "wz6jHiWQMbvS",
    "outputId": "d8e1cf22-a816-4872-a5d0-59fce6b4d0bb"
   },
   "outputs": [
    {
     "name": "stdout",
     "output_type": "stream",
     "text": [
      "epoca 1\n",
      "tiempo entrenamiento epoca: 405.25824332237244/ accurracy: 0.5594469308853149\n",
      "epoca 2\n",
      "tiempo entrenamiento epoca: 380.83515071868896/ accurracy: 0.6529411673545837\n",
      "epoca 3\n",
      "tiempo entrenamiento epoca: 371.2245943546295/ accurracy: 0.6980578303337097\n",
      "epoca 4\n",
      "tiempo entrenamiento epoca: 355.8866751194/ accurracy: 0.7355977892875671\n",
      "epoca 5\n",
      "tiempo entrenamiento epoca: 367.8403160572052/ accurracy: 0.7567934989929199\n"
     ]
    }
   ],
   "source": [
    "acc3 = run(model3, imdb_train_iterator, n_epochs = 5)"
   ]
  },
  {
   "cell_type": "code",
   "execution_count": 75,
   "metadata": {
    "colab": {
     "base_uri": "https://localhost:8080/",
     "height": 282
    },
    "colab_type": "code",
    "id": "pbkFJk1EXUtQ",
    "outputId": "e2e6cf89-0276-42db-cc93-03931d343630"
   },
   "outputs": [
    {
     "data": {
      "text/plain": [
       "[<matplotlib.lines.Line2D at 0x7fd209312320>]"
      ]
     },
     "execution_count": 75,
     "metadata": {
      "tags": []
     },
     "output_type": "execute_result"
    },
    {
     "data": {
      "image/png": "[encoded data removed]",
      "text/plain": [
       "<Figure size 432x288 with 1 Axes>"
      ]
     },
     "metadata": {
      "needs_background": "light",
      "tags": []
     },
     "output_type": "display_data"
    }
   ],
   "source": [
    "plt.plot(acc3)"
   ]
  },
  {
   "cell_type": "code",
   "execution_count": 76,
   "metadata": {
    "colab": {
     "base_uri": "https://localhost:8080/",
     "height": 34
    },
    "colab_type": "code",
    "id": "NDqRhv-ZXbDt",
    "outputId": "cfa9d456-49ee-48c5-98cc-0ce435cc9929"
   },
   "outputs": [
    {
     "data": {
      "text/plain": [
       "tensor(0.6633)"
      ]
     },
     "execution_count": 76,
     "metadata": {
      "tags": []
     },
     "output_type": "execute_result"
    }
   ],
   "source": [
    "eval_model(model3, imdb_test_iterator)"
   ]
  },
  {
   "cell_type": "markdown",
   "metadata": {
    "colab_type": "text",
    "id": "Ujrp8U_YjaMP"
   },
   "source": [
    "*   Este ultimo modelo tiene dos capas dentro de la red neuronal recurrente, ademas es bidireccional\n",
    "\n"
   ]
  },
  {
   "cell_type": "code",
   "execution_count": 80,
   "metadata": {
    "colab": {
     "base_uri": "https://localhost:8080/",
     "height": 102
    },
    "colab_type": "code",
    "id": "TCgrcw2UXuaa",
    "outputId": "fb19795f-07ef-4e3f-dd4a-9f49858147eb"
   },
   "outputs": [
    {
     "data": {
      "text/plain": [
       "FULLRNN(\n",
       "  (embedding): Embedding(35002, 150, padding_idx=1)\n",
       "  (rnn): RNN(150, 50, num_layers=2, bidirectional=True)\n",
       "  (linear_out): Linear(in_features=100, out_features=1, bias=True)\n",
       ")"
      ]
     },
     "execution_count": 80,
     "metadata": {
      "tags": []
     },
     "output_type": "execute_result"
    }
   ],
   "source": [
    "INPUT_DIM = len(TEXT.vocab)\n",
    "EMBEDDING_DIM = 150\n",
    "HIDDEN_DIM = 50\n",
    "NUM_LAYERS = 2\n",
    "BIDIRECTIONAL = True\n",
    "\n",
    "model4 = FULLRNN(INPUT_DIM, HIDDEN_DIM, NUM_LAYERS ,EMBEDDING_DIM, TEXT.vocab.stoi[TEXT.pad_token],\n",
    "                 BIDIRECTIONAL)\n",
    "#model4.add_pretrained_embeddings(TEXT)\n",
    "model4.to(device)"
   ]
  },
  {
   "cell_type": "code",
   "execution_count": 81,
   "metadata": {
    "colab": {
     "base_uri": "https://localhost:8080/",
     "height": 187
    },
    "colab_type": "code",
    "id": "yPXBmacwX7En",
    "outputId": "07516d17-d6bb-4a77-eb31-e534248a3c0d"
   },
   "outputs": [
    {
     "name": "stdout",
     "output_type": "stream",
     "text": [
      "epoca 1\n",
      "tiempo entrenamiento epoca: 1035.049869298935/ accurracy: 0.55535489320755\n",
      "epoca 2\n",
      "tiempo entrenamiento epoca: 831.1738274097443/ accurracy: 0.6449089050292969\n",
      "epoca 3\n",
      "tiempo entrenamiento epoca: 778.287401676178/ accurracy: 0.7044277191162109\n",
      "epoca 4\n",
      "tiempo entrenamiento epoca: 824.7165851593018/ accurracy: 0.7256473898887634\n",
      "epoca 5\n",
      "tiempo entrenamiento epoca: 703.8238232135773/ accurracy: 0.7336477041244507\n"
     ]
    }
   ],
   "source": [
    "acc4 = run(model4, imdb_train_iterator, n_epochs = 5)"
   ]
  },
  {
   "cell_type": "code",
   "execution_count": 82,
   "metadata": {
    "colab": {
     "base_uri": "https://localhost:8080/",
     "height": 282
    },
    "colab_type": "code",
    "id": "HE_JJWhmqth6",
    "outputId": "ab5ae57c-fabd-4790-f4a7-be99b5d58d9a"
   },
   "outputs": [
    {
     "data": {
      "text/plain": [
       "[<matplotlib.lines.Line2D at 0x7fd209580470>]"
      ]
     },
     "execution_count": 82,
     "metadata": {
      "tags": []
     },
     "output_type": "execute_result"
    },
    {
     "data": {
      "image/png": "[encoded data removed]",
      "text/plain": [
       "<Figure size 432x288 with 1 Axes>"
      ]
     },
     "metadata": {
      "needs_background": "light",
      "tags": []
     },
     "output_type": "display_data"
    }
   ],
   "source": [
    "plt.plot(acc4)"
   ]
  },
  {
   "cell_type": "code",
   "execution_count": 83,
   "metadata": {
    "colab": {
     "base_uri": "https://localhost:8080/",
     "height": 34
    },
    "colab_type": "code",
    "id": "lJjWKrnurBDj",
    "outputId": "b30a6d91-f2ed-404c-d6e7-12c559677681"
   },
   "outputs": [
    {
     "data": {
      "text/plain": [
       "tensor(0.6185)"
      ]
     },
     "execution_count": 83,
     "metadata": {
      "tags": []
     },
     "output_type": "execute_result"
    }
   ],
   "source": [
    "eval_model(model4, imdb_test_iterator)"
   ]
  },
  {
   "cell_type": "markdown",
   "metadata": {
    "colab_type": "text",
    "id": "WQ0SvRJCiYNX"
   },
   "source": [
    "Finalmente luego de probar todos lo modelos obtenemos los siguientes resultados:\n",
    "\n",
    "\n",
    " Modelo | Tamaño Interno | Tamaño Embedding | Embedding Preentrenado | Capas RNN | Bidireccional |Acc Training | Acc Test | Epocas | Tiempo Entrenamiento\n",
    " --- | --- | --- | --- | --- | --- | --- | --- | --- | --- |\n",
    "1 | 50 | 100 | si | 1 | no | 49%  | 47% | 5 | 14min\n",
    "2 |  100 | 100 | si | 1 | no | 49% | 56% | 5 | 20min\n",
    "3 | 50 | 150 | no | 1 | si  | 75% | 66% | 5 | 30min\n",
    "4 | 50 | 150 | no | 1 | si | 73% | 61% | 5 | 66min\n"
   ]
  },
  {
   "cell_type": "markdown",
   "metadata": {
    "colab_type": "text",
    "id": "-0bABXzFnA_r"
   },
   "source": [
    "Si analizamos la tabla podemos ver que los modelos 1 y 2, a pesar de ser los unicos en tener un embedding preentrenado, obtuvieron los peores resultados.  Luego podemos notar que transformar la RNN a una biderccional, aumenta el tiempo de entrenamiento, pero mejora el rendimiento considerablemente. Finalmente podemos darnos cuenta que agregar una capa mas de profundidad a la RNN no ayudo en mejorar el rendimiento y aumento el tiempo  de entrenamiento al doble"
   ]
  },
  {
   "cell_type": "markdown",
   "metadata": {
    "colab_type": "text",
    "id": "LtybB6WSk5va"
   },
   "source": [
    "###Actividad 3"
   ]
  },
  {
   "cell_type": "markdown",
   "metadata": {
    "colab_type": "text",
    "id": "ozmslpucn2y-"
   },
   "source": [
    "En esta sección resolveremos el mismo problema, pero en vez de utilizar una RNN \"normal\" usaremos un LSTM. El codigo de las siguientes celdas implementa este nuevo modelo y ademas entrena dos modelos con distintos hiper-parametros. (el tiempo de entrenamiento aumenta considerablemente en relación a una RNN normal).\n",
    "\n",
    "Al igual que en la actividad 2, al final de la sección se encuentra una tabla comparativa"
   ]
  },
  {
   "cell_type": "code",
   "execution_count": 0,
   "metadata": {
    "colab": {},
    "colab_type": "code",
    "id": "Etb8JCv3Mqnn"
   },
   "outputs": [],
   "source": [
    "class FULLLSTM(nn.Module):\n",
    "  def __init__(self, input_dim, hidden_dim, num_layers, embedding_dim, bidirectional, pad_idx):\n",
    "    super().__init__() \n",
    "    self.embedding_dim = embedding_dim\n",
    "    self.embedding = nn.Embedding(input_dim, embedding_dim, padding_idx = pad_idx)\n",
    "    self.hidden_dim = hidden_dim\n",
    "    self.num_layers = num_layers \n",
    "    self.lstm = nn.LSTM(embedding_dim, hidden_dim, num_layers,\n",
    "                       bidirectional = bidirectional,\n",
    "                        dropout=0.45)\n",
    "    self.linear_out = nn.Linear(hidden_dim*2, 1)\n",
    "  \n",
    "  # This method defines the forward pass of the RNN \n",
    "  def forward(self, input):\n",
    "    #input = [sent len, batch size]\n",
    "    _ , batch_size = input.size()\n",
    "    # Passing in the input and hidden state to obtain output \n",
    "    embedded = self.embedding(input)\n",
    "    _, (hidden_state, cell_state) = self.lstm(embedded) \n",
    "    hidden = torch.cat((hidden_state[-2,:,:], hidden_state[-1,:,:]), dim = 1)\n",
    "    out = self.linear_out(hidden)\n",
    "    return (out, hidden)\n",
    "\n",
    "  # This method generates the first hidden state of zeros for the forward pass \n",
    "  # This creates a tensor of zeros in the shape of our hidden states. \n",
    "  def init_hidden(self, batch_size):\n",
    "    #print(f\"create a hidden state of batch_size:{batch_size}\") \n",
    "    hidden = torch.zeros(self.num_layers, batch_size, self.hidden_dim)\n",
    "    return hidden\n",
    "  def add_pretrained_embeddings(self, TEXT_FIELD):\n",
    "    self.embedding.weight.data.copy_(TEXT_FIELD.vocab.vectors) \n",
    "    PAD_IDX = TEXT_FIELD.vocab.stoi[TEXT.pad_token] \n",
    "    UNK_IDX = TEXT_FIELD.vocab.stoi[TEXT.unk_token]\n",
    "    self.embedding.weight.data[UNK_IDX] = torch.zeros(self.embedding_dim)\n",
    "    self.embedding.weight.data[PAD_IDX] = torch.zeros(self.embedding_dim)"
   ]
  },
  {
   "cell_type": "markdown",
   "metadata": {
    "colab_type": "text",
    "id": "LESZ2uUpoUdT"
   },
   "source": [
    "\n",
    "*  Modelo bidireccional de una LSTM con 2 capas (se entrena solo por 2 epocas)\n",
    "\n"
   ]
  },
  {
   "cell_type": "code",
   "execution_count": 18,
   "metadata": {
    "colab": {
     "base_uri": "https://localhost:8080/",
     "height": 102
    },
    "colab_type": "code",
    "id": "Q6-Yf7SeRMhd",
    "outputId": "98e360a1-b40d-4c48-9bcd-b14bcd4a16dd"
   },
   "outputs": [
    {
     "data": {
      "text/plain": [
       "FULLLSTM(\n",
       "  (embedding): Embedding(35002, 100, padding_idx=1)\n",
       "  (lstm): LSTM(100, 50, num_layers=2, dropout=0.45, bidirectional=True)\n",
       "  (linear_out): Linear(in_features=100, out_features=1, bias=True)\n",
       ")"
      ]
     },
     "execution_count": 18,
     "metadata": {
      "tags": []
     },
     "output_type": "execute_result"
    }
   ],
   "source": [
    "EMBEDDING_DIM = 100\n",
    "HIDDEN_DIM = 50\n",
    "N_LAYERS = 2\n",
    "BIDIRECTIONAL = True\n",
    "\n",
    "modellstm = FULLLSTM(len(TEXT.vocab), \n",
    "            HIDDEN_DIM,\n",
    "            N_LAYERS,\n",
    "            EMBEDDING_DIM, \n",
    "            BIDIRECTIONAL,\n",
    "            TEXT.vocab.stoi[TEXT.pad_token])\n",
    "modellstm.add_pretrained_embeddings(TEXT)\n",
    "modellstm.to(device)"
   ]
  },
  {
   "cell_type": "code",
   "execution_count": 19,
   "metadata": {
    "colab": {
     "base_uri": "https://localhost:8080/",
     "height": 1000
    },
    "colab_type": "code",
    "id": "Awv9-NhhSUV5",
    "outputId": "9ca5f507-c8c5-44f0-f788-8b37d41096af"
   },
   "outputs": [
    {
     "name": "stdout",
     "output_type": "stream",
     "text": [
      "epoca 1\n",
      "batch: 1/ accurracy 0.546875/ time: 12.479676246643066\n",
      "batch: 2/ accurracy 0.515625/ time: 13.155879974365234\n",
      "batch: 3/ accurracy 0.390625/ time: 9.448016881942749\n",
      "batch: 4/ accurracy 0.53125/ time: 10.571600675582886\n",
      "batch: 5/ accurracy 0.421875/ time: 11.345671892166138\n",
      "batch: 6/ accurracy 0.453125/ time: 9.67387318611145\n",
      "batch: 7/ accurracy 0.484375/ time: 10.571341753005981\n",
      "batch: 8/ accurracy 0.515625/ time: 10.850731611251831\n",
      "batch: 9/ accurracy 0.53125/ time: 11.374361515045166\n",
      "batch: 10/ accurracy 0.40625/ time: 10.971382141113281\n",
      "batch: 11/ accurracy 0.578125/ time: 10.719016075134277\n",
      "batch: 12/ accurracy 0.4375/ time: 9.317959785461426\n",
      "batch: 13/ accurracy 0.515625/ time: 8.353887557983398\n",
      "batch: 14/ accurracy 0.546875/ time: 10.152477502822876\n",
      "batch: 15/ accurracy 0.625/ time: 9.647545099258423\n",
      "batch: 16/ accurracy 0.59375/ time: 12.675363540649414\n",
      "batch: 17/ accurracy 0.53125/ time: 7.958718299865723\n",
      "batch: 18/ accurracy 0.5625/ time: 9.067664384841919\n",
      "batch: 19/ accurracy 0.46875/ time: 7.930804252624512\n",
      "batch: 20/ accurracy 0.515625/ time: 9.676800012588501\n",
      "batch: 21/ accurracy 0.46875/ time: 9.56786060333252\n",
      "batch: 22/ accurracy 0.375/ time: 9.566805362701416\n",
      "batch: 23/ accurracy 0.578125/ time: 8.649116277694702\n",
      "batch: 24/ accurracy 0.421875/ time: 9.34458589553833\n",
      "batch: 25/ accurracy 0.53125/ time: 8.56379508972168\n",
      "batch: 26/ accurracy 0.5625/ time: 9.11764407157898\n",
      "batch: 27/ accurracy 0.515625/ time: 9.727882385253906\n",
      "batch: 28/ accurracy 0.484375/ time: 9.242162942886353\n",
      "batch: 29/ accurracy 0.578125/ time: 7.98717474937439\n",
      "batch: 30/ accurracy 0.5625/ time: 8.623040437698364\n",
      "batch: 31/ accurracy 0.546875/ time: 8.357252836227417\n",
      "batch: 32/ accurracy 0.671875/ time: 8.124133586883545\n",
      "batch: 33/ accurracy 0.515625/ time: 8.781052350997925\n",
      "batch: 34/ accurracy 0.53125/ time: 8.797526597976685\n",
      "batch: 35/ accurracy 0.5625/ time: 9.503711462020874\n",
      "batch: 36/ accurracy 0.515625/ time: 8.649198293685913\n",
      "batch: 37/ accurracy 0.71875/ time: 9.141060590744019\n",
      "batch: 38/ accurracy 0.640625/ time: 8.171864748001099\n",
      "batch: 39/ accurracy 0.5625/ time: 11.018458127975464\n",
      "batch: 40/ accurracy 0.65625/ time: 11.74036455154419\n",
      "batch: 41/ accurracy 0.578125/ time: 9.478404998779297\n",
      "batch: 42/ accurracy 0.609375/ time: 10.364261150360107\n",
      "batch: 43/ accurracy 0.578125/ time: 10.293481826782227\n",
      "batch: 44/ accurracy 0.546875/ time: 11.4432692527771\n",
      "batch: 45/ accurracy 0.5/ time: 11.286095380783081\n",
      "batch: 46/ accurracy 0.671875/ time: 12.738133192062378\n",
      "batch: 47/ accurracy 0.578125/ time: 13.748033285140991\n",
      "batch: 48/ accurracy 0.453125/ time: 13.665089130401611\n",
      "batch: 49/ accurracy 0.515625/ time: 12.296523571014404\n",
      "batch: 50/ accurracy 0.609375/ time: 14.295002222061157\n",
      "batch: 51/ accurracy 0.65625/ time: 11.808384895324707\n",
      "batch: 52/ accurracy 0.578125/ time: 9.402828454971313\n",
      "batch: 53/ accurracy 0.640625/ time: 12.744344472885132\n",
      "batch: 54/ accurracy 0.6875/ time: 12.882381439208984\n",
      "batch: 55/ accurracy 0.671875/ time: 12.306831359863281\n",
      "batch: 56/ accurracy 0.609375/ time: 11.280831336975098\n",
      "batch: 57/ accurracy 0.6875/ time: 13.423332214355469\n",
      "batch: 58/ accurracy 0.640625/ time: 13.474003553390503\n",
      "batch: 59/ accurracy 0.703125/ time: 4.785377025604248\n",
      "batch: 60/ accurracy 0.640625/ time: 11.527649164199829\n",
      "batch: 61/ accurracy 0.671875/ time: 15.408044338226318\n",
      "batch: 62/ accurracy 0.5/ time: 12.53359317779541\n",
      "batch: 63/ accurracy 0.65625/ time: 18.09148859977722\n",
      "batch: 64/ accurracy 0.578125/ time: 8.440797090530396\n",
      "batch: 65/ accurracy 0.65625/ time: 15.988413333892822\n",
      "batch: 66/ accurracy 0.59375/ time: 15.722748517990112\n",
      "batch: 67/ accurracy 0.65625/ time: 14.570051431655884\n",
      "batch: 68/ accurracy 0.609375/ time: 15.093291997909546\n",
      "batch: 69/ accurracy 0.640625/ time: 15.7366464138031\n",
      "batch: 70/ accurracy 0.734375/ time: 10.464818000793457\n",
      "batch: 71/ accurracy 0.578125/ time: 15.486135959625244\n",
      "batch: 72/ accurracy 0.703125/ time: 7.173199653625488\n",
      "batch: 73/ accurracy 0.5625/ time: 10.131716012954712\n",
      "batch: 74/ accurracy 0.6875/ time: 8.248286724090576\n",
      "batch: 75/ accurracy 0.578125/ time: 9.389968872070312\n",
      "batch: 76/ accurracy 0.546875/ time: 8.566062450408936\n",
      "batch: 77/ accurracy 0.5625/ time: 8.798202991485596\n",
      "batch: 78/ accurracy 0.65625/ time: 8.189816236495972\n",
      "batch: 79/ accurracy 0.71875/ time: 10.067722797393799\n",
      "batch: 80/ accurracy 0.6875/ time: 10.342581748962402\n",
      "batch: 81/ accurracy 0.671875/ time: 10.967306137084961\n",
      "batch: 82/ accurracy 0.671875/ time: 9.687366724014282\n",
      "batch: 83/ accurracy 0.625/ time: 14.031673192977905\n",
      "batch: 84/ accurracy 0.734375/ time: 6.5793304443359375\n",
      "batch: 85/ accurracy 0.75/ time: 7.696316957473755\n",
      "batch: 86/ accurracy 0.46875/ time: 9.394293785095215\n",
      "batch: 87/ accurracy 0.78125/ time: 7.665537118911743\n",
      "batch: 88/ accurracy 0.75/ time: 13.000625848770142\n",
      "batch: 89/ accurracy 0.625/ time: 12.474902629852295\n",
      "batch: 90/ accurracy 0.78125/ time: 10.368195295333862\n",
      "batch: 91/ accurracy 0.796875/ time: 10.705303430557251\n",
      "batch: 92/ accurracy 0.703125/ time: 11.352477788925171\n",
      "batch: 93/ accurracy 0.703125/ time: 9.403390407562256\n",
      "batch: 94/ accurracy 0.71875/ time: 11.757272005081177\n",
      "batch: 95/ accurracy 0.71875/ time: 10.979240417480469\n",
      "batch: 96/ accurracy 0.75/ time: 10.680495023727417\n",
      "batch: 97/ accurracy 0.765625/ time: 10.824087858200073\n",
      "batch: 98/ accurracy 0.828125/ time: 8.089345693588257\n",
      "batch: 99/ accurracy 0.828125/ time: 12.98341679573059\n",
      "batch: 100/ accurracy 0.796875/ time: 14.251467227935791\n",
      "batch: 101/ accurracy 0.828125/ time: 14.361382484436035\n",
      "batch: 102/ accurracy 0.75/ time: 9.582744121551514\n",
      "batch: 103/ accurracy 0.84375/ time: 12.930480241775513\n",
      "batch: 104/ accurracy 0.765625/ time: 21.52867555618286\n",
      "batch: 105/ accurracy 0.65625/ time: 6.585409164428711\n",
      "batch: 106/ accurracy 0.75/ time: 10.775929689407349\n",
      "batch: 107/ accurracy 0.796875/ time: 10.403282642364502\n",
      "batch: 108/ accurracy 0.640625/ time: 11.10342264175415\n",
      "batch: 109/ accurracy 0.734375/ time: 11.827637434005737\n",
      "batch: 110/ accurracy 0.765625/ time: 10.65422773361206\n",
      "batch: 111/ accurracy 0.78125/ time: 9.48681378364563\n",
      "batch: 112/ accurracy 0.859375/ time: 13.21415090560913\n",
      "batch: 113/ accurracy 0.734375/ time: 12.071235418319702\n",
      "batch: 114/ accurracy 0.625/ time: 10.573654413223267\n",
      "batch: 115/ accurracy 0.78125/ time: 7.200603008270264\n",
      "batch: 116/ accurracy 0.796875/ time: 7.89040470123291\n",
      "batch: 117/ accurracy 0.859375/ time: 9.520851135253906\n",
      "batch: 118/ accurracy 0.75/ time: 7.897448301315308\n",
      "batch: 119/ accurracy 0.765625/ time: 8.909113883972168\n",
      "batch: 120/ accurracy 0.875/ time: 8.468171834945679\n",
      "batch: 121/ accurracy 0.875/ time: 7.671758413314819\n",
      "batch: 122/ accurracy 0.6875/ time: 8.121412992477417\n",
      "batch: 123/ accurracy 0.78125/ time: 7.948795557022095\n",
      "batch: 124/ accurracy 0.796875/ time: 7.042998552322388\n",
      "batch: 125/ accurracy 0.875/ time: 8.617316007614136\n",
      "batch: 126/ accurracy 0.78125/ time: 7.538941144943237\n",
      "batch: 127/ accurracy 0.75/ time: 8.018132448196411\n",
      "batch: 128/ accurracy 0.9375/ time: 12.001422643661499\n",
      "batch: 129/ accurracy 0.765625/ time: 10.709898471832275\n",
      "batch: 130/ accurracy 0.78125/ time: 10.429951190948486\n",
      "batch: 131/ accurracy 0.765625/ time: 10.064037799835205\n",
      "batch: 132/ accurracy 0.796875/ time: 10.121338844299316\n",
      "batch: 133/ accurracy 0.765625/ time: 10.753600120544434\n",
      "batch: 134/ accurracy 0.8125/ time: 11.038856506347656\n",
      "batch: 135/ accurracy 0.828125/ time: 11.430907487869263\n",
      "batch: 136/ accurracy 0.828125/ time: 10.716878175735474\n",
      "batch: 137/ accurracy 0.765625/ time: 11.593875885009766\n",
      "batch: 138/ accurracy 0.765625/ time: 12.555442333221436\n",
      "batch: 139/ accurracy 0.796875/ time: 10.454110860824585\n",
      "batch: 140/ accurracy 0.78125/ time: 11.081700563430786\n",
      "batch: 141/ accurracy 0.78125/ time: 10.177781820297241\n",
      "batch: 142/ accurracy 0.84375/ time: 9.983707189559937\n",
      "batch: 143/ accurracy 0.84375/ time: 8.213714599609375\n",
      "batch: 144/ accurracy 0.90625/ time: 9.861748695373535\n",
      "batch: 145/ accurracy 0.8125/ time: 9.61894154548645\n",
      "batch: 146/ accurracy 0.859375/ time: 7.522402048110962\n",
      "batch: 147/ accurracy 0.90625/ time: 9.46685266494751\n",
      "batch: 148/ accurracy 0.859375/ time: 10.428261995315552\n",
      "batch: 149/ accurracy 0.796875/ time: 9.407495975494385\n",
      "batch: 150/ accurracy 0.90625/ time: 7.138842821121216\n",
      "batch: 151/ accurracy 0.84375/ time: 8.276479959487915\n",
      "batch: 152/ accurracy 0.78125/ time: 9.89106035232544\n",
      "batch: 153/ accurracy 0.75/ time: 8.71059775352478\n",
      "batch: 154/ accurracy 0.78125/ time: 8.776562452316284\n",
      "batch: 155/ accurracy 0.75/ time: 8.700512170791626\n",
      "batch: 156/ accurracy 0.78125/ time: 6.636230230331421\n",
      "batch: 157/ accurracy 0.84375/ time: 9.01219892501831\n",
      "batch: 158/ accurracy 0.875/ time: 8.341260194778442\n",
      "batch: 159/ accurracy 0.8125/ time: 7.272743225097656\n",
      "batch: 160/ accurracy 0.828125/ time: 7.780070781707764\n",
      "batch: 161/ accurracy 0.84375/ time: 7.219026327133179\n",
      "batch: 162/ accurracy 0.8125/ time: 7.174377918243408\n",
      "batch: 163/ accurracy 0.875/ time: 7.249750137329102\n",
      "batch: 164/ accurracy 0.890625/ time: 10.6317298412323\n",
      "batch: 165/ accurracy 0.8125/ time: 6.9073708057403564\n",
      "batch: 166/ accurracy 0.90625/ time: 5.513099670410156\n",
      "batch: 167/ accurracy 0.875/ time: 10.058704137802124\n",
      "batch: 168/ accurracy 0.8125/ time: 9.46987271308899\n",
      "batch: 169/ accurracy 0.9375/ time: 8.28631854057312\n",
      "batch: 170/ accurracy 0.8125/ time: 7.073862552642822\n",
      "batch: 171/ accurracy 0.78125/ time: 8.982870101928711\n",
      "batch: 172/ accurracy 0.828125/ time: 6.877874374389648\n",
      "batch: 173/ accurracy 0.84375/ time: 6.794130563735962\n",
      "batch: 174/ accurracy 0.953125/ time: 9.464257001876831\n",
      "batch: 175/ accurracy 0.90625/ time: 9.916715145111084\n",
      "batch: 176/ accurracy 0.8125/ time: 10.489466190338135\n",
      "batch: 177/ accurracy 0.84375/ time: 9.66403341293335\n",
      "batch: 178/ accurracy 0.8125/ time: 7.504452228546143\n",
      "batch: 179/ accurracy 0.859375/ time: 6.395970344543457\n",
      "batch: 180/ accurracy 0.890625/ time: 10.878736972808838\n",
      "batch: 181/ accurracy 0.8125/ time: 8.068340063095093\n",
      "batch: 182/ accurracy 0.859375/ time: 5.515899419784546\n",
      "batch: 183/ accurracy 0.796875/ time: 9.248616218566895\n",
      "batch: 184/ accurracy 0.90625/ time: 3.639982223510742\n",
      "batch: 185/ accurracy 0.875/ time: 4.189815521240234\n",
      "batch: 186/ accurracy 0.875/ time: 6.455609321594238\n",
      "batch: 187/ accurracy 0.828125/ time: 4.002418518066406\n",
      "batch: 188/ accurracy 0.875/ time: 11.788849592208862\n",
      "batch: 189/ accurracy 0.828125/ time: 8.728847742080688\n",
      "batch: 190/ accurracy 0.796875/ time: 4.267079830169678\n",
      "batch: 191/ accurracy 0.796875/ time: 12.689406156539917\n",
      "batch: 192/ accurracy 0.84375/ time: 7.46963906288147\n",
      "batch: 193/ accurracy 0.8125/ time: 12.050014734268188\n",
      "batch: 194/ accurracy 0.75/ time: 9.180427551269531\n",
      "batch: 195/ accurracy 0.828125/ time: 11.768020868301392\n",
      "batch: 196/ accurracy 0.796875/ time: 10.25277829170227\n",
      "batch: 197/ accurracy 0.921875/ time: 9.767468214035034\n",
      "batch: 198/ accurracy 0.875/ time: 8.672619104385376\n",
      "batch: 199/ accurracy 0.84375/ time: 11.59930419921875\n",
      "batch: 200/ accurracy 0.859375/ time: 6.862289190292358\n",
      "batch: 201/ accurracy 0.890625/ time: 9.811650276184082\n",
      "batch: 202/ accurracy 0.84375/ time: 8.628334522247314\n",
      "batch: 203/ accurracy 0.859375/ time: 11.704621315002441\n",
      "batch: 204/ accurracy 0.8125/ time: 7.301666498184204\n",
      "batch: 205/ accurracy 0.90625/ time: 10.08021855354309\n",
      "batch: 206/ accurracy 0.828125/ time: 9.743905544281006\n",
      "batch: 207/ accurracy 0.890625/ time: 7.806566476821899\n",
      "batch: 208/ accurracy 0.84375/ time: 10.72160291671753\n",
      "batch: 209/ accurracy 0.875/ time: 6.733851909637451\n",
      "batch: 210/ accurracy 0.859375/ time: 11.37420129776001\n",
      "batch: 211/ accurracy 0.875/ time: 7.054179668426514\n",
      "batch: 212/ accurracy 0.8125/ time: 8.017910480499268\n",
      "batch: 213/ accurracy 0.953125/ time: 7.93224573135376\n",
      "batch: 214/ accurracy 0.78125/ time: 11.981430530548096\n",
      "batch: 215/ accurracy 0.890625/ time: 7.361116409301758\n",
      "batch: 216/ accurracy 0.875/ time: 7.067882776260376\n",
      "batch: 217/ accurracy 0.875/ time: 7.774439096450806\n",
      "batch: 218/ accurracy 0.875/ time: 11.306570768356323\n",
      "batch: 219/ accurracy 0.953125/ time: 9.137170791625977\n",
      "batch: 220/ accurracy 0.890625/ time: 11.4431631565094\n",
      "batch: 221/ accurracy 0.84375/ time: 11.336585283279419\n",
      "batch: 222/ accurracy 0.875/ time: 10.139652967453003\n",
      "batch: 223/ accurracy 0.859375/ time: 10.239953517913818\n",
      "batch: 224/ accurracy 0.875/ time: 11.354365825653076\n",
      "batch: 225/ accurracy 0.8125/ time: 6.6880292892456055\n",
      "batch: 226/ accurracy 0.765625/ time: 11.030074834823608\n",
      "batch: 227/ accurracy 0.828125/ time: 8.819024324417114\n",
      "batch: 228/ accurracy 0.703125/ time: 11.172563552856445\n",
      "batch: 229/ accurracy 0.859375/ time: 10.206319570541382\n",
      "batch: 230/ accurracy 0.9375/ time: 13.73299789428711\n",
      "batch: 231/ accurracy 0.875/ time: 11.164148569107056\n",
      "batch: 232/ accurracy 0.890625/ time: 7.199829339981079\n",
      "batch: 233/ accurracy 0.890625/ time: 5.48992133140564\n",
      "batch: 234/ accurracy 0.875/ time: 7.08409571647644\n",
      "batch: 235/ accurracy 0.84375/ time: 6.0642616748809814\n",
      "batch: 236/ accurracy 0.84375/ time: 12.710740089416504\n",
      "batch: 237/ accurracy 0.84375/ time: 11.435479879379272\n",
      "batch: 238/ accurracy 0.890625/ time: 10.007460594177246\n",
      "batch: 239/ accurracy 0.84375/ time: 8.017799615859985\n",
      "batch: 240/ accurracy 0.90625/ time: 9.797048568725586\n",
      "batch: 241/ accurracy 0.90625/ time: 11.392570734024048\n",
      "batch: 242/ accurracy 0.8125/ time: 8.221790075302124\n",
      "batch: 243/ accurracy 0.90625/ time: 9.701321601867676\n",
      "batch: 244/ accurracy 0.8125/ time: 10.426359415054321\n",
      "batch: 245/ accurracy 0.796875/ time: 11.524949312210083\n",
      "batch: 246/ accurracy 0.828125/ time: 6.797449350357056\n",
      "batch: 247/ accurracy 0.8125/ time: 9.876515865325928\n",
      "batch: 248/ accurracy 0.8125/ time: 14.69640040397644\n",
      "batch: 249/ accurracy 0.84375/ time: 10.182138442993164\n",
      "batch: 250/ accurracy 0.796875/ time: 8.318685531616211\n",
      "batch: 251/ accurracy 0.890625/ time: 10.06960391998291\n",
      "batch: 252/ accurracy 0.90625/ time: 10.770310878753662\n",
      "batch: 253/ accurracy 0.890625/ time: 20.8710355758667\n",
      "batch: 254/ accurracy 0.828125/ time: 11.353540897369385\n",
      "batch: 255/ accurracy 0.875/ time: 10.04947543144226\n",
      "batch: 256/ accurracy 0.875/ time: 7.942798376083374\n",
      "batch: 257/ accurracy 0.890625/ time: 7.630825757980347\n",
      "batch: 258/ accurracy 0.859375/ time: 9.933992862701416\n",
      "batch: 259/ accurracy 0.84375/ time: 7.550385475158691\n",
      "batch: 260/ accurracy 0.890625/ time: 10.822346448898315\n",
      "batch: 261/ accurracy 0.890625/ time: 10.700733423233032\n",
      "batch: 262/ accurracy 0.828125/ time: 10.276349544525146\n",
      "batch: 263/ accurracy 0.828125/ time: 10.619189262390137\n",
      "batch: 264/ accurracy 0.765625/ time: 7.6171958446502686\n",
      "batch: 265/ accurracy 0.859375/ time: 8.514803647994995\n",
      "batch: 266/ accurracy 0.828125/ time: 6.986799955368042\n",
      "batch: 267/ accurracy 0.75/ time: 6.52381157875061\n",
      "batch: 268/ accurracy 0.828125/ time: 7.643675327301025\n",
      "batch: 269/ accurracy 0.984375/ time: 8.307512998580933\n",
      "batch: 270/ accurracy 0.875/ time: 7.473106622695923\n",
      "batch: 271/ accurracy 0.78125/ time: 7.952265024185181\n",
      "batch: 272/ accurracy 0.859375/ time: 7.685450792312622\n",
      "batch: 273/ accurracy 0.796875/ time: 8.236340999603271\n",
      "batch: 274/ accurracy 0.8125/ time: 8.59313178062439\n",
      "batch: 275/ accurracy 0.796875/ time: 7.8250885009765625\n",
      "batch: 276/ accurracy 0.890625/ time: 7.664259195327759\n",
      "batch: 277/ accurracy 0.859375/ time: 8.75320291519165\n",
      "batch: 278/ accurracy 0.796875/ time: 6.407077312469482\n",
      "batch: 279/ accurracy 0.890625/ time: 7.835517406463623\n",
      "batch: 280/ accurracy 0.84375/ time: 7.001474618911743\n",
      "batch: 281/ accurracy 0.984375/ time: 7.153278827667236\n",
      "batch: 282/ accurracy 0.8125/ time: 7.948049068450928\n",
      "batch: 283/ accurracy 0.890625/ time: 7.450462102890015\n",
      "batch: 284/ accurracy 0.84375/ time: 8.344894170761108\n",
      "batch: 285/ accurracy 0.8125/ time: 8.996214151382446\n",
      "batch: 286/ accurracy 0.78125/ time: 6.199412822723389\n",
      "batch: 287/ accurracy 0.859375/ time: 8.919098138809204\n",
      "batch: 288/ accurracy 0.90625/ time: 10.731851577758789\n",
      "batch: 289/ accurracy 0.859375/ time: 9.151601552963257\n",
      "batch: 290/ accurracy 0.859375/ time: 7.97057580947876\n",
      "batch: 291/ accurracy 0.8125/ time: 17.513035535812378\n",
      "batch: 292/ accurracy 0.890625/ time: 8.727838039398193\n",
      "batch: 293/ accurracy 0.84375/ time: 7.008982419967651\n",
      "batch: 294/ accurracy 0.828125/ time: 10.610182523727417\n",
      "batch: 295/ accurracy 0.828125/ time: 6.985531568527222\n",
      "batch: 296/ accurracy 0.84375/ time: 8.752484560012817\n",
      "batch: 297/ accurracy 0.828125/ time: 7.984557867050171\n",
      "batch: 298/ accurracy 0.875/ time: 10.048524141311646\n",
      "batch: 299/ accurracy 0.859375/ time: 6.914371013641357\n",
      "batch: 300/ accurracy 0.78125/ time: 10.227967977523804\n",
      "batch: 301/ accurracy 0.859375/ time: 6.444202423095703\n",
      "batch: 302/ accurracy 0.6875/ time: 10.007400751113892\n",
      "batch: 303/ accurracy 0.875/ time: 11.116842269897461\n",
      "batch: 304/ accurracy 0.90625/ time: 9.870339393615723\n",
      "batch: 305/ accurracy 0.875/ time: 7.977205753326416\n",
      "batch: 306/ accurracy 0.875/ time: 6.024158954620361\n",
      "batch: 307/ accurracy 0.921875/ time: 10.441714763641357\n",
      "batch: 308/ accurracy 0.859375/ time: 10.780190229415894\n",
      "batch: 309/ accurracy 0.828125/ time: 7.518211841583252\n",
      "batch: 310/ accurracy 0.875/ time: 10.107973337173462\n",
      "batch: 311/ accurracy 0.890625/ time: 8.114312171936035\n",
      "batch: 312/ accurracy 0.875/ time: 10.40477705001831\n",
      "batch: 313/ accurracy 0.8125/ time: 10.709822177886963\n",
      "batch: 314/ accurracy 0.921875/ time: 7.550193786621094\n",
      "batch: 315/ accurracy 0.875/ time: 10.828203439712524\n",
      "batch: 316/ accurracy 0.921875/ time: 5.8190741539001465\n",
      "batch: 317/ accurracy 0.921875/ time: 11.089527606964111\n",
      "batch: 318/ accurracy 0.84375/ time: 14.400525093078613\n",
      "batch: 319/ accurracy 0.9375/ time: 5.761956214904785\n",
      "batch: 320/ accurracy 0.90625/ time: 9.628500938415527\n",
      "batch: 321/ accurracy 0.90625/ time: 6.73998498916626\n",
      "batch: 322/ accurracy 0.75/ time: 9.296592712402344\n",
      "batch: 323/ accurracy 0.875/ time: 10.010437965393066\n",
      "batch: 324/ accurracy 0.859375/ time: 10.225897550582886\n",
      "batch: 325/ accurracy 0.8125/ time: 10.633901357650757\n",
      "batch: 326/ accurracy 0.921875/ time: 9.851943492889404\n",
      "batch: 327/ accurracy 0.90625/ time: 11.522537469863892\n",
      "batch: 328/ accurracy 0.921875/ time: 10.851887464523315\n",
      "batch: 329/ accurracy 0.875/ time: 10.321894645690918\n",
      "batch: 330/ accurracy 0.90625/ time: 9.220200061798096\n",
      "batch: 331/ accurracy 0.90625/ time: 10.259115219116211\n",
      "batch: 332/ accurracy 0.84375/ time: 10.91578483581543\n",
      "batch: 333/ accurracy 0.84375/ time: 9.757988452911377\n",
      "batch: 334/ accurracy 0.84375/ time: 10.357277154922485\n",
      "batch: 335/ accurracy 0.84375/ time: 7.579016208648682\n",
      "batch: 336/ accurracy 0.921875/ time: 10.809931755065918\n",
      "batch: 337/ accurracy 0.765625/ time: 11.183359146118164\n",
      "batch: 338/ accurracy 0.859375/ time: 10.775300025939941\n",
      "batch: 339/ accurracy 0.828125/ time: 7.182620048522949\n",
      "batch: 340/ accurracy 0.859375/ time: 9.033127307891846\n",
      "batch: 341/ accurracy 0.828125/ time: 8.840680599212646\n",
      "batch: 342/ accurracy 0.859375/ time: 10.099092721939087\n",
      "batch: 343/ accurracy 0.8125/ time: 4.91662335395813\n",
      "batch: 344/ accurracy 0.84375/ time: 7.868746519088745\n",
      "batch: 345/ accurracy 0.890625/ time: 5.927951097488403\n",
      "batch: 346/ accurracy 0.828125/ time: 12.386627912521362\n",
      "batch: 347/ accurracy 0.921875/ time: 8.21068024635315\n",
      "batch: 348/ accurracy 0.78125/ time: 9.850877046585083\n",
      "batch: 349/ accurracy 0.90625/ time: 15.827219247817993\n",
      "batch: 350/ accurracy 0.859375/ time: 10.749079942703247\n",
      "batch: 351/ accurracy 0.828125/ time: 10.502580642700195\n",
      "batch: 352/ accurracy 0.859375/ time: 9.306829690933228\n",
      "batch: 353/ accurracy 0.8125/ time: 8.693730115890503\n",
      "batch: 354/ accurracy 0.921875/ time: 10.453924655914307\n",
      "batch: 355/ accurracy 0.859375/ time: 13.784538984298706\n",
      "batch: 356/ accurracy 0.859375/ time: 8.246941566467285\n",
      "batch: 357/ accurracy 0.90625/ time: 8.405799150466919\n",
      "batch: 358/ accurracy 0.890625/ time: 10.453878164291382\n",
      "batch: 359/ accurracy 0.90625/ time: 9.339016437530518\n",
      "batch: 360/ accurracy 0.859375/ time: 7.464017868041992\n",
      "batch: 361/ accurracy 0.859375/ time: 16.50761389732361\n",
      "batch: 362/ accurracy 0.875/ time: 5.583370208740234\n",
      "batch: 363/ accurracy 0.859375/ time: 10.921488046646118\n",
      "batch: 364/ accurracy 0.890625/ time: 8.880815505981445\n",
      "batch: 365/ accurracy 0.828125/ time: 9.656247854232788\n",
      "batch: 366/ accurracy 0.890625/ time: 5.556522607803345\n",
      "batch: 367/ accurracy 0.890625/ time: 5.903222560882568\n",
      "batch: 368/ accurracy 0.953125/ time: 11.77012300491333\n",
      "batch: 369/ accurracy 0.890625/ time: 11.924861907958984\n",
      "batch: 370/ accurracy 0.84375/ time: 6.242722988128662\n",
      "batch: 371/ accurracy 0.828125/ time: 6.279994487762451\n",
      "batch: 372/ accurracy 0.875/ time: 9.319815874099731\n",
      "batch: 373/ accurracy 0.828125/ time: 7.64241361618042\n",
      "batch: 374/ accurracy 0.875/ time: 4.589683532714844\n",
      "batch: 375/ accurracy 0.8125/ time: 7.863329887390137\n",
      "batch: 376/ accurracy 0.9375/ time: 7.3699235916137695\n",
      "batch: 377/ accurracy 0.890625/ time: 6.537959337234497\n",
      "batch: 378/ accurracy 0.859375/ time: 6.661984920501709\n",
      "batch: 379/ accurracy 0.890625/ time: 7.607844829559326\n",
      "batch: 380/ accurracy 0.875/ time: 7.3471760749816895\n",
      "batch: 381/ accurracy 0.90625/ time: 6.952654838562012\n",
      "batch: 382/ accurracy 0.890625/ time: 7.018133163452148\n",
      "batch: 383/ accurracy 0.859375/ time: 7.490959405899048\n",
      "batch: 384/ accurracy 0.875/ time: 7.344183921813965\n",
      "batch: 385/ accurracy 0.859375/ time: 7.707510471343994\n",
      "batch: 386/ accurracy 0.859375/ time: 7.735415697097778\n",
      "batch: 387/ accurracy 0.890625/ time: 6.865310192108154\n",
      "batch: 388/ accurracy 0.890625/ time: 7.096792936325073\n",
      "batch: 389/ accurracy 0.84375/ time: 6.407010793685913\n",
      "batch: 390/ accurracy 0.796875/ time: 7.424387454986572\n",
      "batch: 391/ accurracy 0.890625/ time: 8.643106937408447\n",
      "tiempo entrenamiento epoca: 3741.636075735092/ accurracy: 0.7836077213287354\n",
      "epoca 2\n",
      "batch: 1/ accurracy 0.90625/ time: 7.811072587966919\n",
      "batch: 2/ accurracy 0.90625/ time: 6.867568016052246\n",
      "batch: 3/ accurracy 0.921875/ time: 7.298277854919434\n",
      "batch: 4/ accurracy 0.875/ time: 7.499837398529053\n",
      "batch: 5/ accurracy 0.9375/ time: 9.063344955444336\n",
      "batch: 6/ accurracy 0.921875/ time: 7.0058770179748535\n",
      "batch: 7/ accurracy 0.921875/ time: 6.923965692520142\n",
      "batch: 8/ accurracy 0.921875/ time: 7.2175657749176025\n",
      "batch: 9/ accurracy 0.96875/ time: 7.533421039581299\n",
      "batch: 10/ accurracy 0.859375/ time: 7.9517481327056885\n",
      "batch: 11/ accurracy 0.90625/ time: 6.324055910110474\n",
      "batch: 12/ accurracy 0.90625/ time: 6.059373378753662\n",
      "batch: 13/ accurracy 0.859375/ time: 7.6873250007629395\n",
      "batch: 14/ accurracy 0.96875/ time: 7.473234176635742\n",
      "batch: 15/ accurracy 0.890625/ time: 7.455384731292725\n",
      "batch: 16/ accurracy 0.921875/ time: 7.926582098007202\n",
      "batch: 17/ accurracy 0.90625/ time: 6.5159008502960205\n",
      "batch: 18/ accurracy 0.921875/ time: 7.891786575317383\n",
      "batch: 19/ accurracy 0.859375/ time: 11.850177764892578\n",
      "batch: 20/ accurracy 0.90625/ time: 8.11493730545044\n",
      "batch: 21/ accurracy 0.90625/ time: 6.68852424621582\n",
      "batch: 22/ accurracy 0.9375/ time: 10.212660312652588\n",
      "batch: 23/ accurracy 0.84375/ time: 8.170974969863892\n",
      "batch: 24/ accurracy 0.890625/ time: 7.1118621826171875\n",
      "batch: 25/ accurracy 0.953125/ time: 8.346949577331543\n",
      "batch: 26/ accurracy 0.890625/ time: 8.37307071685791\n",
      "batch: 27/ accurracy 0.953125/ time: 9.949329137802124\n",
      "batch: 28/ accurracy 0.9375/ time: 7.560312509536743\n",
      "batch: 29/ accurracy 0.90625/ time: 8.857131481170654\n",
      "batch: 30/ accurracy 0.890625/ time: 8.783272981643677\n",
      "batch: 31/ accurracy 0.890625/ time: 7.651195526123047\n",
      "batch: 32/ accurracy 0.859375/ time: 6.443241119384766\n",
      "batch: 33/ accurracy 0.890625/ time: 8.454657554626465\n",
      "batch: 34/ accurracy 0.90625/ time: 10.079281330108643\n",
      "batch: 35/ accurracy 0.921875/ time: 8.754886388778687\n",
      "batch: 36/ accurracy 0.90625/ time: 7.967715501785278\n",
      "batch: 37/ accurracy 0.921875/ time: 4.443662881851196\n",
      "batch: 38/ accurracy 0.9375/ time: 7.456404685974121\n",
      "batch: 39/ accurracy 0.890625/ time: 8.881545066833496\n",
      "batch: 40/ accurracy 0.890625/ time: 9.091805458068848\n",
      "batch: 41/ accurracy 0.90625/ time: 7.94488000869751\n",
      "batch: 42/ accurracy 0.921875/ time: 8.211541652679443\n",
      "batch: 43/ accurracy 0.890625/ time: 8.913933753967285\n",
      "batch: 44/ accurracy 0.921875/ time: 9.15788745880127\n",
      "batch: 45/ accurracy 0.921875/ time: 8.370814561843872\n",
      "batch: 46/ accurracy 0.96875/ time: 7.6696460247039795\n",
      "batch: 47/ accurracy 0.953125/ time: 7.784987449645996\n",
      "batch: 48/ accurracy 0.9375/ time: 7.761760711669922\n",
      "batch: 49/ accurracy 0.96875/ time: 8.807834386825562\n",
      "batch: 50/ accurracy 0.921875/ time: 8.165125608444214\n",
      "batch: 51/ accurracy 0.90625/ time: 7.343510389328003\n",
      "batch: 52/ accurracy 0.953125/ time: 8.825312852859497\n",
      "batch: 53/ accurracy 0.921875/ time: 8.508451223373413\n",
      "batch: 54/ accurracy 0.921875/ time: 8.068055868148804\n",
      "batch: 55/ accurracy 0.953125/ time: 8.779511451721191\n",
      "batch: 56/ accurracy 0.9375/ time: 6.776589870452881\n",
      "batch: 57/ accurracy 0.890625/ time: 9.995517492294312\n",
      "batch: 58/ accurracy 0.96875/ time: 8.448549032211304\n",
      "batch: 59/ accurracy 0.984375/ time: 9.44373893737793\n",
      "batch: 60/ accurracy 0.9375/ time: 9.195296049118042\n",
      "batch: 61/ accurracy 0.96875/ time: 8.535888910293579\n",
      "batch: 62/ accurracy 0.96875/ time: 19.227267026901245\n",
      "batch: 63/ accurracy 0.953125/ time: 9.198894262313843\n",
      "batch: 64/ accurracy 0.9375/ time: 9.435080528259277\n",
      "batch: 65/ accurracy 0.90625/ time: 7.8808510303497314\n",
      "batch: 66/ accurracy 0.9375/ time: 9.962218999862671\n",
      "batch: 67/ accurracy 0.859375/ time: 10.219477653503418\n",
      "batch: 68/ accurracy 0.9375/ time: 9.708205699920654\n",
      "batch: 69/ accurracy 0.921875/ time: 10.497821807861328\n",
      "batch: 70/ accurracy 0.953125/ time: 11.057675123214722\n",
      "batch: 71/ accurracy 0.890625/ time: 10.901100873947144\n",
      "batch: 72/ accurracy 0.953125/ time: 11.221211671829224\n",
      "batch: 73/ accurracy 0.890625/ time: 11.249132871627808\n",
      "batch: 74/ accurracy 0.9375/ time: 10.328647375106812\n",
      "batch: 75/ accurracy 0.921875/ time: 7.0800392627716064\n",
      "batch: 76/ accurracy 0.921875/ time: 11.956915378570557\n",
      "batch: 77/ accurracy 0.921875/ time: 12.606694459915161\n",
      "batch: 78/ accurracy 0.921875/ time: 12.276599168777466\n",
      "batch: 79/ accurracy 0.921875/ time: 12.681015491485596\n",
      "batch: 80/ accurracy 0.875/ time: 8.616730213165283\n",
      "batch: 81/ accurracy 0.9375/ time: 10.602967739105225\n",
      "batch: 82/ accurracy 0.953125/ time: 5.678076982498169\n",
      "batch: 83/ accurracy 0.921875/ time: 13.733279705047607\n",
      "batch: 84/ accurracy 0.953125/ time: 4.627660036087036\n",
      "batch: 85/ accurracy 0.921875/ time: 10.750071287155151\n",
      "batch: 86/ accurracy 0.9375/ time: 9.476316213607788\n",
      "batch: 87/ accurracy 0.921875/ time: 6.087974786758423\n",
      "batch: 88/ accurracy 0.9375/ time: 13.149119853973389\n",
      "batch: 89/ accurracy 0.921875/ time: 4.952285289764404\n",
      "batch: 90/ accurracy 0.9375/ time: 6.288254737854004\n",
      "batch: 91/ accurracy 0.921875/ time: 8.293982028961182\n",
      "batch: 92/ accurracy 0.921875/ time: 12.480504751205444\n",
      "batch: 93/ accurracy 0.859375/ time: 14.231316328048706\n",
      "batch: 94/ accurracy 0.921875/ time: 11.526450872421265\n",
      "batch: 95/ accurracy 0.96875/ time: 11.338176727294922\n",
      "batch: 96/ accurracy 0.9375/ time: 11.5475172996521\n",
      "batch: 97/ accurracy 0.921875/ time: 7.6363232135772705\n",
      "batch: 98/ accurracy 0.90625/ time: 7.6241559982299805\n",
      "batch: 99/ accurracy 0.921875/ time: 10.418068647384644\n",
      "batch: 100/ accurracy 0.875/ time: 22.27510952949524\n",
      "batch: 101/ accurracy 0.875/ time: 12.06092119216919\n",
      "batch: 102/ accurracy 0.90625/ time: 11.936815023422241\n",
      "batch: 103/ accurracy 0.953125/ time: 14.474108934402466\n",
      "batch: 104/ accurracy 0.875/ time: 11.22744345664978\n",
      "batch: 105/ accurracy 0.921875/ time: 7.805943012237549\n",
      "batch: 106/ accurracy 0.921875/ time: 10.545042753219604\n",
      "batch: 107/ accurracy 0.953125/ time: 10.05171275138855\n",
      "batch: 108/ accurracy 0.90625/ time: 18.348543405532837\n",
      "batch: 109/ accurracy 0.921875/ time: 12.841376304626465\n",
      "batch: 110/ accurracy 0.875/ time: 13.557674169540405\n",
      "batch: 111/ accurracy 0.96875/ time: 10.28406023979187\n",
      "batch: 112/ accurracy 0.90625/ time: 8.305738925933838\n",
      "batch: 113/ accurracy 0.953125/ time: 8.612364768981934\n",
      "batch: 114/ accurracy 0.96875/ time: 11.932239294052124\n",
      "batch: 115/ accurracy 0.875/ time: 11.85224199295044\n",
      "batch: 116/ accurracy 0.890625/ time: 14.116778373718262\n",
      "batch: 117/ accurracy 0.890625/ time: 10.020512104034424\n",
      "batch: 118/ accurracy 0.953125/ time: 9.214184761047363\n",
      "batch: 119/ accurracy 0.890625/ time: 7.914369583129883\n",
      "batch: 120/ accurracy 0.953125/ time: 11.79070234298706\n",
      "batch: 121/ accurracy 0.953125/ time: 8.355611324310303\n",
      "batch: 122/ accurracy 0.90625/ time: 11.351324558258057\n",
      "batch: 123/ accurracy 0.921875/ time: 13.354967832565308\n",
      "batch: 124/ accurracy 0.9375/ time: 13.474687337875366\n",
      "batch: 125/ accurracy 0.984375/ time: 13.862691879272461\n",
      "batch: 126/ accurracy 0.953125/ time: 14.671228647232056\n",
      "batch: 127/ accurracy 0.96875/ time: 10.793404340744019\n",
      "batch: 128/ accurracy 0.859375/ time: 9.16564393043518\n",
      "batch: 129/ accurracy 0.9375/ time: 11.958049058914185\n",
      "batch: 130/ accurracy 0.984375/ time: 13.637742042541504\n",
      "batch: 131/ accurracy 0.984375/ time: 13.98076868057251\n",
      "batch: 132/ accurracy 0.9375/ time: 12.547053813934326\n",
      "batch: 133/ accurracy 0.90625/ time: 9.11362075805664\n",
      "batch: 134/ accurracy 0.890625/ time: 11.553503513336182\n",
      "batch: 135/ accurracy 0.9375/ time: 11.821656465530396\n",
      "batch: 136/ accurracy 0.953125/ time: 6.905460357666016\n",
      "batch: 137/ accurracy 0.953125/ time: 12.059568166732788\n",
      "batch: 138/ accurracy 0.9375/ time: 8.681504726409912\n",
      "batch: 139/ accurracy 0.890625/ time: 12.77247667312622\n",
      "batch: 140/ accurracy 0.953125/ time: 12.449586153030396\n",
      "batch: 141/ accurracy 0.875/ time: 14.866590976715088\n",
      "batch: 142/ accurracy 0.90625/ time: 14.623585939407349\n",
      "batch: 143/ accurracy 0.96875/ time: 9.560410022735596\n",
      "batch: 144/ accurracy 0.875/ time: 14.361244916915894\n",
      "batch: 145/ accurracy 0.921875/ time: 13.790627002716064\n",
      "batch: 146/ accurracy 0.9375/ time: 9.711353778839111\n",
      "batch: 147/ accurracy 0.953125/ time: 14.198482990264893\n",
      "batch: 148/ accurracy 0.9375/ time: 4.224001407623291\n",
      "batch: 149/ accurracy 0.9375/ time: 16.41828680038452\n",
      "batch: 150/ accurracy 0.9375/ time: 14.364824295043945\n",
      "batch: 151/ accurracy 0.875/ time: 12.867406129837036\n",
      "batch: 152/ accurracy 0.921875/ time: 10.061190128326416\n",
      "batch: 153/ accurracy 0.875/ time: 11.508602857589722\n",
      "batch: 154/ accurracy 0.9375/ time: 15.075565814971924\n",
      "batch: 155/ accurracy 0.953125/ time: 14.571531772613525\n",
      "batch: 156/ accurracy 0.96875/ time: 14.16562032699585\n",
      "batch: 157/ accurracy 0.921875/ time: 11.187262773513794\n",
      "batch: 158/ accurracy 0.953125/ time: 15.618728637695312\n",
      "batch: 159/ accurracy 0.90625/ time: 16.208658695220947\n",
      "batch: 160/ accurracy 0.953125/ time: 13.70321798324585\n",
      "batch: 161/ accurracy 0.90625/ time: 10.194621801376343\n",
      "batch: 162/ accurracy 0.875/ time: 8.959373474121094\n",
      "batch: 163/ accurracy 0.90625/ time: 17.414186716079712\n",
      "batch: 164/ accurracy 0.921875/ time: 6.5822670459747314\n",
      "batch: 165/ accurracy 0.90625/ time: 14.928922891616821\n",
      "batch: 166/ accurracy 0.90625/ time: 29.67233920097351\n",
      "batch: 167/ accurracy 0.875/ time: 3.9137415885925293\n",
      "batch: 168/ accurracy 0.921875/ time: 12.394872665405273\n",
      "batch: 169/ accurracy 0.921875/ time: 6.970449209213257\n",
      "batch: 170/ accurracy 0.9375/ time: 3.5121448040008545\n",
      "batch: 171/ accurracy 0.890625/ time: 4.589351654052734\n",
      "batch: 172/ accurracy 0.890625/ time: 4.602208614349365\n",
      "batch: 173/ accurracy 0.953125/ time: 5.133141756057739\n",
      "batch: 174/ accurracy 0.828125/ time: 4.205736398696899\n",
      "batch: 175/ accurracy 0.96875/ time: 3.8549859523773193\n",
      "batch: 176/ accurracy 0.90625/ time: 3.652982234954834\n",
      "batch: 177/ accurracy 0.96875/ time: 3.7851457595825195\n",
      "batch: 178/ accurracy 0.9375/ time: 4.849227428436279\n",
      "batch: 179/ accurracy 0.90625/ time: 4.872190713882446\n",
      "batch: 180/ accurracy 0.90625/ time: 6.103062629699707\n",
      "batch: 181/ accurracy 0.921875/ time: 3.6848065853118896\n",
      "batch: 182/ accurracy 0.921875/ time: 3.625997304916382\n",
      "batch: 183/ accurracy 0.9375/ time: 4.649349689483643\n",
      "batch: 184/ accurracy 0.890625/ time: 6.074147462844849\n",
      "batch: 185/ accurracy 0.921875/ time: 4.175872802734375\n",
      "batch: 186/ accurracy 0.9375/ time: 3.5919792652130127\n",
      "batch: 187/ accurracy 0.9375/ time: 4.0126261711120605\n",
      "batch: 188/ accurracy 0.890625/ time: 4.370131731033325\n",
      "batch: 189/ accurracy 0.84375/ time: 4.298954963684082\n",
      "batch: 190/ accurracy 0.890625/ time: 4.247994661331177\n",
      "batch: 191/ accurracy 0.90625/ time: 3.7836766242980957\n",
      "batch: 192/ accurracy 0.890625/ time: 3.887540578842163\n",
      "batch: 193/ accurracy 0.9375/ time: 4.7186479568481445\n",
      "batch: 194/ accurracy 0.890625/ time: 4.261881351470947\n",
      "batch: 195/ accurracy 0.96875/ time: 5.235023021697998\n",
      "batch: 196/ accurracy 0.921875/ time: 4.6252946853637695\n",
      "batch: 197/ accurracy 0.921875/ time: 3.5117056369781494\n",
      "batch: 198/ accurracy 0.890625/ time: 4.847932577133179\n",
      "batch: 199/ accurracy 0.9375/ time: 4.088542699813843\n",
      "batch: 200/ accurracy 0.953125/ time: 4.84529185295105\n",
      "batch: 201/ accurracy 0.875/ time: 6.034849405288696\n",
      "batch: 202/ accurracy 0.84375/ time: 5.498169660568237\n",
      "batch: 203/ accurracy 0.96875/ time: 5.894866228103638\n",
      "batch: 204/ accurracy 0.890625/ time: 6.513359785079956\n",
      "batch: 205/ accurracy 0.953125/ time: 4.755067825317383\n",
      "batch: 206/ accurracy 0.921875/ time: 5.010673761367798\n",
      "batch: 207/ accurracy 0.921875/ time: 5.87536096572876\n",
      "batch: 208/ accurracy 0.9375/ time: 4.578163146972656\n",
      "batch: 209/ accurracy 0.9375/ time: 6.409034490585327\n",
      "batch: 210/ accurracy 0.9375/ time: 4.384207487106323\n",
      "batch: 211/ accurracy 0.890625/ time: 3.905567169189453\n",
      "batch: 212/ accurracy 0.953125/ time: 4.363096475601196\n",
      "batch: 213/ accurracy 0.875/ time: 3.733375310897827\n",
      "batch: 214/ accurracy 0.96875/ time: 4.4906628131866455\n",
      "batch: 215/ accurracy 0.984375/ time: 6.915347337722778\n",
      "batch: 216/ accurracy 0.953125/ time: 4.2370359897613525\n",
      "batch: 217/ accurracy 0.90625/ time: 7.15234899520874\n",
      "batch: 218/ accurracy 0.953125/ time: 3.9875636100769043\n",
      "batch: 219/ accurracy 0.953125/ time: 11.75609278678894\n",
      "batch: 220/ accurracy 0.96875/ time: 9.02592396736145\n",
      "batch: 221/ accurracy 0.96875/ time: 4.317507743835449\n",
      "batch: 222/ accurracy 0.90625/ time: 3.8967323303222656\n",
      "batch: 223/ accurracy 0.96875/ time: 4.89126992225647\n",
      "batch: 224/ accurracy 0.90625/ time: 9.38770842552185\n",
      "batch: 225/ accurracy 0.921875/ time: 4.367084741592407\n",
      "batch: 226/ accurracy 0.875/ time: 4.131865739822388\n",
      "batch: 227/ accurracy 0.9375/ time: 4.536561489105225\n",
      "batch: 228/ accurracy 0.96875/ time: 6.081392288208008\n",
      "batch: 229/ accurracy 0.953125/ time: 4.143725633621216\n",
      "batch: 230/ accurracy 0.890625/ time: 6.192546844482422\n",
      "batch: 231/ accurracy 0.953125/ time: 4.4546730518341064\n",
      "batch: 232/ accurracy 0.9375/ time: 4.171491384506226\n",
      "batch: 233/ accurracy 0.9375/ time: 5.274786710739136\n",
      "batch: 234/ accurracy 0.921875/ time: 4.606663942337036\n",
      "batch: 235/ accurracy 0.890625/ time: 4.771142244338989\n",
      "batch: 236/ accurracy 0.875/ time: 5.0230712890625\n",
      "batch: 237/ accurracy 0.90625/ time: 4.818363666534424\n",
      "batch: 238/ accurracy 0.9375/ time: 4.684032440185547\n",
      "batch: 239/ accurracy 0.984375/ time: 4.791598796844482\n",
      "batch: 240/ accurracy 0.9375/ time: 5.8346638679504395\n",
      "batch: 241/ accurracy 0.875/ time: 3.9269402027130127\n",
      "batch: 242/ accurracy 0.890625/ time: 4.469049692153931\n",
      "batch: 243/ accurracy 0.9375/ time: 4.341669082641602\n",
      "batch: 244/ accurracy 0.875/ time: 5.512527704238892\n",
      "batch: 245/ accurracy 0.96875/ time: 5.345372915267944\n",
      "batch: 246/ accurracy 0.890625/ time: 6.7768940925598145\n",
      "batch: 247/ accurracy 0.890625/ time: 4.782426595687866\n",
      "batch: 248/ accurracy 0.859375/ time: 4.150052785873413\n",
      "batch: 249/ accurracy 0.90625/ time: 7.113887786865234\n",
      "batch: 250/ accurracy 0.890625/ time: 11.311208009719849\n",
      "batch: 251/ accurracy 0.859375/ time: 6.836411952972412\n",
      "batch: 252/ accurracy 0.953125/ time: 4.925672292709351\n",
      "batch: 253/ accurracy 0.875/ time: 8.257213830947876\n",
      "batch: 254/ accurracy 0.953125/ time: 10.372886657714844\n",
      "batch: 255/ accurracy 0.90625/ time: 5.1980180740356445\n",
      "batch: 256/ accurracy 0.953125/ time: 6.73417854309082\n",
      "batch: 257/ accurracy 0.9375/ time: 20.314451456069946\n",
      "batch: 258/ accurracy 0.96875/ time: 10.687787771224976\n",
      "batch: 259/ accurracy 0.90625/ time: 7.26731276512146\n",
      "batch: 260/ accurracy 0.90625/ time: 10.895184516906738\n",
      "batch: 261/ accurracy 0.90625/ time: 8.902642488479614\n",
      "batch: 262/ accurracy 0.921875/ time: 5.9980409145355225\n",
      "batch: 263/ accurracy 0.921875/ time: 8.233871459960938\n",
      "batch: 264/ accurracy 0.875/ time: 6.086806297302246\n",
      "batch: 265/ accurracy 0.890625/ time: 5.083656311035156\n",
      "batch: 266/ accurracy 0.9375/ time: 4.201157093048096\n",
      "batch: 267/ accurracy 0.96875/ time: 5.6424713134765625\n",
      "batch: 268/ accurracy 0.96875/ time: 8.212719678878784\n",
      "batch: 269/ accurracy 0.953125/ time: 17.204928398132324\n",
      "batch: 270/ accurracy 0.84375/ time: 10.960801601409912\n",
      "batch: 271/ accurracy 0.890625/ time: 9.349701404571533\n",
      "batch: 272/ accurracy 0.953125/ time: 3.4420006275177\n",
      "batch: 273/ accurracy 0.9375/ time: 6.5630943775177\n",
      "batch: 274/ accurracy 0.921875/ time: 3.9416346549987793\n",
      "batch: 275/ accurracy 0.9375/ time: 4.815959692001343\n",
      "batch: 276/ accurracy 0.953125/ time: 12.274682521820068\n",
      "batch: 277/ accurracy 0.9375/ time: 4.613412141799927\n",
      "batch: 278/ accurracy 0.90625/ time: 5.077220678329468\n",
      "batch: 279/ accurracy 0.921875/ time: 5.926061153411865\n",
      "batch: 280/ accurracy 0.875/ time: 8.724904298782349\n",
      "batch: 281/ accurracy 0.890625/ time: 3.4002838134765625\n",
      "batch: 282/ accurracy 0.859375/ time: 6.385641098022461\n",
      "batch: 283/ accurracy 0.90625/ time: 9.299836158752441\n",
      "batch: 284/ accurracy 0.890625/ time: 3.7783920764923096\n",
      "batch: 285/ accurracy 0.890625/ time: 5.714293956756592\n",
      "batch: 286/ accurracy 0.953125/ time: 7.721823215484619\n",
      "batch: 287/ accurracy 0.8125/ time: 3.1045920848846436\n",
      "batch: 288/ accurracy 0.953125/ time: 10.294232606887817\n",
      "batch: 289/ accurracy 0.859375/ time: 5.640896558761597\n",
      "batch: 290/ accurracy 0.890625/ time: 13.71570634841919\n",
      "batch: 291/ accurracy 0.890625/ time: 8.680440664291382\n",
      "batch: 292/ accurracy 0.921875/ time: 9.49765396118164\n",
      "batch: 293/ accurracy 0.859375/ time: 4.319775581359863\n",
      "batch: 294/ accurracy 0.953125/ time: 3.529546022415161\n",
      "batch: 295/ accurracy 0.890625/ time: 8.098301649093628\n",
      "batch: 296/ accurracy 0.953125/ time: 4.608067989349365\n",
      "batch: 297/ accurracy 0.828125/ time: 6.319864749908447\n",
      "batch: 298/ accurracy 0.921875/ time: 6.029527425765991\n",
      "batch: 299/ accurracy 0.859375/ time: 11.156442642211914\n",
      "batch: 300/ accurracy 0.90625/ time: 6.1493449211120605\n",
      "batch: 301/ accurracy 0.921875/ time: 8.584869384765625\n",
      "batch: 302/ accurracy 0.921875/ time: 15.724544525146484\n",
      "batch: 303/ accurracy 0.9375/ time: 13.41226053237915\n",
      "batch: 304/ accurracy 0.921875/ time: 9.658569574356079\n",
      "batch: 305/ accurracy 0.9375/ time: 9.826128721237183\n",
      "batch: 306/ accurracy 0.921875/ time: 10.477703094482422\n",
      "batch: 307/ accurracy 0.890625/ time: 6.544842958450317\n",
      "batch: 308/ accurracy 0.890625/ time: 10.996387243270874\n",
      "batch: 309/ accurracy 0.9375/ time: 9.567362546920776\n",
      "batch: 310/ accurracy 0.8999999761581421/ time: 4.689837694168091\n",
      "batch: 311/ accurracy 0.859375/ time: 11.534358024597168\n",
      "batch: 312/ accurracy 0.953125/ time: 9.446216583251953\n",
      "batch: 313/ accurracy 0.875/ time: 8.49307894706726\n",
      "batch: 314/ accurracy 0.90625/ time: 7.83316707611084\n",
      "batch: 315/ accurracy 0.9375/ time: 10.69705057144165\n",
      "batch: 316/ accurracy 0.90625/ time: 6.68385648727417\n",
      "batch: 317/ accurracy 0.890625/ time: 10.499109268188477\n",
      "batch: 318/ accurracy 0.921875/ time: 9.618844985961914\n",
      "batch: 319/ accurracy 0.984375/ time: 9.17670726776123\n",
      "batch: 320/ accurracy 0.90625/ time: 10.180545330047607\n",
      "batch: 321/ accurracy 0.921875/ time: 11.69162368774414\n",
      "batch: 322/ accurracy 0.984375/ time: 10.328399896621704\n",
      "batch: 323/ accurracy 0.890625/ time: 8.999719381332397\n",
      "batch: 324/ accurracy 0.90625/ time: 8.202510118484497\n",
      "batch: 325/ accurracy 0.9375/ time: 10.183335781097412\n",
      "batch: 326/ accurracy 0.90625/ time: 9.64983057975769\n",
      "batch: 327/ accurracy 0.859375/ time: 8.456116676330566\n",
      "batch: 328/ accurracy 0.921875/ time: 8.921800136566162\n",
      "batch: 329/ accurracy 1.0/ time: 10.64417052268982\n",
      "batch: 330/ accurracy 0.875/ time: 7.440823554992676\n",
      "batch: 331/ accurracy 0.9375/ time: 9.758915901184082\n",
      "batch: 332/ accurracy 0.9375/ time: 10.96461272239685\n",
      "batch: 333/ accurracy 0.96875/ time: 8.266411066055298\n",
      "batch: 334/ accurracy 0.953125/ time: 12.280261278152466\n",
      "batch: 335/ accurracy 0.921875/ time: 7.547180652618408\n",
      "batch: 336/ accurracy 0.921875/ time: 13.247698783874512\n",
      "batch: 337/ accurracy 0.921875/ time: 8.053560972213745\n",
      "batch: 338/ accurracy 0.84375/ time: 8.936611890792847\n",
      "batch: 339/ accurracy 0.9375/ time: 6.909266710281372\n",
      "batch: 340/ accurracy 0.953125/ time: 10.636338233947754\n",
      "batch: 341/ accurracy 0.9375/ time: 9.368782997131348\n",
      "batch: 342/ accurracy 0.9375/ time: 10.24625563621521\n",
      "batch: 343/ accurracy 0.9375/ time: 8.873324155807495\n",
      "batch: 344/ accurracy 0.96875/ time: 9.410848379135132\n",
      "batch: 345/ accurracy 0.953125/ time: 10.24693250656128\n",
      "batch: 346/ accurracy 0.953125/ time: 12.70320987701416\n",
      "batch: 347/ accurracy 0.953125/ time: 13.652061223983765\n",
      "batch: 348/ accurracy 0.921875/ time: 12.459031581878662\n",
      "batch: 349/ accurracy 0.90625/ time: 11.920169115066528\n",
      "batch: 350/ accurracy 0.921875/ time: 13.228063106536865\n",
      "batch: 351/ accurracy 0.703125/ time: 2.627985715866089\n",
      "batch: 352/ accurracy 0.90625/ time: 4.212744235992432\n",
      "batch: 353/ accurracy 0.890625/ time: 13.675265073776245\n",
      "batch: 354/ accurracy 0.875/ time: 14.371404647827148\n",
      "batch: 355/ accurracy 0.921875/ time: 9.788560628890991\n",
      "batch: 356/ accurracy 0.875/ time: 8.262285709381104\n",
      "batch: 357/ accurracy 0.90625/ time: 7.56180739402771\n",
      "batch: 358/ accurracy 0.859375/ time: 5.479861259460449\n",
      "batch: 359/ accurracy 0.90625/ time: 8.361669540405273\n",
      "batch: 360/ accurracy 0.953125/ time: 22.25535774230957\n",
      "batch: 361/ accurracy 0.953125/ time: 7.395865440368652\n",
      "batch: 362/ accurracy 0.953125/ time: 7.49263334274292\n",
      "batch: 363/ accurracy 0.9375/ time: 7.185170650482178\n",
      "batch: 364/ accurracy 0.921875/ time: 8.319147825241089\n",
      "batch: 365/ accurracy 0.90625/ time: 7.383315563201904\n",
      "batch: 366/ accurracy 0.890625/ time: 7.939016342163086\n",
      "batch: 367/ accurracy 0.96875/ time: 9.840098857879639\n",
      "batch: 368/ accurracy 0.90625/ time: 5.231781721115112\n",
      "batch: 369/ accurracy 0.921875/ time: 5.701112508773804\n",
      "batch: 370/ accurracy 0.90625/ time: 3.4369029998779297\n",
      "batch: 371/ accurracy 0.921875/ time: 5.852420806884766\n",
      "batch: 372/ accurracy 0.890625/ time: 5.840040683746338\n",
      "batch: 373/ accurracy 0.921875/ time: 5.501255035400391\n",
      "batch: 374/ accurracy 0.953125/ time: 5.197598934173584\n",
      "batch: 375/ accurracy 0.859375/ time: 5.330377101898193\n",
      "batch: 376/ accurracy 0.859375/ time: 4.624493837356567\n",
      "batch: 377/ accurracy 0.890625/ time: 5.478608846664429\n",
      "batch: 378/ accurracy 0.9375/ time: 4.415862798690796\n",
      "batch: 379/ accurracy 0.921875/ time: 4.073652982711792\n",
      "batch: 380/ accurracy 0.984375/ time: 4.873212099075317\n",
      "batch: 381/ accurracy 0.921875/ time: 5.088573932647705\n",
      "batch: 382/ accurracy 0.875/ time: 5.855748414993286\n",
      "batch: 383/ accurracy 0.96875/ time: 5.480307340621948\n",
      "batch: 384/ accurracy 0.953125/ time: 8.992104530334473\n",
      "batch: 385/ accurracy 0.90625/ time: 8.571293115615845\n",
      "batch: 386/ accurracy 0.921875/ time: 4.345297574996948\n",
      "batch: 387/ accurracy 0.953125/ time: 8.462531805038452\n",
      "batch: 388/ accurracy 0.859375/ time: 12.248539686203003\n",
      "batch: 389/ accurracy 0.953125/ time: 10.491516590118408\n",
      "batch: 390/ accurracy 0.90625/ time: 11.560188293457031\n",
      "batch: 391/ accurracy 0.875/ time: 7.548273324966431\n",
      "tiempo entrenamiento epoca: 3323.4888095855713/ accurracy: 0.9191016554832458\n"
     ]
    }
   ],
   "source": [
    "acclstm = run(modellstm, imdb_train_iterator, n_epochs = 2, verbose=True)"
   ]
  },
  {
   "cell_type": "code",
   "execution_count": 22,
   "metadata": {
    "colab": {
     "base_uri": "https://localhost:8080/",
     "height": 282
    },
    "colab_type": "code",
    "id": "xoChm21J-IUn",
    "outputId": "c4a8240d-a942-4cc4-896d-f7f30d309cef"
   },
   "outputs": [
    {
     "data": {
      "text/plain": [
       "[<matplotlib.lines.Line2D at 0x7fd216f38ef0>]"
      ]
     },
     "execution_count": 22,
     "metadata": {
      "tags": []
     },
     "output_type": "execute_result"
    },
    {
     "data": {
      "image/png": "[encoded data removed]",
      "text/plain": [
       "<Figure size 432x288 with 1 Axes>"
      ]
     },
     "metadata": {
      "needs_background": "light",
      "tags": []
     },
     "output_type": "display_data"
    }
   ],
   "source": [
    "plt.plot(acclstm)"
   ]
  },
  {
   "cell_type": "code",
   "execution_count": 33,
   "metadata": {
    "colab": {
     "base_uri": "https://localhost:8080/",
     "height": 34
    },
    "colab_type": "code",
    "id": "FT8Eb_x__fWw",
    "outputId": "84429433-ff29-4fa3-fddd-68417d6bba63"
   },
   "outputs": [
    {
     "data": {
      "text/plain": [
       "tensor(0.8583)"
      ]
     },
     "execution_count": 33,
     "metadata": {
      "tags": []
     },
     "output_type": "execute_result"
    }
   ],
   "source": [
    "eval_model(modellstm, imdb_test_iterator)"
   ]
  },
  {
   "cell_type": "markdown",
   "metadata": {
    "colab_type": "text",
    "id": "UbT22eENop5B"
   },
   "source": [
    "* Modelo de LSTM pero con tan solo 1 capa y bidireccional (se entrena con tan solo 4 epocas)"
   ]
  },
  {
   "cell_type": "code",
   "execution_count": 15,
   "metadata": {
    "colab": {
     "base_uri": "https://localhost:8080/",
     "height": 156
    },
    "colab_type": "code",
    "id": "Y97dhPyOrcGF",
    "outputId": "62707da7-a769-42c5-bff5-5959a9308ccd"
   },
   "outputs": [
    {
     "name": "stderr",
     "output_type": "stream",
     "text": [
      "/usr/local/lib/python3.6/dist-packages/torch/nn/modules/rnn.py:50: UserWarning: dropout option adds dropout after all but last recurrent layer, so non-zero dropout expects num_layers greater than 1, but got dropout=0.45 and num_layers=1\n",
      "  \"num_layers={}\".format(dropout, num_layers))\n"
     ]
    },
    {
     "data": {
      "text/plain": [
       "FULLLSTM(\n",
       "  (embedding): Embedding(35002, 100, padding_idx=1)\n",
       "  (lstm): LSTM(100, 50, dropout=0.45, bidirectional=True)\n",
       "  (linear_out): Linear(in_features=100, out_features=1, bias=True)\n",
       ")"
      ]
     },
     "execution_count": 15,
     "metadata": {
      "tags": []
     },
     "output_type": "execute_result"
    }
   ],
   "source": [
    "EMBEDDING_DIM = 100\n",
    "HIDDEN_DIM = 50\n",
    "N_LAYERS = 1\n",
    "BIDIRECTIONAL = True\n",
    "\n",
    "modellstm2 = FULLLSTM(len(TEXT.vocab), \n",
    "            HIDDEN_DIM,\n",
    "            N_LAYERS,\n",
    "            EMBEDDING_DIM, \n",
    "            BIDIRECTIONAL,\n",
    "            TEXT.vocab.stoi[TEXT.pad_token])\n",
    "modellstm2.add_pretrained_embeddings(TEXT)\n",
    "modellstm2.to(device)"
   ]
  },
  {
   "cell_type": "code",
   "execution_count": 16,
   "metadata": {
    "colab": {
     "base_uri": "https://localhost:8080/",
     "height": 153
    },
    "colab_type": "code",
    "id": "M2M8UompsPYk",
    "outputId": "774a7295-58c5-4efb-f52c-79df8ad61cc8"
   },
   "outputs": [
    {
     "name": "stdout",
     "output_type": "stream",
     "text": [
      "epoca 1\n",
      "tiempo entrenamiento epoca: 1222.0030992031097/ accurracy: 0.8194453716278076\n",
      "epoca 2\n",
      "tiempo entrenamiento epoca: 1188.3723623752594/ accurracy: 0.9333119988441467\n",
      "epoca 3\n",
      "tiempo entrenamiento epoca: 1590.0891089439392/ accurracy: 0.9682304859161377\n",
      "epoca 4\n",
      "tiempo entrenamiento epoca: 1492.7478249073029/ accurracy: 0.9809383153915405\n"
     ]
    }
   ],
   "source": [
    "acclstm2 = run(modellstm2, imdb_train_iterator, n_epochs = 4, verbose=False)"
   ]
  },
  {
   "cell_type": "code",
   "execution_count": 20,
   "metadata": {
    "colab": {
     "base_uri": "https://localhost:8080/",
     "height": 282
    },
    "colab_type": "code",
    "id": "N2SCJESOV65k",
    "outputId": "af95aab0-1d59-4b53-b1f3-10c98adb9ea8"
   },
   "outputs": [
    {
     "data": {
      "text/plain": [
       "[<matplotlib.lines.Line2D at 0x7f86c73ca128>]"
      ]
     },
     "execution_count": 20,
     "metadata": {
      "tags": []
     },
     "output_type": "execute_result"
    },
    {
     "data": {
      "image/png": "[encoded data removed]",
      "text/plain": [
       "<Figure size 432x288 with 1 Axes>"
      ]
     },
     "metadata": {
      "needs_background": "light",
      "tags": []
     },
     "output_type": "display_data"
    }
   ],
   "source": [
    "plt.plot(acclstm2)"
   ]
  },
  {
   "cell_type": "code",
   "execution_count": 21,
   "metadata": {
    "colab": {
     "base_uri": "https://localhost:8080/",
     "height": 34
    },
    "colab_type": "code",
    "id": "yezkt26rWNFq",
    "outputId": "75e12c69-f12c-47f7-9a9f-9ef3b4e3f9c9"
   },
   "outputs": [
    {
     "data": {
      "text/plain": [
       "tensor(0.8432)"
      ]
     },
     "execution_count": 21,
     "metadata": {
      "tags": []
     },
     "output_type": "execute_result"
    }
   ],
   "source": [
    "eval_model(modellstm2, imdb_test_iterator)"
   ]
  },
  {
   "cell_type": "markdown",
   "metadata": {
    "colab_type": "text",
    "id": "FEAw51Hko6q-"
   },
   "source": [
    "Finalmente luego del arduo entrenamiento, obtenemos los siguientes resultados, que son bastante mejores que los obtenidos en la Actividad 2\n",
    "\n",
    "\n",
    "\n",
    " Modelo | Tamaño Interno | Tamaño Embedding | Embedding Preentrenado | Capas RNN | Bidireccional |Acc Training | Acc Test | Epocas | Tiempo Entrenamiento\n",
    " --- | --- | --- | --- | --- | --- | --- | --- | --- | --- |\n",
    "5 | 50 | 100 | no | 2 |  si | 91% | 85% | 2 | 1.8 horas\n",
    "6 | 50 | 100 | no | 1 | si | 98% | 84% | 4 | 1.5 horas\n",
    "\n",
    "Al Revisar estos resultados, Podemos notar que obtenemos resultados considerablemente mejores con una LSTM, sin embargo, al tener mas parametros, el tiempo de entrenamiento aumenta tambien considerablemente. \n",
    "\n",
    "Cabe mencionar que el modelo 6, a pesar de tener un *accuracy* 7% mayor al modelo 5, obitene resultados levemente peores, esto podria ser una sañeal de que existe **overfitting** devido a que tiene mas epocas para sobreentrenarse.\n"
   ]
  },
  {
   "cell_type": "markdown",
   "metadata": {
    "colab_type": "text",
    "id": "riNNyqYcaE98"
   },
   "source": [
    "## Parte 2: Modelos de Secuencia a Secuencia (Seq2Seq)\n"
   ]
  },
  {
   "cell_type": "markdown",
   "metadata": {
    "colab_type": "text",
    "id": "JmkyiE3CaHEn"
   },
   "source": [
    "### SCAN Dataset Preprocessing"
   ]
  },
  {
   "cell_type": "code",
   "execution_count": 0,
   "metadata": {
    "colab": {},
    "colab_type": "code",
    "id": "-yeGGag9tp-w"
   },
   "outputs": [],
   "source": [
    "from torch.utils.data import Dataset, DataLoader\n",
    "import torch\n",
    "import itertools"
   ]
  },
  {
   "cell_type": "code",
   "execution_count": 0,
   "metadata": {
    "colab": {},
    "colab_type": "code",
    "id": "1nV14QYNuQ5_"
   },
   "outputs": [],
   "source": [
    "class SimpleScanDataset(Dataset):\n",
    "  \n",
    "  def __init__(self, txt_dir):\n",
    "    self.text_dir = txt_dir\n",
    "    self.samples = []\n",
    "    self.inVocab = {\"<Pad>\": 0 , \"<Start>\": 1, \"<UNK>\": 2}\n",
    "    self.outVocab = {\"<Pad>\": 0 , \"<Start>\": 1, \"<UNK>\": 2}\n",
    "    with open(txt_dir, mode=\"r\") as file:\n",
    "      for line in file.readlines():\n",
    "        words = line.split(\" \")\n",
    "        raw_in_commands = list(itertools.takewhile(lambda word: word != \"OUT:\", words[1:]))\n",
    "        raw_out_commands = list(itertools.dropwhile(lambda word: word!= \"OUT:\", words))\n",
    "        in_commands = [self.to_vocab(token, \"origin\") for token in raw_in_commands]\n",
    "        out_commands = [self.to_vocab(token, \"final\") for token in raw_out_commands[1:]]\n",
    "        #print(raw_out_commands[1:])\n",
    "        #print(out_commands)\n",
    "        sample = {\"IN\": in_commands, \"OUT\": out_commands }\n",
    "        self.samples.append(sample)\n",
    "  \n",
    "  def __len__(self):\n",
    "    return len(self.samples)\n",
    "\n",
    "  def to_vocab(self, word, language = \"origin\" ):\n",
    "    if language == \"origin\":\n",
    "      if word not in self.inVocab:\n",
    "        self.inVocab[word] = len(self.inVocab)  \n",
    "      return self.inVocab[word]\n",
    "    else:\n",
    "      if word not in self.outVocab:\n",
    "        self.outVocab[word] = len(self.outVocab)  \n",
    "      return self.outVocab[word]\n",
    "\n",
    "  def __getitem__(self, idx):\n",
    "    return self.samples[idx]"
   ]
  },
  {
   "cell_type": "code",
   "execution_count": 0,
   "metadata": {
    "colab": {},
    "colab_type": "code",
    "id": "9nu8WReS9aDK"
   },
   "outputs": [],
   "source": [
    "def scan_collate(batch):\n",
    "  in_commands = [item[\"IN\"] for item in batch]\n",
    "  out_commands = [item[\"OUT\"] for item in batch]\n",
    "  max_length_in = len(max(in_commands, key=lambda item: len(item)))\n",
    "  max_length_out = len(max(out_commands, key=lambda item: len(item)))\n",
    "  new_in_commands = []\n",
    "  new_out_commands = []\n",
    "  for in_command in in_commands:\n",
    "    new_in_command = in_command\n",
    "    if len(in_command) < max_length_in:\n",
    "      new_in_command += [0]*(max_length_in-len(in_command))\n",
    "    new_in_commands.append(new_in_command)  \n",
    "  for out_command in out_commands:\n",
    "    new_out_command = out_command\n",
    "    if len(out_command) < max_length_out:\n",
    "      new_out_command += [0]*(max_length_out-len(out_command))\n",
    "    new_out_commands.append(new_out_command)  \n",
    "  return {\"IN\": torch.tensor(new_in_commands), \"OUT\": torch.tensor(new_out_commands) }   "
   ]
  },
  {
   "cell_type": "code",
   "execution_count": 0,
   "metadata": {
    "colab": {},
    "colab_type": "code",
    "id": "Xz6vbvgNbsUI"
   },
   "outputs": [],
   "source": [
    "BATCH_SIZE = 32\n",
    "\n",
    "trainScanDataset = SimpleScanDataset(\"drive/My Drive/SCAN/tasks_train_simple.txt\")\n",
    "train_scan_dataloader = DataLoader(trainScanDataset, batch_size=32,\n",
    "                                   collate_fn= scan_collate, drop_last=True)\n"
   ]
  },
  {
   "cell_type": "markdown",
   "metadata": {
    "colab_type": "text",
    "id": "a8h-QiFJrfzh"
   },
   "source": [
    "### Actividad 4"
   ]
  },
  {
   "cell_type": "markdown",
   "metadata": {
    "colab_type": "text",
    "id": "t5o4wx3sr1vi"
   },
   "source": [
    "Con la ayuda del *objeto* **trainScanDataset** implmentado en la sección anterior podemos encontrar el tamaño del diccionario para el lenguaje de origen y lenguaje de destino. Cabe mencionar que para ambos vocabularios se incluyen las palabras del dataset + 2 palabras con carateres especiales (padding, star, unknown):\n",
    "\n",
    "\n",
    "\n",
    "*   Vocabulario origen : 13 (palabras en el dataset) + 3 (caracteres especiales)\n",
    "*   Elemento de la lista : 12 (palabras en el dataset) + 3 (caracteres especiales)\n",
    "\n"
   ]
  },
  {
   "cell_type": "code",
   "execution_count": 10,
   "metadata": {
    "colab": {
     "base_uri": "https://localhost:8080/",
     "height": 68
    },
    "colab_type": "code",
    "id": "c_D5cZ7nu-ON",
    "outputId": "e04474ef-6591-4045-f97d-c98aca10eecf"
   },
   "outputs": [
    {
     "name": "stdout",
     "output_type": "stream",
     "text": [
      "tamaño vocabulario origen: 16\n",
      "tamaño vocabulario de destino: 15\n",
      "cantidad de ejemplos en el set de entrenamiento: 16728\n"
     ]
    }
   ],
   "source": [
    "print(f\"tamaño vocabulario origen: {len(trainScanDataset.inVocab)}\")\n",
    "print(f\"tamaño vocabulario de destino: {len(trainScanDataset.outVocab)}\")\n",
    "print(f\"cantidad de ejemplos en el set de entrenamiento: {len(trainScanDataset)}\")"
   ]
  },
  {
   "cell_type": "markdown",
   "metadata": {
    "colab_type": "text",
    "id": "gW8gM47rs6_I"
   },
   "source": [
    "A continuacion se implmentara el encoder, el decoder y una clase que encapsula ambos modelos, luego con esta ultima clase podremos analizar la cantidad de parametros entrenables."
   ]
  },
  {
   "cell_type": "markdown",
   "metadata": {
    "colab_type": "text",
    "id": "kG46o-I4saB_"
   },
   "source": [
    "Implementación del encoder:\n",
    "* Es clave notar que el tamaño de la salida es 2 veces el tamaño de la dimensión interna, devido a que se concatenan los estados en ambas direcciones."
   ]
  },
  {
   "cell_type": "code",
   "execution_count": 0,
   "metadata": {
    "colab": {},
    "colab_type": "code",
    "id": "obf4NrxYsXog"
   },
   "outputs": [],
   "source": [
    "class EncoderModule(nn.Module): \n",
    "    \n",
    "    def __init__(self, embeddings_table, embeddings_size, hidden_size):\n",
    "        super().__init__()\n",
    "        self.embeddings_table = embeddings_table \n",
    "        self.embeddings_size = embeddings_size\n",
    "        self.hidden_size = hidden_size\n",
    "        self.lstm = nn.LSTM(input_size=embeddings_size, hidden_size=hidden_size,\n",
    "                            bidirectional=True, batch_first=True)\n",
    "\n",
    "    def forward(self, src_sentences, src_lengths):\n",
    "        # TODO: calcule embeddings usando self.embeddings_table\n",
    "        #print(\"input:\", src_sentences.shape) input = [batch_size, seq_len]\n",
    "        embeded = self.embeddings_table(src_sentences)\n",
    "\n",
    "        #print(\"embeded:\", embeded.shape) embded = [batch_size, seq_len, embeded_size]\n",
    "        # TODO: ejecute self.lstm sobre los embeddings de las oraciones\n",
    "        all_hidden_states, (last_hidden_states, last_cell_states) = self.lstm(embeded) \n",
    "        \n",
    "        last_hidden = torch.cat((last_hidden_states[-2,:,:], last_hidden_states[-1,:,:]), dim = 1) #concatenamos el resultado devido a que es bidireccional\n",
    "        last_cell = torch.cat((last_cell_states[-2,:,:], last_cell_states[-1,:,:]), dim = 1)\n",
    "        return all_hidden_states, last_hidden, last_cell\n"
   ]
  },
  {
   "cell_type": "markdown",
   "metadata": {
    "colab_type": "text",
    "id": "KK3edf0qzCq7"
   },
   "source": [
    "Implementación del decoder:"
   ]
  },
  {
   "cell_type": "code",
   "execution_count": 0,
   "metadata": {
    "colab": {},
    "colab_type": "code",
    "id": "Bzddq1gPy9lI"
   },
   "outputs": [],
   "source": [
    "class DecoderModule(nn.Module): \n",
    "    def __init__( self, embeddings_table, hidden_size, start_idx, dst_vocab_size, input_size):\n",
    "        super().__init__()\n",
    "        self.embeddings_table = embeddings_table \n",
    "        self.start_idx = torch.tensor(start_idx).to(device) \n",
    "        self.hidden_size = hidden_size\n",
    "        \n",
    "        # capa que mapee estado interno de decodificador a vocabulario de salida\n",
    "        self.W_vocab = torch.nn.Linear(hidden_size, dst_vocab_size) # TODO: completar parametros\n",
    "        \n",
    "        # decodificador recurrente \n",
    "        self.lstm_cell = torch.nn.LSTMCell(input_size=input_size, hidden_size=hidden_size) # TODO: completar parametros\n",
    "        \n",
    "    def forward( self, all_enc_hidden_states, final_enc_hidden_states, final_enc_cell_states, max_sentence_length, batch_size):\n",
    "        out = []\n",
    "        # estado oculto (h, c) inicial para decodificador \n",
    "        state = (final_enc_hidden_states, final_enc_cell_states)\n",
    "\n",
    "        # loop de decodificacion \n",
    "        y_t = self.embeddings_table(self.start_idx.repeat(batch_size))\n",
    "        for i in range(max_sentence_length):\n",
    "            state = self.lstm_cell(y_t, state)\n",
    "            h_t, c_t = state \n",
    "            P_t = self.W_vocab(h_t) # TODO: calule logits de salida usando W_vocab \n",
    "            out.append(P_t)\n",
    "            _, max_indices = P_t.max(dim=1) \n",
    "            y_t = self.embeddings_table(max_indices)\n",
    "        \n",
    "        \n",
    "        return torch.stack(out, dim=1)\n"
   ]
  },
  {
   "cell_type": "markdown",
   "metadata": {
    "colab_type": "text",
    "id": "u08-E0iO_ABG"
   },
   "source": [
    "Implementamos tambien la seq2seq que incluye al encoder y al decoder"
   ]
  },
  {
   "cell_type": "code",
   "execution_count": 0,
   "metadata": {
    "colab": {},
    "colab_type": "code",
    "id": "UV6CZOU5-AP_"
   },
   "outputs": [],
   "source": [
    "class Seq2Seq(nn.Module):\n",
    "\n",
    "    def __init__(self, hidden_size, embedding_size, org_vocab_size, dst_vocab_size, start_idx):\n",
    "      super().__init__()\n",
    "      self.start_idx = start_idx\n",
    "      self.hidden_size = hidden_size\n",
    "      self.embedding_size = embedding_size\n",
    "      self.inEmbedding = nn.Embedding(org_vocab_size, embedding_size)\n",
    "      self.encoder = EncoderModule(self.inEmbedding, self.embedding_size, self.hidden_size)\n",
    "      self.outEmbedding = nn.Embedding(dst_vocab_size, embedding_size)\n",
    "      self.decoder = DecoderModule(self.outEmbedding, self.hidden_size*2, \n",
    "                                   self.start_idx, dst_vocab_size, embedding_size)\n",
    "      \n",
    "    def forward(self, input, max_sentence_length):\n",
    "\n",
    "      batch_size, in_seq_len = input.shape\n",
    "      all_hidden_states, last_hidden_states, last_cell_states = self.encoder(input, in_seq_len)\n",
    "      #print(f\"las_hidden_states {last_hidden_states.size()} last cell {last_cell_states.shape}\")\n",
    "      out = self.decoder(all_hidden_states, last_hidden_states,\n",
    "                         last_cell_states, max_sentence_length, batch_size)\n",
    "\n",
    "      return out"
   ]
  },
  {
   "cell_type": "code",
   "execution_count": 0,
   "metadata": {
    "colab": {},
    "colab_type": "code",
    "id": "nLKt_ROgIBKH"
   },
   "outputs": [],
   "source": [
    "device = torch.device('cuda:0' if torch.cuda.is_available() else 'cpu')"
   ]
  },
  {
   "cell_type": "code",
   "execution_count": 0,
   "metadata": {
    "colab": {},
    "colab_type": "code",
    "id": "ISq9pdVAFylH"
   },
   "outputs": [],
   "source": [
    "HIDEN_SIZE = 50\n",
    "EMBEDDING_SIZE = 25\n",
    "ORG_VOCAB_SIZE = 17\n",
    "DST_VOCAB_SIZE = 16\n",
    "START_IDX = 1\n",
    "\n",
    "seq2seqModel = Seq2Seq(HIDEN_SIZE, EMBEDDING_SIZE, ORG_VOCAB_SIZE, DST_VOCAB_SIZE, START_IDX)"
   ]
  },
  {
   "cell_type": "code",
   "execution_count": 16,
   "metadata": {
    "colab": {
     "base_uri": "https://localhost:8080/",
     "height": 34
    },
    "colab_type": "code",
    "id": "ZdtTPagKO6oe",
    "outputId": "98201e5f-a734-471d-bde8-fd81bbc12c1a"
   },
   "outputs": [
    {
     "data": {
      "text/plain": [
       "84041"
      ]
     },
     "execution_count": 16,
     "metadata": {
      "tags": []
     },
     "output_type": "execute_result"
    }
   ],
   "source": [
    "num_trainable_parameters(seq2seqModel)"
   ]
  },
  {
   "cell_type": "markdown",
   "metadata": {
    "colab_type": "text",
    "id": "d8Ipl8-ntfOB"
   },
   "source": [
    "Finalmente como se puede ver en la celda superior, el modelo final de seq2seq (sin atención) con los siguientes hiper-parametros\n",
    "\n",
    "Tamaño Interno LSTM Cell | Tamaño del Embedding | Numero de  Capas | Bidireccionalidad\n",
    "--- | --- |--- | --- |\n",
    "50 | 25 | 1 | si\n",
    "\n",
    "tiene **84.041** parametros. La poca cantidad de parametros se explica por el pequeño tamaño del vocabulario y por tanto del Embedding tambien"
   ]
  },
  {
   "cell_type": "markdown",
   "metadata": {
    "colab_type": "text",
    "id": "Q4O4voU7O2yu"
   },
   "source": [
    "### Actividad 5"
   ]
  },
  {
   "cell_type": "markdown",
   "metadata": {
    "colab_type": "text",
    "id": "LVIwVRPouz4G"
   },
   "source": [
    "Para poder determinar como va variando la precisión a lo largo del entrenamiento creamos la función `calc_seq_accuracy` que dado dos vectores A y B. permite calcular el accurracy. A es un vector con las predicciones para cada una de las palabras de la sequencia y B contiene la codificacion (segun el vocab.) del groundtruth. \n",
    "\n",
    "Por esta razón se calcula para cada una de las palabras de la sequencia el indice del maximo de cada vector de A, (representa la predicción del modelo) y se compara con el valor de B correspondiente. Si calzan entonces la predicción fue correcta, y el acurracy aumenta proporcinoalmente (e.g. si se predicen la mita de la palbras de la secuencia correctamente se obtiene un accuracy del 50%)"
   ]
  },
  {
   "cell_type": "code",
   "execution_count": 0,
   "metadata": {
    "colab": {},
    "colab_type": "code",
    "id": "fijPWFFrTQ-q"
   },
   "outputs": [],
   "source": [
    "def calc_seq_accuracy(X,Y):\n",
    "   #round predictions to the closest integer\n",
    "    rounded_preds = (torch.sigmoid(X))\n",
    "    corrects = 0\n",
    "    for idx in range(len(rounded_preds)):\n",
    "      max_pred = torch.argmax(rounded_preds[idx])\n",
    "      #print(max_pred.item(), \"--\" ,Y[idx])\n",
    "      if max_pred.item() == Y[idx]:\n",
    "        corrects += 1      \n",
    "    acc = corrects/ len(rounded_preds)\n",
    "    #print(\"calc_acc\", acc)  \n",
    "    return acc"
   ]
  },
  {
   "cell_type": "markdown",
   "metadata": {
    "colab_type": "text",
    "id": "foDex5cmwmkQ"
   },
   "source": [
    "Es necesario crear una nueva función run ya que el criterio de perdida cambia a **CrossEntropy** para cada una de las predicciones de cada palabra de cada secuencia."
   ]
  },
  {
   "cell_type": "code",
   "execution_count": 0,
   "metadata": {
    "colab": {},
    "colab_type": "code",
    "id": "OPLt-fUbTmn9"
   },
   "outputs": [],
   "source": [
    "import time\n",
    "\n",
    "def run2(model, iterator, n_epochs = 20,  verbose=False):\n",
    "    # Define hyperparameters: number of epochs and learning rate\n",
    "    accurracy = []\n",
    "    # Define device, in this case CPU\n",
    "    # device = torch.device(\"cpu\") model.to(device)\n",
    "    # Define Loss, Optimizer, ex: cross entropy and Adam.\n",
    "    criterion = nn.CrossEntropyLoss()\n",
    "    criterion = criterion.to(device)\n",
    "    optimizer = torch.optim.Adam(model.parameters())\n",
    "    # Run training \n",
    "    for epoch in range(1, n_epochs + 1):\n",
    "        i = 0 \n",
    "        epoch_acc = 0\n",
    "        ti = time.time()\n",
    "        print(f\"epoca {epoch}\")\n",
    "        for batch in iterator: \n",
    "            i += 1\n",
    "            batch_acc = 0\n",
    "            # Reset gradients from previous epoch \n",
    "            tb = time.time()\n",
    "            optimizer.zero_grad()\n",
    "            # run model on inputs \n",
    "            input_batch = batch[\"IN\"]\n",
    "            output_batch = batch[\"OUT\"]\n",
    "            batch_size, seq_out_len = output_batch.size()\n",
    "            output = model(input_batch, seq_out_len)\n",
    "            # compute loss, run backprop, and update weights\n",
    "            for seq_idx in range(batch_size):\n",
    "              batch_acc += calc_seq_accuracy( output[seq_idx], output_batch[seq_idx])\n",
    "              #OJO:en ves de que ocupar la primera dimención como el batch_size \n",
    "              #se ocupa la primera dimencion como seq_len , lo cual en el fondo da lo mismo\n",
    "              #por que para cada palabra de la secuencia se compara la diferencia con la dimensión \n",
    "              #correcta entregada por el target (en este caso output_batch[seq_idx])\n",
    "              #leyendo el doc. queda claro https://pytorch.org/docs/master/generated/torch.nn.CrossEntropyLoss.html\n",
    "              loss = criterion(output[seq_idx],  output_batch[seq_idx])   \n",
    "            batch_acc = batch_acc/batch_size\n",
    "            epoch_acc += batch_acc\n",
    "            loss.backward() \n",
    "            optimizer.step()\n",
    "            if(verbose):\n",
    "              print(\"batch: {0}/ accurracy {1}/ time: {2}\".format(i, batch_acc,\n",
    "                                                                  time.time()-  tb))\n",
    "              \n",
    "        accurracy.append(epoch_acc / len(iterator)) \n",
    "        print(\"tiempo entrenamiento epoca: {0}/ accurracy: {1}\".format(time.time()-ti, \n",
    "        epoch_acc / len(iterator)))\n",
    "    \n",
    "    return accurracy"
   ]
  },
  {
   "cell_type": "markdown",
   "metadata": {
    "colab_type": "text",
    "id": "uZQH4zS_xk9P"
   },
   "source": [
    "A continuación instanciamos un modelo con los parametros presentados en la celda siguiente. (El indice de start es 1 porque asi esta definido en el objeto Dataset)"
   ]
  },
  {
   "cell_type": "code",
   "execution_count": 0,
   "metadata": {
    "colab": {},
    "colab_type": "code",
    "id": "8oEiU6izgsax"
   },
   "outputs": [],
   "source": [
    "HIDEN_SIZE = 50\n",
    "EMBEDDING_SIZE = 25\n",
    "ORG_VOCAB_SIZE = 17\n",
    "DST_VOCAB_SIZE = 16\n",
    "START_IDX = 1\n",
    "\n",
    "seq2seqModel = Seq2Seq(HIDEN_SIZE, EMBEDDING_SIZE, ORG_VOCAB_SIZE, DST_VOCAB_SIZE, START_IDX)"
   ]
  },
  {
   "cell_type": "code",
   "execution_count": 20,
   "metadata": {
    "colab": {
     "base_uri": "https://localhost:8080/",
     "height": 527
    },
    "colab_type": "code",
    "id": "MSeozbk7XlAS",
    "outputId": "75abb5b8-499d-4ff4-99a6-1052ccecb3b9"
   },
   "outputs": [
    {
     "name": "stdout",
     "output_type": "stream",
     "text": [
      "epoca 1\n",
      "tiempo entrenamiento epoca: 37.986417055130005/ accurracy: 0.6737129868527288\n",
      "epoca 2\n",
      "tiempo entrenamiento epoca: 38.00105857849121/ accurracy: 0.7508841945845057\n",
      "epoca 3\n",
      "tiempo entrenamiento epoca: 37.66432857513428/ accurracy: 0.7659508685725462\n",
      "epoca 4\n",
      "tiempo entrenamiento epoca: 37.9838969707489/ accurracy: 0.7766929254073055\n",
      "epoca 5\n",
      "tiempo entrenamiento epoca: 37.795119285583496/ accurracy: 0.8006530874587174\n",
      "epoca 6\n",
      "tiempo entrenamiento epoca: 38.30849051475525/ accurracy: 0.8312341803134425\n",
      "epoca 7\n",
      "tiempo entrenamiento epoca: 37.785590171813965/ accurracy: 0.8381349726966794\n",
      "epoca 8\n",
      "tiempo entrenamiento epoca: 38.04938364028931/ accurracy: 0.8402427206580395\n",
      "epoca 9\n",
      "tiempo entrenamiento epoca: 38.02621579170227/ accurracy: 0.8434377534255553\n",
      "epoca 10\n",
      "tiempo entrenamiento epoca: 37.82660675048828/ accurracy: 0.8505471413807731\n",
      "epoca 11\n",
      "tiempo entrenamiento epoca: 38.25316619873047/ accurracy: 0.852403948087242\n",
      "epoca 12\n",
      "tiempo entrenamiento epoca: 38.10805368423462/ accurracy: 0.8559284785995459\n",
      "epoca 13\n",
      "tiempo entrenamiento epoca: 38.18638253211975/ accurracy: 0.8598196529395639\n",
      "epoca 14\n",
      "tiempo entrenamiento epoca: 37.59664225578308/ accurracy: 0.860101788920335\n",
      "epoca 15\n",
      "tiempo entrenamiento epoca: 37.654871463775635/ accurracy: 0.8662656856239976\n"
     ]
    }
   ],
   "source": [
    "acc_seq2seq = run2(seq2seqModel, train_scan_dataloader, n_epochs=15, verbose=False )"
   ]
  },
  {
   "cell_type": "code",
   "execution_count": 21,
   "metadata": {
    "colab": {
     "base_uri": "https://localhost:8080/",
     "height": 285
    },
    "colab_type": "code",
    "id": "yAKNW5KsumSd",
    "outputId": "89fa7415-fae6-4068-f201-4caa6fa02bde"
   },
   "outputs": [
    {
     "data": {
      "text/plain": [
       "[<matplotlib.lines.Line2D at 0x7fc0a21bafd0>]"
      ]
     },
     "execution_count": 21,
     "metadata": {
      "tags": []
     },
     "output_type": "execute_result"
    },
    {
     "data": {
      "image/png": "[encoded data removed]",
      "text/plain": [
       "<Figure size 432x288 with 1 Axes>"
      ]
     },
     "metadata": {
      "needs_background": "light",
      "tags": []
     },
     "output_type": "display_data"
    }
   ],
   "source": [
    "plt.plot(acc_seq2seq)"
   ]
  },
  {
   "cell_type": "markdown",
   "metadata": {
    "colab_type": "text",
    "id": "TJD7VpZDyGXt"
   },
   "source": [
    "Finalmente luego de 15 epocas de entrenamiento, llegamos a buenos resultados y el accurracy dentro del set de entrenamiento empieza a converge a un 86,5%.  En un tiempo de entrenamiento relativamente bajo de 9 minutos. "
   ]
  },
  {
   "cell_type": "markdown",
   "metadata": {
    "colab_type": "text",
    "id": "lPa0GGFF2epr"
   },
   "source": [
    "### Actividad 6"
   ]
  },
  {
   "cell_type": "markdown",
   "metadata": {
    "colab_type": "text",
    "id": "4HB29DrE1ZAF"
   },
   "source": [
    "En esta sección se implmenra un modelo seq2seq pero esta vez con atención. Para lograr esto crearemos un modulo **AtentionDecoderModule** que a su vez usa el modulo **AttentionModule**, el cual permite calcular el resultado de atención dada una *Query*. Para Finalizar crearemos un Modulo **Seq2SeqAtention** que engloba al encoder antiguo y el decoder nuevo, y ajusta los parametros para que todo calze."
   ]
  },
  {
   "cell_type": "markdown",
   "metadata": {
    "colab_type": "text",
    "id": "jkRTUfibpn7c"
   },
   "source": [
    "A continuación implementaremos un nuevo decoder que incluye atención:\n",
    "\n",
    "* Es clave notar que el tamaño de la capa lineal es 2 veces el tamaño de la dimensión interna. esto es devido a que para hacer la predicción se usara el estado h_t (igual que antes) pero ademas se usara el resultado de la query O_t que tiene la misma dimensión que la dimensión interna.\n",
    "\n",
    "* Como el el encoder es bidireccional entonces el tamaño de la dimension de ht que entrega sea 2 veces la dimensión interna del encoder. Por tanto devido a esto y a la concatenación de O_t la capa interna tiene una dimensión de input equivalente a 4 veces la capa interna del encoder. Lo cual explica el **aumento de parametros**."
   ]
  },
  {
   "cell_type": "code",
   "execution_count": 0,
   "metadata": {
    "colab": {},
    "colab_type": "code",
    "id": "4as2tAeepxWY"
   },
   "outputs": [],
   "source": [
    "class AtentionDecoderModule(nn.Module):\n",
    "    def __init__( self, embeddings_table, embeddings_size, hidden_size, start_idx, dst_vocab_size ): \n",
    "        super().__init__()\n",
    "        self.embeddings_table = embeddings_table \n",
    "        self.embeddings_size = embeddings_size \n",
    "        self.hidden_size = hidden_size \n",
    "        self.start_idx = torch.tensor(start_idx).to(device)\n",
    "        # capa que mapee estado interno de decodificador a vocabulario de salida \n",
    "        self.W_vocab = torch.nn.Linear(hidden_size*2, dst_vocab_size) # TODO: completar parametros\n",
    "      \n",
    "        # decodificador recurrente\n",
    "        self.lstm_cell = torch.nn.LSTMCell(input_size=embeddings_size, hidden_size=hidden_size) # TODO: completar parametros\n",
    "        self.attention = AttentionModule(self.hidden_size)\n",
    "\n",
    "    def forward( self, all_enc_hidden_states, final_enc_hidden_states, final_enc_cell_states, max_sentence_length, batch_size): \n",
    "        out = []\n",
    "        coef = []\n",
    "        # estado oculto (h, c) inicial para decodificador \n",
    "        state = (final_enc_hidden_states, final_enc_cell_states)\n",
    "        # loop de decodificacion\n",
    "        y_t = self.embeddings_table(self.start_idx.repeat(batch_size))\n",
    "        for i in range(max_sentence_length):\n",
    "            state = self.lstm_cell(y_t, state) \n",
    "            h_t, _ = state\n",
    "\n",
    "            # obtener representacion batch*hidden usando atencion \n",
    "            O_t, A = self.attention(h_t, all_enc_hidden_states)\n",
    "            # calular logits de salida usando W_vocab\n",
    "            concat_input = torch.cat((h_t, O_t), -1) \n",
    "            P_t = self.W_vocab(concat_input) \n",
    "            out.append(P_t)\n",
    "            coef.append(A) #para poder visualizar\n",
    "            _, max_indices = P_t.max(dim=1) \n",
    "            y_t = self.embeddings_table(max_indices)\n",
    "        \n",
    "        return torch.stack(out, dim=1), torch.stack(coef, dim = 1)"
   ]
  },
  {
   "cell_type": "markdown",
   "metadata": {
    "colab_type": "text",
    "id": "yoM3xzj2yBhw"
   },
   "source": [
    "Luego tambien implementamos el modulo de antencion"
   ]
  },
  {
   "cell_type": "code",
   "execution_count": 0,
   "metadata": {
    "colab": {},
    "colab_type": "code",
    "id": "JZ-nwBAZyFrU"
   },
   "outputs": [],
   "source": [
    "class AttentionModule(nn.Module):\n",
    "    def __init__(self, hidden_size):\n",
    "        super().__init__()\n",
    "        self.hidden_size = hidden_size\n",
    "\n",
    "    def forward( self, h_t, all_enc_hidden_states):\n",
    "        # TODO: completar return O_t\n",
    "        soft = nn.Softmax(dim = 0)\n",
    "        cos = nn.CosineSimilarity(dim=0, eps=1e-6)\n",
    "        batch_len, seq_out_len, _ = all_enc_hidden_states.size()\n",
    "        o_t = []\n",
    "        A = [] #para poder visualizar\n",
    "        for seq in range(batch_len):\n",
    "            h_seq = h_t[seq]\n",
    "            all_enc_seq  =  all_enc_hidden_states[seq]  \n",
    "            seq_scores = []\n",
    "            for h_i_seq in all_enc_seq:\n",
    "              sim_i = torch.cosine_similarity(h_seq.view(1, -1), h_i_seq.view(1, -1))\n",
    "              seq_scores.append(sim_i.item())\n",
    "            seq_scores = soft(torch.tensor(seq_scores))\n",
    "            A.append(seq_scores) #para poder visualizar\n",
    "            o_i = torch.mm(seq_scores.unsqueeze(0), all_enc_seq)\n",
    "            o_t.append(o_i.squeeze())\n",
    "        o_t = torch.stack(o_t, dim=0)\n",
    "        A = torch.stack(A, dim=0)\n",
    "        return o_t, A\n"
   ]
  },
  {
   "cell_type": "markdown",
   "metadata": {
    "colab_type": "text",
    "id": "ADzXg6RQ2Wk5"
   },
   "source": [
    "Finalmente es necesario hacer un nuevo modelo que incluya este nuevo decoder"
   ]
  },
  {
   "cell_type": "code",
   "execution_count": 0,
   "metadata": {
    "colab": {},
    "colab_type": "code",
    "id": "poxoX1SL2ajA"
   },
   "outputs": [],
   "source": [
    "class Seq2SeqAtention(nn.Module):\n",
    "\n",
    "    def __init__(self, hidden_size, embedding_size, org_vocab_size, dst_vocab_size, start_idx):\n",
    "      super().__init__()\n",
    "      self.start_idx = start_idx\n",
    "      self.hidden_size = hidden_size\n",
    "      self.embedding_size = embedding_size\n",
    "      self.inEmbedding = nn.Embedding(org_vocab_size, embedding_size)\n",
    "      self.encoder = EncoderModule(self.inEmbedding, self.embedding_size, self.hidden_size)\n",
    "      self.outEmbedding = nn.Embedding(dst_vocab_size, embedding_size)\n",
    "      self.decoder = AtentionDecoderModule(self.outEmbedding, self.embedding_size,\n",
    "                                           self.hidden_size*2, self.start_idx, \n",
    "                                           dst_vocab_size)\n",
    "      self.coef = []\n",
    "      \n",
    "    def forward(self, input, max_sentence_length, get_coef = False):\n",
    "\n",
    "      batch_size, in_seq_len = input.shape\n",
    "      all_hidden_states, last_hidden_states, last_cell_states = self.encoder(input, in_seq_len)\n",
    "      #print(f\"all_hidden_states {all_hidden_states.size()} last_hidden_states {last_hidden_states.shape} \")\n",
    "      out, coef = self.decoder(all_hidden_states, last_hidden_states,\n",
    "                              last_cell_states, max_sentence_length, batch_size)\n",
    "      if(get_coef):\n",
    "          return out, coef\n",
    "      return out"
   ]
  },
  {
   "cell_type": "markdown",
   "metadata": {
    "colab_type": "text",
    "id": "_Celcemv3b-6"
   },
   "source": [
    "Luego Instanciamos un modelo de seq2seq con exactamente los mismos hiper-parametros que se usaron para la sección 4 y 5 (de tal forma de conseguir una mejor comparación). Como se Menciono al comienzo, Es claro que la cantidad de parametros aumenta, pero no de manera considerable. Pasando de **84041** a **85641**"
   ]
  },
  {
   "cell_type": "code",
   "execution_count": 0,
   "metadata": {
    "colab": {},
    "colab_type": "code",
    "id": "h8bzfmPJ3OL2"
   },
   "outputs": [],
   "source": [
    "HIDEN_SIZE = 50\n",
    "EMBEDDING_SIZE = 25\n",
    "ORG_VOCAB_SIZE = 17\n",
    "DST_VOCAB_SIZE = 16\n",
    "START_IDX = 1\n",
    "\n",
    "seq2seqModelAt = Seq2SeqAtention(HIDEN_SIZE, EMBEDDING_SIZE, ORG_VOCAB_SIZE, DST_VOCAB_SIZE, START_IDX)"
   ]
  },
  {
   "cell_type": "code",
   "execution_count": 185,
   "metadata": {
    "colab": {
     "base_uri": "https://localhost:8080/",
     "height": 34
    },
    "colab_type": "code",
    "id": "o2D-NjoFMU7U",
    "outputId": "c7f837d4-db29-47b1-9ad1-11e67a6c439e"
   },
   "outputs": [
    {
     "data": {
      "text/plain": [
       "85641"
      ]
     },
     "execution_count": 185,
     "metadata": {
      "tags": []
     },
     "output_type": "execute_result"
    }
   ],
   "source": [
    "num_trainable_parameters(seq2seqModelAt)"
   ]
  },
  {
   "cell_type": "markdown",
   "metadata": {
    "colab_type": "text",
    "id": "SbTfVLIsMoVj"
   },
   "source": [
    "### Actividad 7"
   ]
  },
  {
   "cell_type": "markdown",
   "metadata": {
    "colab_type": "text",
    "id": "KC08IXCG9vR4"
   },
   "source": [
    "Finalmente devido a que ya teniamos la función `run2` podemos simplemente probar nuestro nuevo modelo con atención con la ayuda del dataloader **train_scan_dataloader**"
   ]
  },
  {
   "cell_type": "code",
   "execution_count": 229,
   "metadata": {
    "colab": {
     "base_uri": "https://localhost:8080/",
     "height": 119
    },
    "colab_type": "code",
    "id": "czGYuIs1QR-P",
    "outputId": "219f97fd-52ab-4a59-9edc-1c5b6ce36d2b"
   },
   "outputs": [
    {
     "name": "stdout",
     "output_type": "stream",
     "text": [
      "epoca 1\n",
      "tiempo entrenamiento epoca: 540.0571279525757/ accurracy: 0.7038530748787276\n",
      "epoca 2\n",
      "tiempo entrenamiento epoca: 543.7837119102478/ accurracy: 0.747358181614797\n",
      "epoca 3\n",
      "tiempo entrenamiento epoca: 546.4147329330444/ accurracy: 0.7781016644012783\n"
     ]
    }
   ],
   "source": [
    "acc_seq2seq = run2(seq2seqModelAt, train_scan_dataloader, n_epochs=3, verbose=False )"
   ]
  },
  {
   "cell_type": "code",
   "execution_count": 200,
   "metadata": {
    "colab": {
     "base_uri": "https://localhost:8080/",
     "height": 187
    },
    "colab_type": "code",
    "id": "rAYYiq6PeFZE",
    "outputId": "d9b2b964-36f1-47b8-d4ec-0575d4f6b6f3"
   },
   "outputs": [
    {
     "name": "stdout",
     "output_type": "stream",
     "text": [
      "epoca 1\n",
      "tiempo entrenamiento epoca: 545.5504794120789/ accurracy: 0.8226393428476018\n",
      "epoca 2\n",
      "tiempo entrenamiento epoca: 542.7610578536987/ accurracy: 0.8278766811426662\n",
      "epoca 3\n",
      "tiempo entrenamiento epoca: 546.3871471881866/ accurracy: 0.8296325765029368\n",
      "epoca 4\n",
      "tiempo entrenamiento epoca: 543.7127604484558/ accurracy: 0.8328133038326698\n",
      "epoca 5\n",
      "tiempo entrenamiento epoca: 542.0499656200409/ accurracy: 0.8320050296432459\n"
     ]
    }
   ],
   "source": [
    "acc_seq2seq_2 = run2(seq2seqModelAt, train_scan_dataloader, n_epochs=5, verbose=False )"
   ]
  },
  {
   "cell_type": "code",
   "execution_count": 201,
   "metadata": {
    "colab": {
     "base_uri": "https://localhost:8080/",
     "height": 282
    },
    "colab_type": "code",
    "id": "MpkvPN_wzUxD",
    "outputId": "72c6aded-f62e-4a14-88d6-a1c44ea6ae7f"
   },
   "outputs": [
    {
     "data": {
      "text/plain": [
       "[<matplotlib.lines.Line2D at 0x7fc0a1af30b8>]"
      ]
     },
     "execution_count": 201,
     "metadata": {
      "tags": []
     },
     "output_type": "execute_result"
    },
    {
     "data": {
      "image/png": "[encoded data removed]",
      "text/plain": [
       "<Figure size 432x288 with 1 Axes>"
      ]
     },
     "metadata": {
      "needs_background": "light",
      "tags": []
     },
     "output_type": "display_data"
    }
   ],
   "source": [
    "plt.plot(acc_seq2seq + acc_seq2seq_2)"
   ]
  },
  {
   "cell_type": "markdown",
   "metadata": {
    "colab_type": "text",
    "id": "8t7uLGeP-1CJ"
   },
   "source": [
    "Luego de realizar el entrenamiento, el modelo con atencón llego a un acurracy del 83% en tan solo 10 epocas. Lamentablemente con los **hiper-parametros utilizados**, el modelo de atención no logro un resultado considerablemente mejor, sin embargo, aumento el tiempo de entrenamiento Bastante. El aumento del tiempo tan drastico se deve al calculo del query, el cual ademas de ser costoso, podria estar mucho mejor implementado. "
   ]
  },
  {
   "cell_type": "markdown",
   "metadata": {
    "colab_type": "text",
    "id": "6CFHpR4zEv9T"
   },
   "source": [
    "### Actividad 8"
   ]
  },
  {
   "cell_type": "markdown",
   "metadata": {
    "colab_type": "text",
    "id": "zqe6wxU0FAhi"
   },
   "source": [
    "Cargamos el set de testeo"
   ]
  },
  {
   "cell_type": "code",
   "execution_count": 0,
   "metadata": {
    "colab": {},
    "colab_type": "code",
    "id": "t58Myn3CFCUC"
   },
   "outputs": [],
   "source": [
    "testScanDataset = SimpleScanDataset(\"drive/My Drive/SCAN/tasks_test_simple.txt\")\n",
    "test_scan_dataloader = DataLoader(trainScanDataset, batch_size= 2,\n",
    "                                   collate_fn= scan_collate, drop_last=True)"
   ]
  },
  {
   "cell_type": "code",
   "execution_count": 0,
   "metadata": {
    "colab": {},
    "colab_type": "code",
    "id": "TGYRW1QlMero"
   },
   "outputs": [],
   "source": [
    "import pandas as pd\n",
    "import numpy as np\n",
    "def coef_to_df(coef, columns, index):\n",
    "    rectangular = []\n",
    "    for token in coef:\n",
    "      rectangular.append(token.tolist())\n",
    "    df = pd.DataFrame(np.array(rectangular), columns=columns, index=index) \n",
    "    return df"
   ]
  },
  {
   "cell_type": "code",
   "execution_count": 0,
   "metadata": {
    "colab": {},
    "colab_type": "code",
    "id": "L2AJtgkxOtgC"
   },
   "outputs": [],
   "source": [
    "def get_prediction(X):\n",
    "    rounded_preds = (torch.sigmoid(X))\n",
    "    predc = []\n",
    "    for idx in range(len(rounded_preds)):\n",
    "      max_pred = torch.argmax(rounded_preds[idx])\n",
    "      predc.append(max_pred.item())\n",
    "    return predc  "
   ]
  },
  {
   "cell_type": "code",
   "execution_count": 0,
   "metadata": {
    "colab": {},
    "colab_type": "code",
    "id": "1fC-HlKBPqdj"
   },
   "outputs": [],
   "source": [
    "def get_word(vocab, idx):\n",
    "  for key, value in vocab.items():\n",
    "    if idx == value:\n",
    "      return key"
   ]
  },
  {
   "cell_type": "code",
   "execution_count": 239,
   "metadata": {
    "colab": {
     "base_uri": "https://localhost:8080/",
     "height": 71
    },
    "colab_type": "code",
    "id": "USFHkGjkRrXg",
    "outputId": "5328df55-d6f9-45d0-a7e1-32c1ee815d37"
   },
   "outputs": [
    {
     "name": "stderr",
     "output_type": "stream",
     "text": [
      "/usr/local/lib/python3.6/dist-packages/statsmodels/tools/_testing.py:19: FutureWarning: pandas.util.testing is deprecated. Use the functions in the public API at pandas.testing instead.\n",
      "  import pandas.util.testing as tm\n"
     ]
    }
   ],
   "source": [
    "import seaborn as sns; sns.set()"
   ]
  },
  {
   "cell_type": "code",
   "execution_count": 249,
   "metadata": {
    "colab": {
     "base_uri": "https://localhost:8080/",
     "height": 398
    },
    "colab_type": "code",
    "id": "H6bv-QulE25y",
    "outputId": "26fbbd6e-d5b0-42f4-d9cc-b856f0ff6ac6"
   },
   "outputs": [
    {
     "name": "stdout",
     "output_type": "stream",
     "text": [
      "batch size: 2 seq out len: 48\n",
      "seq in len: 9\n",
      "output shape torch.Size([2, 48, 16])\n",
      "coef shaoe torch.Size([2, 48, 9])\n",
      "48\n"
     ]
    },
    {
     "data": {
      "image/png": "[encoded data removed]",
      "text/plain": [
       "<Figure size 432x288 with 2 Axes>"
      ]
     },
     "metadata": {
      "tags": []
     },
     "output_type": "display_data"
    }
   ],
   "source": [
    "for batch in test_scan_dataloader:\n",
    "    input_batch = batch[\"IN\"]\n",
    "    output_batch = batch[\"OUT\"]\n",
    "    batch_size, seq_out_len = output_batch.size()\n",
    "    _, seq_in_len = input_batch.size()\n",
    "    print(\"batch size:\", batch_size, \"seq out len:\", seq_out_len)\n",
    "    print(\"seq in len:\", seq_in_len)\n",
    "    output , coef = seq2seqModelAt2(input_batch, seq_out_len, get_coef = True)\n",
    "    print(\"output shape\", output.shape)\n",
    "    print(\"coef shaoe\", coef.shape)\n",
    "    i = 0\n",
    "    for seq in output:\n",
    "      predc = get_prediction(seq)\n",
    "      sample = [get_word(trainScanDataset.inVocab, idx) for idx in input_batch[i]]\n",
    "      predc = [get_word(trainScanDataset.outVocab, idx) for idx in predc]\n",
    "      print(len(predc))\n",
    "      df = coef_to_df(coef[i], sample, predc)\n",
    "      #print(df)\n",
    "      ax = sns.heatmap(df)\n",
    "      i += 1\n",
    "      break\n",
    "    break  "
   ]
  }
 ],
 "metadata": {
  "accelerator": "TPU",
  "colab": {
   "authorship_tag": "ABX9TyNqnd6FPS4itfCBD+9Cfbzu",
   "collapsed_sections": [],
   "include_colab_link": true,
   "mount_file_id": "1L51KW0Df40qm5EQLhrLRAOVKxo-VitUE",
   "name": "HW2.ipynb",
   "provenance": []
  },
  "kernelspec": {
   "display_name": "Python 3",
   "language": "python",
   "name": "python3"
  },
  "language_info": {
   "codemirror_mode": {
    "name": "ipython",
    "version": 3
   },
   "file_extension": ".py",
   "mimetype": "text/x-python",
   "name": "python",
   "nbconvert_exporter": "python",
   "pygments_lexer": "ipython3",
   "version": "3.8.1"
  }
 },
 "nbformat": 4,
 "nbformat_minor": 1
}
